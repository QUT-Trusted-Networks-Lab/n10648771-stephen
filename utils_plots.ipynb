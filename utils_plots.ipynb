{
 "cells": [
  {
   "cell_type": "code",
   "execution_count": 1,
   "metadata": {},
   "outputs": [],
   "source": [
    "import matplotlib.pyplot as plt\n",
    "import matplotlib\n",
    "\n",
    "\n",
    "def plot_data(x, y, title=\"title\", xlabel=\"xlabel\", ylabel=\"ylabel\", legend=None):\n",
    "    matplotlib.rcParams.update({'font.size': 18})\n",
    "    figure = plt.figure(figsize=(12, 9), dpi=100)\n",
    "    plt.plot(x, y, label=legend)\n",
    "    plt.xlabel(xlabel)\n",
    "    plt.ylabel(ylabel)\n",
    "    plt.title(title)\n",
    "    plt.grid(True)\n",
    "    plt.ylim((0, 1))\n",
    "    plt.xlim((0, 1))\n",
    "    plt.legend()\n",
    "    plt.savefig(settings.output_directory_plots + title + \".png\")\n",
    "    # plt.show()\n",
    "    return figure\n",
    "\n",
    "\n",
    "def add_plot_to_figure(x, y, figure, title=\"title\", legend=None):\n",
    "    plt.figure(figure.number)\n",
    "    plt.plot(x, y, label=legend)\n",
    "    plt.legend()\n",
    "    plt.savefig(settings.output_directory_plots + title + \".png\")\n",
    "    return figure\n",
    "\n",
    "\n",
    "# --------------------------------------------------------------------------\n",
    "# Other useful tools\n",
    "# fig = plt.figure(figsize=(12, 6))\n",
    "# ax = plt.subplot(121)"
   ]
  },
  {
   "cell_type": "code",
   "execution_count": null,
   "metadata": {},
   "outputs": [],
   "source": []
  }
 ],
 "metadata": {
  "kernelspec": {
   "display_name": "Python 3",
   "language": "python",
   "name": "python3"
  },
  "language_info": {
   "codemirror_mode": {
    "name": "ipython",
    "version": 3
   },
   "file_extension": ".py",
   "mimetype": "text/x-python",
   "name": "python",
   "nbconvert_exporter": "python",
   "pygments_lexer": "ipython3",
   "version": "3.7.6"
  }
 },
 "nbformat": 4,
 "nbformat_minor": 4
}
