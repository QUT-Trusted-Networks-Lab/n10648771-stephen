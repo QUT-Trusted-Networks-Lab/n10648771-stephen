{
 "cells": [
  {
   "cell_type": "code",
   "execution_count": 1,
   "metadata": {},
   "outputs": [],
   "source": [
    "import pandas as pd\n",
    "import numpy as np\n",
    "import warnings\n",
    "warnings.filterwarnings(\"ignore\")\n",
    "import matplotlib.pyplot as plt\n",
    "from scipy.special import comb\n",
    "from scipy.stats import binom"
   ]
  },
  {
   "cell_type": "code",
   "execution_count": 2,
   "metadata": {},
   "outputs": [],
   "source": [
    "df_case_js=pd.read_excel('datafile/casedata.xlsx')\n",
    "df_case=pd.read_csv('datafile/case_time.csv')\n",
    "df_test=pd.read_csv('datafile/testdata.csv')\n",
    "df_nsw=pd.read_csv('datafile/COVID_AU_state_cumulative.csv')"
   ]
  },
  {
   "cell_type": "code",
   "execution_count": 3,
   "metadata": {},
   "outputs": [],
   "source": [
    "df_case_js.drop(columns=['Venue','Address','Time','Alert','HealthinformationHTML'], inplace=True)"
   ]
  },
  {
   "cell_type": "code",
   "execution_count": 4,
   "metadata": {},
   "outputs": [],
   "source": [
    "df_case.fillna(method='ffill',inplace=True)\n",
    "df_case['postcode']=df_case.postcode.astype('int')\n",
    "df_case.drop(columns=['lga_name19','lga_code19','lhd_2010_code','lhd_2010_name'], inplace=True)\n",
    "df_case.rename(columns={'notification_date':'date'},inplace=True)\n",
    "df_test.drop(columns=['lga_name19','lga_code19','lhd_2010_code','lhd_2010_name'], inplace=True)\n",
    "df_test.rename(columns={'test_date':'date'},inplace=True)\n",
    "df_case['infected']=1\n",
    "dfx=df_case.loc[df_case['postcode']==2026]\n",
    "dfx['date']=pd.to_datetime(dfx['date'])\n",
    "dfx.drop(columns='postcode',inplace=True)\n",
    "z=dfx.groupby('date')['infected'].sum().reset_index() # infected\n",
    "x=df_test.loc[df_test['postcode']==2026]\n",
    "x['date']=pd.to_datetime(x['date'])\n",
    "rng = pd.date_range('2020-1-30', periods=100, freq='D')\n",
    "df = pd.DataFrame({ 'date': rng }) \n",
    "m = x.merge(df, left_on=['date'], right_on=['date'], how='right')\n",
    "d = z.merge(m, left_on=['date'], right_on=['date'], how='right') \n",
    "d=d.fillna(0)\n",
    "d.drop(columns='postcode',inplace=True)\n",
    "df_nsw=df_nsw.loc[df_nsw['state_abbrev']=='NSW']\n",
    "df_nsw.drop(columns=['state', 'state_abbrev'],inplace =True)\n",
    "df_nsw['date']=pd.to_datetime(df_nsw['date'])\n",
    "final = df_nsw.merge(d, left_on=['date'], right_on=['date'], how='right')\n",
    "final.set_index(final['date'],inplace=True)\n",
    "final.drop(columns='date',inplace=True)\n",
    "final=final.astype('int')"
   ]
  },
  {
   "cell_type": "code",
   "execution_count": 13,
   "metadata": {},
   "outputs": [
    {
     "name": "stdout",
     "output_type": "stream",
     "text": [
      "<class 'pandas.core.frame.DataFrame'>\n",
      "DatetimeIndex: 100 entries, 2020-01-30 to 2020-05-08\n",
      "Data columns (total 10 columns):\n",
      " #   Column      Non-Null Count  Dtype\n",
      "---  ------      --------------  -----\n",
      " 0   confirmed   100 non-null    int32\n",
      " 1   deaths      100 non-null    int32\n",
      " 2   tests       100 non-null    int32\n",
      " 3   positives   100 non-null    int32\n",
      " 4   recovered   100 non-null    int32\n",
      " 5   hosp        100 non-null    int32\n",
      " 6   icu         100 non-null    int32\n",
      " 7   vent        100 non-null    int32\n",
      " 8   infected    100 non-null    int32\n",
      " 9   test_count  100 non-null    int32\n",
      "dtypes: int32(10)\n",
      "memory usage: 4.7 KB\n"
     ]
    }
   ],
   "source": [
    "final.info()"
   ]
  },
  {
   "cell_type": "markdown",
   "metadata": {},
   "source": [
    "# UA: "
   ]
  },
  {
   "cell_type": "markdown",
   "metadata": {},
   "source": [
    "- Gọi: \n",
    "   + n: là dân số (population)\n",
    "   + c(t) là tổng số ca nhiễm theo t\n",
    "   + q là tỉ lệ người UA bị bệnh, T là số người tham gia quá trình detection (có thể coi là số người admit to clinic trong NSW dataset)\n",
    "   + T là thời gian phát hiện bệnh. Trong đây coi T là 10 ngày (incubation period) nhưng lấy trung bình là 7.5 ngày\n",
    "   + k là size of sample\n",
    "   + m is the number of people infected in the size k"
   ]
  },
  {
   "cell_type": "code",
   "execution_count": 8,
   "metadata": {},
   "outputs": [],
   "source": [
    "#defined subjects: \n",
    "N = 25e6 #population\n",
    "# q: fraction of underascertainment\n",
    "c_array=final['confirmed'] # culmulative cases\n",
    "T=8 #incubation period\n"
   ]
  },
  {
   "cell_type": "code",
   "execution_count": 19,
   "metadata": {},
   "outputs": [
    {
     "data": {
      "text/plain": [
       "21.0"
      ]
     },
     "execution_count": 19,
     "metadata": {},
     "output_type": "execute_result"
    }
   ],
   "source": [
    "com(k,m)"
   ]
  },
  {
   "cell_type": "code",
   "execution_count": 10,
   "metadata": {},
   "outputs": [],
   "source": [
    "from sympy import *\n",
    "from scipy.optimize import fsolve\n",
    "\n",
    "from sympy.solvers.solveset import linsolve"
   ]
  },
  {
   "cell_type": "code",
   "execution_count": 2,
   "metadata": {},
   "outputs": [],
   "source": [
    "a,b= symbols('a, b')"
   ]
  },
  {
   "cell_type": "code",
   "execution_count": 3,
   "metadata": {},
   "outputs": [
    {
     "data": {
      "text/latex": [
       "$\\displaystyle \\left\\{\\left( 2, \\  -1\\right)\\right\\}$"
      ],
      "text/plain": [
       "FiniteSet((2, -1))"
      ]
     },
     "execution_count": 3,
     "metadata": {},
     "output_type": "execute_result"
    }
   ],
   "source": [
    "linsolve([a+b- 1, a-b - 3 ], (a,b))"
   ]
  },
  {
   "cell_type": "code",
   "execution_count": 3,
   "metadata": {},
   "outputs": [],
   "source": [
    "df = pd.read_csv(r'datafile/contact_data.csv')"
   ]
  },
  {
   "cell_type": "code",
   "execution_count": 8,
   "metadata": {},
   "outputs": [
    {
     "data": {
      "text/html": [
       "<div>\n",
       "<style scoped>\n",
       "    .dataframe tbody tr th:only-of-type {\n",
       "        vertical-align: middle;\n",
       "    }\n",
       "\n",
       "    .dataframe tbody tr th {\n",
       "        vertical-align: top;\n",
       "    }\n",
       "\n",
       "    .dataframe thead th {\n",
       "        text-align: right;\n",
       "    }\n",
       "</style>\n",
       "<table border=\"1\" class=\"dataframe\">\n",
       "  <thead>\n",
       "    <tr style=\"text-align: right;\">\n",
       "      <th></th>\n",
       "      <th>part_id</th>\n",
       "      <th>cont_id</th>\n",
       "      <th>cnt_age_exact</th>\n",
       "      <th>cnt_age_est_min</th>\n",
       "      <th>cnt_age_est_max</th>\n",
       "      <th>cnt_gender</th>\n",
       "      <th>cnt_home</th>\n",
       "      <th>cnt_work</th>\n",
       "      <th>cnt_school</th>\n",
       "      <th>cnt_transport</th>\n",
       "      <th>cnt_leisure</th>\n",
       "      <th>cnt_otherplace</th>\n",
       "      <th>frequency_multi</th>\n",
       "      <th>phys_contact</th>\n",
       "      <th>duration_multi</th>\n",
       "    </tr>\n",
       "  </thead>\n",
       "  <tbody>\n",
       "    <tr>\n",
       "      <th>0</th>\n",
       "      <td>1</td>\n",
       "      <td>101</td>\n",
       "      <td>42.0</td>\n",
       "      <td>42.0</td>\n",
       "      <td>NaN</td>\n",
       "      <td>F</td>\n",
       "      <td>True</td>\n",
       "      <td>False</td>\n",
       "      <td>False</td>\n",
       "      <td>False</td>\n",
       "      <td>False</td>\n",
       "      <td>False</td>\n",
       "      <td>1.0</td>\n",
       "      <td>1.0</td>\n",
       "      <td>4.0</td>\n",
       "    </tr>\n",
       "    <tr>\n",
       "      <th>1</th>\n",
       "      <td>1</td>\n",
       "      <td>102</td>\n",
       "      <td>9.0</td>\n",
       "      <td>9.0</td>\n",
       "      <td>NaN</td>\n",
       "      <td>F</td>\n",
       "      <td>False</td>\n",
       "      <td>False</td>\n",
       "      <td>True</td>\n",
       "      <td>False</td>\n",
       "      <td>False</td>\n",
       "      <td>False</td>\n",
       "      <td>1.0</td>\n",
       "      <td>1.0</td>\n",
       "      <td>5.0</td>\n",
       "    </tr>\n",
       "    <tr>\n",
       "      <th>2</th>\n",
       "      <td>1</td>\n",
       "      <td>103</td>\n",
       "      <td>42.0</td>\n",
       "      <td>40.0</td>\n",
       "      <td>45.0</td>\n",
       "      <td>F</td>\n",
       "      <td>False</td>\n",
       "      <td>False</td>\n",
       "      <td>False</td>\n",
       "      <td>False</td>\n",
       "      <td>True</td>\n",
       "      <td>False</td>\n",
       "      <td>3.0</td>\n",
       "      <td>1.0</td>\n",
       "      <td>4.0</td>\n",
       "    </tr>\n",
       "    <tr>\n",
       "      <th>3</th>\n",
       "      <td>1</td>\n",
       "      <td>104</td>\n",
       "      <td>8.0</td>\n",
       "      <td>8.0</td>\n",
       "      <td>NaN</td>\n",
       "      <td>F</td>\n",
       "      <td>False</td>\n",
       "      <td>False</td>\n",
       "      <td>True</td>\n",
       "      <td>False</td>\n",
       "      <td>False</td>\n",
       "      <td>False</td>\n",
       "      <td>1.0</td>\n",
       "      <td>1.0</td>\n",
       "      <td>5.0</td>\n",
       "    </tr>\n",
       "    <tr>\n",
       "      <th>4</th>\n",
       "      <td>1</td>\n",
       "      <td>105</td>\n",
       "      <td>29.0</td>\n",
       "      <td>28.0</td>\n",
       "      <td>30.0</td>\n",
       "      <td>F</td>\n",
       "      <td>False</td>\n",
       "      <td>False</td>\n",
       "      <td>True</td>\n",
       "      <td>False</td>\n",
       "      <td>False</td>\n",
       "      <td>False</td>\n",
       "      <td>2.0</td>\n",
       "      <td>1.0</td>\n",
       "      <td>3.0</td>\n",
       "    </tr>\n",
       "    <tr>\n",
       "      <th>5</th>\n",
       "      <td>1</td>\n",
       "      <td>106</td>\n",
       "      <td>8.0</td>\n",
       "      <td>8.0</td>\n",
       "      <td>NaN</td>\n",
       "      <td>F</td>\n",
       "      <td>False</td>\n",
       "      <td>False</td>\n",
       "      <td>True</td>\n",
       "      <td>False</td>\n",
       "      <td>False</td>\n",
       "      <td>False</td>\n",
       "      <td>1.0</td>\n",
       "      <td>1.0</td>\n",
       "      <td>5.0</td>\n",
       "    </tr>\n",
       "    <tr>\n",
       "      <th>6</th>\n",
       "      <td>1</td>\n",
       "      <td>107</td>\n",
       "      <td>12.0</td>\n",
       "      <td>12.0</td>\n",
       "      <td>NaN</td>\n",
       "      <td>F</td>\n",
       "      <td>False</td>\n",
       "      <td>False</td>\n",
       "      <td>False</td>\n",
       "      <td>False</td>\n",
       "      <td>True</td>\n",
       "      <td>False</td>\n",
       "      <td>5.0</td>\n",
       "      <td>1.0</td>\n",
       "      <td>2.0</td>\n",
       "    </tr>\n",
       "    <tr>\n",
       "      <th>7</th>\n",
       "      <td>1</td>\n",
       "      <td>108</td>\n",
       "      <td>8.0</td>\n",
       "      <td>8.0</td>\n",
       "      <td>NaN</td>\n",
       "      <td>M</td>\n",
       "      <td>False</td>\n",
       "      <td>False</td>\n",
       "      <td>True</td>\n",
       "      <td>False</td>\n",
       "      <td>False</td>\n",
       "      <td>False</td>\n",
       "      <td>1.0</td>\n",
       "      <td>1.0</td>\n",
       "      <td>5.0</td>\n",
       "    </tr>\n",
       "    <tr>\n",
       "      <th>8</th>\n",
       "      <td>1</td>\n",
       "      <td>109</td>\n",
       "      <td>55.0</td>\n",
       "      <td>55.0</td>\n",
       "      <td>NaN</td>\n",
       "      <td>M</td>\n",
       "      <td>True</td>\n",
       "      <td>False</td>\n",
       "      <td>False</td>\n",
       "      <td>False</td>\n",
       "      <td>False</td>\n",
       "      <td>False</td>\n",
       "      <td>1.0</td>\n",
       "      <td>1.0</td>\n",
       "      <td>4.0</td>\n",
       "    </tr>\n",
       "    <tr>\n",
       "      <th>9</th>\n",
       "      <td>1</td>\n",
       "      <td>110</td>\n",
       "      <td>8.0</td>\n",
       "      <td>8.0</td>\n",
       "      <td>NaN</td>\n",
       "      <td>F</td>\n",
       "      <td>False</td>\n",
       "      <td>False</td>\n",
       "      <td>False</td>\n",
       "      <td>False</td>\n",
       "      <td>True</td>\n",
       "      <td>False</td>\n",
       "      <td>5.0</td>\n",
       "      <td>1.0</td>\n",
       "      <td>4.0</td>\n",
       "    </tr>\n",
       "  </tbody>\n",
       "</table>\n",
       "</div>"
      ],
      "text/plain": [
       "   part_id  cont_id  cnt_age_exact  cnt_age_est_min  cnt_age_est_max  \\\n",
       "0        1      101           42.0             42.0              NaN   \n",
       "1        1      102            9.0              9.0              NaN   \n",
       "2        1      103           42.0             40.0             45.0   \n",
       "3        1      104            8.0              8.0              NaN   \n",
       "4        1      105           29.0             28.0             30.0   \n",
       "5        1      106            8.0              8.0              NaN   \n",
       "6        1      107           12.0             12.0              NaN   \n",
       "7        1      108            8.0              8.0              NaN   \n",
       "8        1      109           55.0             55.0              NaN   \n",
       "9        1      110            8.0              8.0              NaN   \n",
       "\n",
       "  cnt_gender cnt_home cnt_work cnt_school cnt_transport cnt_leisure  \\\n",
       "0          F     True    False      False         False       False   \n",
       "1          F    False    False       True         False       False   \n",
       "2          F    False    False      False         False        True   \n",
       "3          F    False    False       True         False       False   \n",
       "4          F    False    False       True         False       False   \n",
       "5          F    False    False       True         False       False   \n",
       "6          F    False    False      False         False        True   \n",
       "7          M    False    False       True         False       False   \n",
       "8          M     True    False      False         False       False   \n",
       "9          F    False    False      False         False        True   \n",
       "\n",
       "  cnt_otherplace  frequency_multi  phys_contact  duration_multi  \n",
       "0          False              1.0           1.0             4.0  \n",
       "1          False              1.0           1.0             5.0  \n",
       "2          False              3.0           1.0             4.0  \n",
       "3          False              1.0           1.0             5.0  \n",
       "4          False              2.0           1.0             3.0  \n",
       "5          False              1.0           1.0             5.0  \n",
       "6          False              5.0           1.0             2.0  \n",
       "7          False              1.0           1.0             5.0  \n",
       "8          False              1.0           1.0             4.0  \n",
       "9          False              5.0           1.0             4.0  "
      ]
     },
     "metadata": {},
     "output_type": "display_data"
    }
   ],
   "source": [
    "display(df.head(10))"
   ]
  },
  {
   "cell_type": "code",
   "execution_count": 14,
   "metadata": {},
   "outputs": [
    {
     "data": {
      "text/plain": [
       "Text(0, 0.5, 'Number of contacts')"
      ]
     },
     "execution_count": 14,
     "metadata": {},
     "output_type": "execute_result"
    },
    {
     "data": {
      "image/png": "[encoded data removed]",
      "text/plain": [
       "<Figure size 432x288 with 1 Axes>"
      ]
     },
     "metadata": {
      "needs_background": "light"
     },
     "output_type": "display_data"
    }
   ],
   "source": [
    "plt.plot(df.groupby('part_id')['phys_contact'].sum())\n",
    "plt.title('The daily number of contacts made by an individual')\n",
    "plt.xlabel('Participant ID')\n",
    "plt.ylabel('Number of contacts')"
   ]
  },
  {
   "cell_type": "code",
   "execution_count": 24,
   "metadata": {},
   "outputs": [
    {
     "name": "stderr",
     "output_type": "stream",
     "text": [
      "No handles with labels found to put in legend.\n"
     ]
    },
    {
     "data": {
      "image/png": "[encoded data removed]",
      "text/plain": [
       "<Figure size 432x288 with 1 Axes>"
      ]
     },
     "metadata": {
      "needs_background": "light"
     },
     "output_type": "display_data"
    }
   ],
   "source": [
    "fig = plt.figure()\n",
    "ax = fig.add_axes([0,0,1,1])\n",
    "location = ['cnt_home','cnt_work','cnt_school','cnt_transport','cnt_leisure','cnt_otherplace']\n",
    "contact = [df.cnt_home.sum(),df.cnt_work.sum(),df.cnt_school.sum(),df.cnt_transport.sum(),df.cnt_leisure.sum(),df.cnt_otherplace.sum()]\n",
    "ax.bar(location,contact)\n",
    "plt.legend()\n",
    "plt.title('Locations of social contacts happened')\n",
    "plt.show()"
   ]
  },
  {
   "cell_type": "code",
   "execution_count": 25,
   "metadata": {},
   "outputs": [],
   "source": [
    "a=np.array(df.groupby('part_id')['phys_contact'].sum())"
   ]
  },
  {
   "cell_type": "code",
   "execution_count": 26,
   "metadata": {},
   "outputs": [
    {
     "data": {
      "text/plain": [
       "19.014750482492417"
      ]
     },
     "execution_count": 26,
     "metadata": {},
     "output_type": "execute_result"
    }
   ],
   "source": [
    "a.mean()"
   ]
  },
  {
   "cell_type": "code",
   "execution_count": null,
   "metadata": {},
   "outputs": [],
   "source": []
  }
 ],
 "metadata": {
  "kernelspec": {
   "display_name": "Python 3",
   "language": "python",
   "name": "python3"
  },
  "language_info": {
   "codemirror_mode": {
    "name": "ipython",
    "version": 3
   },
   "file_extension": ".py",
   "mimetype": "text/x-python",
   "name": "python",
   "nbconvert_exporter": "python",
   "pygments_lexer": "ipython3",
   "version": "3.7.6"
  }
 },
 "nbformat": 4,
 "nbformat_minor": 4
}
