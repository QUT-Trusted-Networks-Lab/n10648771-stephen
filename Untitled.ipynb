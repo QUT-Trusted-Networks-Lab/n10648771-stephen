{
 "cells": [
  {
   "cell_type": "code",
   "execution_count": 4,
   "metadata": {},
   "outputs": [
    {
     "name": "stdout",
     "output_type": "stream",
     "text": [
      "false\n",
      "false\n",
      "true\n",
      "true\n",
      "Hola\n",
      "Hola\n",
      "Hola\n",
      "Hola\n"
     ]
    }
   ],
   "source": [
    "a = 10 \n",
    "b=0\n",
    "for i in range(8):\n",
    "    a = a-i\n",
    "    if a = 0:\n",
    "        \n",
    "        if b>1:\n",
    "            print(\"true\")\n",
    "        else:\n",
    "            print(\"false\")\n",
    "            b+=1\n",
    "    else:\n",
    "        print(\"Hola\")\n",
    "    "
   ]
  },
  {
   "cell_type": "code",
   "execution_count": 9,
   "metadata": {},
   "outputs": [
    {
     "name": "stdout",
     "output_type": "stream",
     "text": [
      "5\n",
      "5\n",
      "5\n",
      "5\n",
      "5\n",
      "5\n",
      "4\n",
      "3\n"
     ]
    }
   ],
   "source": [
    "a = 10 \n",
    "b=0\n",
    "for i in range(8):\n",
    "    a = a - 1\n",
    "    \n",
    "    if a == 0: \n",
    "        print(\"1\")\n",
    "    elif a ==1: \n",
    "        print(\"2\")\n",
    "    elif a ==2:\n",
    "        print(\"3\")\n",
    "    elif a ==3: \n",
    "        print(\"4\")\n",
    "    else:\n",
    "        print(\"5\")"
   ]
  },
  {
   "cell_type": "code",
   "execution_count": null,
   "metadata": {},
   "outputs": [],
   "source": []
  }
 ],
 "metadata": {
  "kernelspec": {
   "display_name": "Python 3",
   "language": "python",
   "name": "python3"
  },
  "language_info": {
   "codemirror_mode": {
    "name": "ipython",
    "version": 3
   },
   "file_extension": ".py",
   "mimetype": "text/x-python",
   "name": "python",
   "nbconvert_exporter": "python",
   "pygments_lexer": "ipython3",
   "version": "3.7.6"
  }
 },
 "nbformat": 4,
 "nbformat_minor": 4
}
