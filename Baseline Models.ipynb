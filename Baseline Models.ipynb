{
 "cells": [
  {
   "cell_type": "markdown",
   "metadata": {},
   "source": [
    "#### Updates: \n",
    "+ Successfully able to"
   ]
  },
  {
   "cell_type": "markdown",
   "metadata": {},
   "source": [
    "### <font color=red> This notebook includes: </font>\n",
    "\n",
    "    1. Baseline models for underreporting case based on simulated datasets: \n",
    "        a. Models for generating probabilities of reporting cases: (using panel data) => generate the possiblity of reporting by an individual\n",
    "            + Binary Probit model to extract the probability density function \n",
    "            + Bayesian Inference Model (have been introduced much earlier) to extract the exact probabilities \n",
    "            + Bernoulli modelling \n",
    "            + Binary Poisson Model\n",
    "            + Comparisons\n",
    "        \n",
    "        c. Models for underreporting regression: => aim to estimate the specific cases of underreporting based on a fixed reporting probability\n",
    "            + Negative Binomial modelling\n",
    "            + Beta- Poisson \n",
    "            + 3 models of generalized poisson distribution with different sets of parameters \n",
    "    2. Model Comparison: \n",
    "        + Actually along with every provided models I printed out the summary of efficiency of each model already. This part is just to sum up and give a concrete conclusion\n",
    "    "
   ]
  },
  {
   "cell_type": "code",
   "execution_count": 1,
   "metadata": {},
   "outputs": [
    {
     "name": "stderr",
     "output_type": "stream",
     "text": [
      "WARNING (theano.configdefaults): g++ not available, if using conda: `conda install m2w64-toolchain`\n",
      "C:\\Users\\Acer\\anaconda3\\lib\\site-packages\\theano\\configdefaults.py:560: UserWarning: DeprecationWarning: there is no c++ compiler.This is deprecated and with Theano 0.11 a c++ compiler will be mandatory\n",
      "  warnings.warn(\"DeprecationWarning: there is no c++ compiler.\"\n",
      "WARNING (theano.configdefaults): g++ not detected ! Theano will be unable to execute optimized C-implementations (for both CPU and GPU) and will default to Python implementations. Performance will be severely degraded. To remove this warning, set Theano flags cxx to an empty string.\n",
      "WARNING (theano.tensor.blas): Using NumPy C-API based implementation for BLAS functions.\n"
     ]
    }
   ],
   "source": [
    "#import-packages: Might be included in the requirements.txt after I complete with all tasks\n",
    "import pandas as pd\n",
    "import numpy as np \n",
    "from numpy import random\n",
    "import math\n",
    "from datetime import datetime\n",
    "import matplotlib.pyplot as plt \n",
    "import seaborn as sns \n",
    "%matplotlib inline\n",
    "import sys\n",
    "import re\n",
    "import patsy as pt\n",
    "import pymc3 as pm\n",
    "plt.style.use('seaborn-darkgrid')\n",
    "import sympy as sp\n",
    "sp.init_printing()\n",
    "from sympy import symbols, solve, Eq\n",
    "from sklearn.model_selection import train_test_split"
   ]
  },
  {
   "cell_type": "markdown",
   "metadata": {},
   "source": [
    "# Introduction: \n"
   ]
  },
  {
   "cell_type": "markdown",
   "metadata": {},
   "source": [
    "In purpose of selecting an optimal method for identifying the underreporting situation of COVID 19, a simulated dataset is indeed needed to apply theoritical assumptions and hypothesises before implementing on the actual raw dataset of the problem. The following of this Jupyter Notebooks focuses on presenting several ways of generating random datasets that would be valuable for future application."
   ]
  },
  {
   "cell_type": "markdown",
   "metadata": {},
   "source": [
    "This jupyter book includes baselines models such as **Poisson Binary Regression, Negative Binomial Underreporting Model, Binomial Model**"
   ]
  },
  {
   "cell_type": "markdown",
   "metadata": {},
   "source": [
    "## 1. Simple Random Sampling:\n",
    "A fundamental technique to provide a synthetic dataset with independent variables to apply our baseline models. Future work will consider a more applicable dataset using the importance sampling integrated with MonteCarlo Sampling, Boostrapped Sampling from the real dataset and Latin Hypecubel Sampling. For the sake of simplicity in baseline works, a simple random sampling is implemented. The details and descriptions of variables are explained in the comment lines.\n",
    "+ The file *datatool.py* includes the method of SRS "
   ]
  },
  {
   "cell_type": "markdown",
   "metadata": {},
   "source": []
  },
  {
   "cell_type": "markdown",
   "metadata": {},
   "source": [
    "#### Current problem is that I have not account the right distribution for the probability of reporting --> pending to fix it "
   ]
  },
  {
   "cell_type": "code",
   "execution_count": 1,
   "metadata": {},
   "outputs": [
    {
     "name": "stderr",
     "output_type": "stream",
     "text": [
      "WARNING (theano.configdefaults): g++ not available, if using conda: `conda install m2w64-toolchain`\n",
      "C:\\Users\\Acer\\anaconda3\\lib\\site-packages\\theano\\configdefaults.py:560: UserWarning: DeprecationWarning: there is no c++ compiler.This is deprecated and with Theano 0.11 a c++ compiler will be mandatory\n",
      "  warnings.warn(\"DeprecationWarning: there is no c++ compiler.\"\n",
      "WARNING (theano.configdefaults): g++ not detected ! Theano will be unable to execute optimized C-implementations (for both CPU and GPU) and will default to Python implementations. Performance will be severely degraded. To remove this warning, set Theano flags cxx to an empty string.\n",
      "WARNING (theano.tensor.blas): Using NumPy C-API based implementation for BLAS functions.\n"
     ]
    }
   ],
   "source": [
    "from patsy import dmatrices\n",
    "import numpy as np\n",
    "import statsmodels.api as sm\n",
    "from datatool import simple_gen, get_panel_data,analyse_feature_importance"
   ]
  },
  {
   "cell_type": "code",
   "execution_count": 2,
   "metadata": {},
   "outputs": [],
   "source": [
    "df1=simple_gen(2)\n",
    "\n",
    "dfp,X,y,X_train, X_test, y_train, y_test=get_panel_data()\n"
   ]
  },
  {
   "cell_type": "code",
   "execution_count": 3,
   "metadata": {},
   "outputs": [
    {
     "data": {
      "text/html": [
       "<div>\n",
       "<style scoped>\n",
       "    .dataframe tbody tr th:only-of-type {\n",
       "        vertical-align: middle;\n",
       "    }\n",
       "\n",
       "    .dataframe tbody tr th {\n",
       "        vertical-align: top;\n",
       "    }\n",
       "\n",
       "    .dataframe thead th {\n",
       "        text-align: right;\n",
       "    }\n",
       "</style>\n",
       "<table border=\"1\" class=\"dataframe\">\n",
       "  <thead>\n",
       "    <tr style=\"text-align: right;\">\n",
       "      <th></th>\n",
       "      <th>date</th>\n",
       "      <th>actual</th>\n",
       "      <th>reported</th>\n",
       "      <th>area1</th>\n",
       "      <th>area2</th>\n",
       "      <th>area3</th>\n",
       "      <th>HighTemp</th>\n",
       "      <th>LowTemp</th>\n",
       "      <th>death</th>\n",
       "    </tr>\n",
       "  </thead>\n",
       "  <tbody>\n",
       "    <tr>\n",
       "      <th>0</th>\n",
       "      <td>2020-01-01</td>\n",
       "      <td>764</td>\n",
       "      <td>237</td>\n",
       "      <td>217</td>\n",
       "      <td>2</td>\n",
       "      <td>18</td>\n",
       "      <td>25</td>\n",
       "      <td>11</td>\n",
       "      <td>0</td>\n",
       "    </tr>\n",
       "    <tr>\n",
       "      <th>1</th>\n",
       "      <td>2020-01-02</td>\n",
       "      <td>71</td>\n",
       "      <td>5</td>\n",
       "      <td>0</td>\n",
       "      <td>5</td>\n",
       "      <td>0</td>\n",
       "      <td>25</td>\n",
       "      <td>15</td>\n",
       "      <td>38</td>\n",
       "    </tr>\n",
       "    <tr>\n",
       "      <th>2</th>\n",
       "      <td>2020-01-03</td>\n",
       "      <td>50</td>\n",
       "      <td>30</td>\n",
       "      <td>5</td>\n",
       "      <td>17</td>\n",
       "      <td>8</td>\n",
       "      <td>18</td>\n",
       "      <td>10</td>\n",
       "      <td>34</td>\n",
       "    </tr>\n",
       "    <tr>\n",
       "      <th>3</th>\n",
       "      <td>2020-01-04</td>\n",
       "      <td>828</td>\n",
       "      <td>731</td>\n",
       "      <td>173</td>\n",
       "      <td>511</td>\n",
       "      <td>47</td>\n",
       "      <td>22</td>\n",
       "      <td>15</td>\n",
       "      <td>39</td>\n",
       "    </tr>\n",
       "    <tr>\n",
       "      <th>4</th>\n",
       "      <td>2020-01-05</td>\n",
       "      <td>638</td>\n",
       "      <td>126</td>\n",
       "      <td>64</td>\n",
       "      <td>13</td>\n",
       "      <td>49</td>\n",
       "      <td>29</td>\n",
       "      <td>19</td>\n",
       "      <td>36</td>\n",
       "    </tr>\n",
       "    <tr>\n",
       "      <th>...</th>\n",
       "      <td>...</td>\n",
       "      <td>...</td>\n",
       "      <td>...</td>\n",
       "      <td>...</td>\n",
       "      <td>...</td>\n",
       "      <td>...</td>\n",
       "      <td>...</td>\n",
       "      <td>...</td>\n",
       "      <td>...</td>\n",
       "    </tr>\n",
       "    <tr>\n",
       "      <th>82</th>\n",
       "      <td>2020-03-23</td>\n",
       "      <td>263</td>\n",
       "      <td>230</td>\n",
       "      <td>26</td>\n",
       "      <td>187</td>\n",
       "      <td>17</td>\n",
       "      <td>23</td>\n",
       "      <td>10</td>\n",
       "      <td>33</td>\n",
       "    </tr>\n",
       "    <tr>\n",
       "      <th>83</th>\n",
       "      <td>2020-03-24</td>\n",
       "      <td>796</td>\n",
       "      <td>680</td>\n",
       "      <td>24</td>\n",
       "      <td>433</td>\n",
       "      <td>223</td>\n",
       "      <td>14</td>\n",
       "      <td>10</td>\n",
       "      <td>1</td>\n",
       "    </tr>\n",
       "    <tr>\n",
       "      <th>84</th>\n",
       "      <td>2020-03-25</td>\n",
       "      <td>605</td>\n",
       "      <td>349</td>\n",
       "      <td>65</td>\n",
       "      <td>199</td>\n",
       "      <td>85</td>\n",
       "      <td>20</td>\n",
       "      <td>14</td>\n",
       "      <td>31</td>\n",
       "    </tr>\n",
       "    <tr>\n",
       "      <th>85</th>\n",
       "      <td>2020-03-26</td>\n",
       "      <td>48</td>\n",
       "      <td>24</td>\n",
       "      <td>18</td>\n",
       "      <td>5</td>\n",
       "      <td>1</td>\n",
       "      <td>18</td>\n",
       "      <td>10</td>\n",
       "      <td>20</td>\n",
       "    </tr>\n",
       "    <tr>\n",
       "      <th>86</th>\n",
       "      <td>2020-03-27</td>\n",
       "      <td>829</td>\n",
       "      <td>456</td>\n",
       "      <td>201</td>\n",
       "      <td>47</td>\n",
       "      <td>208</td>\n",
       "      <td>20</td>\n",
       "      <td>14</td>\n",
       "      <td>45</td>\n",
       "    </tr>\n",
       "  </tbody>\n",
       "</table>\n",
       "<p>87 rows × 9 columns</p>\n",
       "</div>"
      ],
      "text/plain": [
       "         date  actual  reported  area1  area2  area3  HighTemp  LowTemp  death\n",
       "0  2020-01-01     764       237    217      2     18        25       11      0\n",
       "1  2020-01-02      71         5      0      5      0        25       15     38\n",
       "2  2020-01-03      50        30      5     17      8        18       10     34\n",
       "3  2020-01-04     828       731    173    511     47        22       15     39\n",
       "4  2020-01-05     638       126     64     13     49        29       19     36\n",
       "..        ...     ...       ...    ...    ...    ...       ...      ...    ...\n",
       "82 2020-03-23     263       230     26    187     17        23       10     33\n",
       "83 2020-03-24     796       680     24    433    223        14       10      1\n",
       "84 2020-03-25     605       349     65    199     85        20       14     31\n",
       "85 2020-03-26      48        24     18      5      1        18       10     20\n",
       "86 2020-03-27     829       456    201     47    208        20       14     45\n",
       "\n",
       "[87 rows x 9 columns]"
      ]
     },
     "execution_count": 3,
     "metadata": {},
     "output_type": "execute_result"
    }
   ],
   "source": [
    "df1"
   ]
  },
  {
   "cell_type": "code",
   "execution_count": 5,
   "metadata": {},
   "outputs": [
    {
     "data": {
      "text/html": [
       "<div>\n",
       "<style scoped>\n",
       "    .dataframe tbody tr th:only-of-type {\n",
       "        vertical-align: middle;\n",
       "    }\n",
       "\n",
       "    .dataframe tbody tr th {\n",
       "        vertical-align: top;\n",
       "    }\n",
       "\n",
       "    .dataframe thead th {\n",
       "        text-align: right;\n",
       "    }\n",
       "</style>\n",
       "<table border=\"1\" class=\"dataframe\">\n",
       "  <thead>\n",
       "    <tr style=\"text-align: right;\">\n",
       "      <th></th>\n",
       "      <th>height</th>\n",
       "      <th>weight</th>\n",
       "      <th>insurance</th>\n",
       "      <th>immigrant</th>\n",
       "      <th>contacts_count</th>\n",
       "      <th>house_count</th>\n",
       "      <th>public_transport_count</th>\n",
       "      <th>worried</th>\n",
       "      <th>covid19_positive</th>\n",
       "      <th>covid19_symptoms</th>\n",
       "    </tr>\n",
       "  </thead>\n",
       "  <tbody>\n",
       "    <tr>\n",
       "      <th>0</th>\n",
       "      <td>184</td>\n",
       "      <td>80</td>\n",
       "      <td>True</td>\n",
       "      <td>True</td>\n",
       "      <td>8</td>\n",
       "      <td>5</td>\n",
       "      <td>0</td>\n",
       "      <td>4</td>\n",
       "      <td>True</td>\n",
       "      <td>False</td>\n",
       "    </tr>\n",
       "    <tr>\n",
       "      <th>1</th>\n",
       "      <td>164</td>\n",
       "      <td>84</td>\n",
       "      <td>True</td>\n",
       "      <td>True</td>\n",
       "      <td>8</td>\n",
       "      <td>1</td>\n",
       "      <td>0</td>\n",
       "      <td>4</td>\n",
       "      <td>True</td>\n",
       "      <td>False</td>\n",
       "    </tr>\n",
       "    <tr>\n",
       "      <th>2</th>\n",
       "      <td>170</td>\n",
       "      <td>64</td>\n",
       "      <td>True</td>\n",
       "      <td>True</td>\n",
       "      <td>10</td>\n",
       "      <td>1</td>\n",
       "      <td>0</td>\n",
       "      <td>4</td>\n",
       "      <td>True</td>\n",
       "      <td>False</td>\n",
       "    </tr>\n",
       "    <tr>\n",
       "      <th>3</th>\n",
       "      <td>132</td>\n",
       "      <td>124</td>\n",
       "      <td>True</td>\n",
       "      <td>True</td>\n",
       "      <td>8</td>\n",
       "      <td>10</td>\n",
       "      <td>0</td>\n",
       "      <td>4</td>\n",
       "      <td>True</td>\n",
       "      <td>False</td>\n",
       "    </tr>\n",
       "    <tr>\n",
       "      <th>4</th>\n",
       "      <td>184</td>\n",
       "      <td>118</td>\n",
       "      <td>True</td>\n",
       "      <td>True</td>\n",
       "      <td>8</td>\n",
       "      <td>3</td>\n",
       "      <td>0</td>\n",
       "      <td>4</td>\n",
       "      <td>True</td>\n",
       "      <td>True</td>\n",
       "    </tr>\n",
       "    <tr>\n",
       "      <th>...</th>\n",
       "      <td>...</td>\n",
       "      <td>...</td>\n",
       "      <td>...</td>\n",
       "      <td>...</td>\n",
       "      <td>...</td>\n",
       "      <td>...</td>\n",
       "      <td>...</td>\n",
       "      <td>...</td>\n",
       "      <td>...</td>\n",
       "      <td>...</td>\n",
       "    </tr>\n",
       "    <tr>\n",
       "      <th>5106</th>\n",
       "      <td>166</td>\n",
       "      <td>66</td>\n",
       "      <td>True</td>\n",
       "      <td>True</td>\n",
       "      <td>1</td>\n",
       "      <td>2</td>\n",
       "      <td>0</td>\n",
       "      <td>4</td>\n",
       "      <td>False</td>\n",
       "      <td>False</td>\n",
       "    </tr>\n",
       "    <tr>\n",
       "      <th>5107</th>\n",
       "      <td>168</td>\n",
       "      <td>70</td>\n",
       "      <td>True</td>\n",
       "      <td>False</td>\n",
       "      <td>2</td>\n",
       "      <td>3</td>\n",
       "      <td>0</td>\n",
       "      <td>4</td>\n",
       "      <td>False</td>\n",
       "      <td>False</td>\n",
       "    </tr>\n",
       "    <tr>\n",
       "      <th>5108</th>\n",
       "      <td>182</td>\n",
       "      <td>82</td>\n",
       "      <td>True</td>\n",
       "      <td>True</td>\n",
       "      <td>3</td>\n",
       "      <td>3</td>\n",
       "      <td>0</td>\n",
       "      <td>4</td>\n",
       "      <td>False</td>\n",
       "      <td>False</td>\n",
       "    </tr>\n",
       "    <tr>\n",
       "      <th>5109</th>\n",
       "      <td>184</td>\n",
       "      <td>80</td>\n",
       "      <td>True</td>\n",
       "      <td>True</td>\n",
       "      <td>0</td>\n",
       "      <td>3</td>\n",
       "      <td>0</td>\n",
       "      <td>3</td>\n",
       "      <td>False</td>\n",
       "      <td>False</td>\n",
       "    </tr>\n",
       "    <tr>\n",
       "      <th>5110</th>\n",
       "      <td>172</td>\n",
       "      <td>66</td>\n",
       "      <td>True</td>\n",
       "      <td>True</td>\n",
       "      <td>7</td>\n",
       "      <td>2</td>\n",
       "      <td>0</td>\n",
       "      <td>4</td>\n",
       "      <td>False</td>\n",
       "      <td>False</td>\n",
       "    </tr>\n",
       "  </tbody>\n",
       "</table>\n",
       "<p>5111 rows × 10 columns</p>\n",
       "</div>"
      ],
      "text/plain": [
       "      height  weight  insurance  immigrant  contacts_count  house_count  \\\n",
       "0        184      80       True       True               8            5   \n",
       "1        164      84       True       True               8            1   \n",
       "2        170      64       True       True              10            1   \n",
       "3        132     124       True       True               8           10   \n",
       "4        184     118       True       True               8            3   \n",
       "...      ...     ...        ...        ...             ...          ...   \n",
       "5106     166      66       True       True               1            2   \n",
       "5107     168      70       True      False               2            3   \n",
       "5108     182      82       True       True               3            3   \n",
       "5109     184      80       True       True               0            3   \n",
       "5110     172      66       True       True               7            2   \n",
       "\n",
       "      public_transport_count  worried  covid19_positive  covid19_symptoms  \n",
       "0                          0        4              True             False  \n",
       "1                          0        4              True             False  \n",
       "2                          0        4              True             False  \n",
       "3                          0        4              True             False  \n",
       "4                          0        4              True              True  \n",
       "...                      ...      ...               ...               ...  \n",
       "5106                       0        4             False             False  \n",
       "5107                       0        4             False             False  \n",
       "5108                       0        4             False             False  \n",
       "5109                       0        3             False             False  \n",
       "5110                       0        4             False             False  \n",
       "\n",
       "[5111 rows x 10 columns]"
      ]
     },
     "execution_count": 5,
     "metadata": {},
     "output_type": "execute_result"
    }
   ],
   "source": [
    "dfp"
   ]
  },
  {
   "cell_type": "markdown",
   "metadata": {},
   "source": [
    "# 2. Poisson Regression: "
   ]
  },
  {
   "cell_type": "code",
   "execution_count": 6,
   "metadata": {},
   "outputs": [],
   "source": [
    "df1.set_index('date',inplace=True)\n",
    "ds = df1.index.to_series()\n",
    "df1['MONTH'] = ds.dt.month\n",
    "df1['DAY_OF_WEEK'] = ds.dt.dayofweek\n",
    "df1['DAY'] = ds.dt.day\n",
    "\n",
    " \n",
    "        \n",
    "    "
   ]
  },
  {
   "cell_type": "code",
   "execution_count": 7,
   "metadata": {},
   "outputs": [
    {
     "name": "stdout",
     "output_type": "stream",
     "text": [
      "Training data set length=68\n",
      "Testing data set length=19\n"
     ]
    }
   ],
   "source": [
    "mask = np.random.rand(len(df1)) < 0.8\n",
    "df_train = df1[mask]\n",
    "df_test = df1[~mask]\n",
    "print('Training data set length='+str(len(df_train)))\n",
    "print('Testing data set length='+str(len(df_test)))"
   ]
  },
  {
   "cell_type": "code",
   "execution_count": 8,
   "metadata": {},
   "outputs": [],
   "source": [
    "expr = 'reported ~ area1+area2+area3+death + DAY  + DAY_OF_WEEK + MONTH + HighTemp + LowTemp'"
   ]
  },
  {
   "cell_type": "code",
   "execution_count": 9,
   "metadata": {},
   "outputs": [],
   "source": [
    "y_train, X_train = dmatrices(expr, df_train, return_type='dataframe')\n",
    "y_test, X_test = dmatrices(expr, df_test, return_type='dataframe')"
   ]
  },
  {
   "cell_type": "code",
   "execution_count": 10,
   "metadata": {},
   "outputs": [],
   "source": [
    "poisson_training_results = sm.GLM(y_train, X_train, family=sm.families.Poisson()).fit()"
   ]
  },
  {
   "cell_type": "code",
   "execution_count": 11,
   "metadata": {},
   "outputs": [
    {
     "name": "stdout",
     "output_type": "stream",
     "text": [
      "                 Generalized Linear Model Regression Results                  \n",
      "==============================================================================\n",
      "Dep. Variable:               reported   No. Observations:                   68\n",
      "Model:                            GLM   Df Residuals:                       58\n",
      "Model Family:                 Poisson   Df Model:                            9\n",
      "Link Function:                    log   Scale:                          1.0000\n",
      "Method:                          IRLS   Log-Likelihood:                -1329.6\n",
      "Date:                Sat, 12 Dec 2020   Deviance:                       2187.9\n",
      "Time:                        21:21:29   Pearson chi2:                 1.84e+03\n",
      "No. Iterations:                     5                                         \n",
      "Covariance Type:            nonrobust                                         \n",
      "===============================================================================\n",
      "                  coef    std err          z      P>|z|      [0.025      0.975]\n",
      "-------------------------------------------------------------------------------\n",
      "Intercept       4.4763      0.043    105.044      0.000       4.393       4.560\n",
      "area1           0.0032   4.66e-05     68.673      0.000       0.003       0.003\n",
      "area2           0.0031   6.52e-05     48.163      0.000       0.003       0.003\n",
      "area3           0.0026    5.7e-05     45.715      0.000       0.002       0.003\n",
      "death           0.0035      0.001      5.936      0.000       0.002       0.005\n",
      "DAY            -0.0071      0.001     -7.529      0.000      -0.009      -0.005\n",
      "DAY_OF_WEEK    -0.0222      0.004     -5.580      0.000      -0.030      -0.014\n",
      "MONTH           0.0314      0.011      2.965      0.003       0.011       0.052\n",
      "HighTemp        0.0066      0.002      3.867      0.000       0.003       0.010\n",
      "LowTemp        -0.0067      0.002     -4.098      0.000      -0.010      -0.004\n",
      "===============================================================================\n"
     ]
    }
   ],
   "source": [
    "print(poisson_training_results.summary())"
   ]
  },
  {
   "cell_type": "markdown",
   "metadata": {},
   "source": [
    "We can see that all regression coefficients (know as the β vector in regression parlance) are statistically significant at the 95% confidence level since their p-value is < 0.05."
   ]
  },
  {
   "cell_type": "code",
   "execution_count": 12,
   "metadata": {},
   "outputs": [
    {
     "name": "stdout",
     "output_type": "stream",
     "text": [
      "variance=61707.24325046777\n",
      "mean=275.735632183908\n"
     ]
    }
   ],
   "source": [
    "print('variance='+str(df1['reported'].var()))\n",
    "print('mean='+str(df1['reported'].mean()))"
   ]
  },
  {
   "cell_type": "code",
   "execution_count": 13,
   "metadata": {},
   "outputs": [
    {
     "ename": "NameError",
     "evalue": "name 'mlem' is not defined",
     "output_type": "error",
     "traceback": [
      "\u001b[1;31m---------------------------------------------------------------------------\u001b[0m",
      "\u001b[1;31mNameError\u001b[0m                                 Traceback (most recent call last)",
      "\u001b[1;32m<ipython-input-13-149eb6231c40>\u001b[0m in \u001b[0;36m<module>\u001b[1;34m\u001b[0m\n\u001b[0;32m      2\u001b[0m \u001b[0mpredicted_counts\u001b[0m\u001b[1;33m=\u001b[0m\u001b[0mdefault_predictions\u001b[0m\u001b[1;33m\u001b[0m\u001b[1;33m\u001b[0m\u001b[0m\n\u001b[0;32m      3\u001b[0m \u001b[0mreported_counts\u001b[0m \u001b[1;33m=\u001b[0m \u001b[0my_test\u001b[0m\u001b[1;33m[\u001b[0m\u001b[1;34m'reported'\u001b[0m\u001b[1;33m]\u001b[0m\u001b[1;33m\u001b[0m\u001b[1;33m\u001b[0m\u001b[0m\n\u001b[1;32m----> 4\u001b[1;33m \u001b[0mreal_counts\u001b[0m\u001b[1;33m=\u001b[0m\u001b[0mmlem\u001b[0m\u001b[1;33m\u001b[0m\u001b[1;33m\u001b[0m\u001b[0m\n\u001b[0m\u001b[0;32m      5\u001b[0m \u001b[0mfig\u001b[0m \u001b[1;33m=\u001b[0m \u001b[0mplt\u001b[0m\u001b[1;33m.\u001b[0m\u001b[0mfigure\u001b[0m\u001b[1;33m(\u001b[0m\u001b[1;33m)\u001b[0m\u001b[1;33m\u001b[0m\u001b[1;33m\u001b[0m\u001b[0m\n\u001b[0;32m      6\u001b[0m \u001b[0mfig\u001b[0m\u001b[1;33m.\u001b[0m\u001b[0msuptitle\u001b[0m\u001b[1;33m(\u001b[0m\u001b[1;34m'Default Poisson Model'\u001b[0m\u001b[1;33m)\u001b[0m\u001b[1;33m\u001b[0m\u001b[1;33m\u001b[0m\u001b[0m\n",
      "\u001b[1;31mNameError\u001b[0m: name 'mlem' is not defined"
     ]
    }
   ],
   "source": [
    "default_predictions = poisson_training_results.predict(X_test)\n",
    "predicted_counts=default_predictions\n",
    "reported_counts = y_test['reported']\n",
    "real_counts=mlem\n",
    "fig = plt.figure()\n",
    "fig.suptitle('Default Poisson Model')\n",
    "real,=plt.plot(X_test.index, mlem,'v-', label='Actual Cases')\n",
    "predicted, = plt.plot(X_test.index, predicted_counts, 'go-', label='Reported counts')\n",
    "reported, = plt.plot(X_test.index, actual_counts, 'ro-', label='Predicted counts')\n",
    "plt.legend(handles=[predicted, reported, real,])\n",
    "plt.show()"
   ]
  },
  {
   "cell_type": "markdown",
   "metadata": {},
   "source": [
    "The variance is clearly much greater than the mean. The data is grossly over-dispersed and the primary assumption of the Poisson model does not hold."
   ]
  },
  {
   "cell_type": "markdown",
   "metadata": {},
   "source": [
    "*In 1989, Prem C. Consul, in his book, Generalized Poisson Distributions: Properties and Applications, proposed a way to modify the probability distribution of the Poisson distribution so that it could handle both over dispersed and under dispersed data. This model came to be known as the GP-1 (Generalized Poisson-1) model. The GP-1 model assumes that the dependent variable y is a random variable with the following probability distribution:*\n",
    "<img src=\"gp1.png\" style=\"width:400px;height:350px\"/>\n",
    "\n",
    "+ α is known as the dispersion parameter and it is calculated by <img src=\"alpha.png\" style=\"width:400px;height:350px\"/>\n",
    "+ mu is the mean count of the sample\n",
    "+ k is the count number at different time t"
   ]
  },
  {
   "cell_type": "code",
   "execution_count": null,
   "metadata": {},
   "outputs": [],
   "source": [
    "gen_poisson_gp1 = sm.GeneralizedPoisson(y_train, X_train, p=1)\n",
    "gen_poisson_gp1_results = gen_poisson_gp1.fit()\n",
    "print(gen_poisson_gp1_results.summary())"
   ]
  },
  {
   "cell_type": "code",
   "execution_count": null,
   "metadata": {},
   "outputs": [],
   "source": [
    "mlem"
   ]
  },
  {
   "cell_type": "code",
   "execution_count": null,
   "metadata": {},
   "outputs": [],
   "source": [
    "gen_poisson_gp1_predictions = gen_poisson_gp1_results.predict(X_test)\n",
    "predicted_counts=gen_poisson_gp1_predictions\n",
    "reported_counts = y_test['reported']\n",
    "real_counts=mlem\n",
    "fig = plt.figure()\n",
    "fig.suptitle('GP-1 Model')\n",
    "real,=plt.plot(X_test.index, mlem,'v-', label='Actual Cases')\n",
    "predicted, = plt.plot(X_test.index, predicted_counts, 'go-', label='Reported counts')\n",
    "reported, = plt.plot(X_test.index, actual_counts, 'ro-', label='Predicted counts')\n",
    "plt.legend(handles=[predicted, reported, real,])\n",
    "plt.show()"
   ]
  },
  {
   "cell_type": "markdown",
   "metadata": {},
   "source": [
    "**In 1993, Felix Famoye introduced what he referred to as the Restricted Generalized Poisson Regression Model, as a way to extend the reach of the standard Poisson model to handling over-dispersed and under-dispersed data sets. This model has come to be known as the GP-2 (Generalized Poisson-2) model.**\n",
    "<img src=\"gp2.png\" style=\"width:200px;height:100px\"/>"
   ]
  },
  {
   "cell_type": "code",
   "execution_count": null,
   "metadata": {},
   "outputs": [],
   "source": [
    "#Build Famoye's Restricted Generalized Poison regression model, know as GP-2\n",
    "gen_poisson_gp2 = sm.GeneralizedPoisson(y_train, X_train, p=2)\n",
    "\n",
    "#Fit the model\n",
    "gen_poisson_gp2_results = gen_poisson_gp2.fit()\n",
    "\n",
    "#print the results\n",
    "print(gen_poisson_gp2_results.summary())"
   ]
  },
  {
   "cell_type": "code",
   "execution_count": null,
   "metadata": {},
   "outputs": [],
   "source": [
    "gen_poisson_gp2_predictions = gen_poisson_gp2_results.predict(X_test)\n",
    "predicted_counts=gen_poisson_gp2_predictions\n",
    "real_counts=mlem\n",
    "actual_counts = y_test['reported']\n",
    "fig = plt.figure()\n",
    "fig.suptitle('GP-2 Model Outcome')\n",
    "predicted, = plt.plot(X_test.index, predicted_counts, 'go-', label='Predicted counts')\n",
    "actual, = plt.plot(X_test.index, actual_counts, 'ro-', label='Reported counts')\n",
    "real,=plt.plot(X_test.index, mlem,'v-', label='Actual Cases')\n",
    "plt.legend(handles=[predicted, actual,real,])\n",
    "plt.show()\n"
   ]
  },
  {
   "cell_type": "markdown",
   "metadata": {},
   "source": [
    "This model does not work due to the fact that 4 over 6 variables are boolean, the dataset should be modified soon"
   ]
  },
  {
   "cell_type": "markdown",
   "metadata": {},
   "source": [
    "## 2. Negative Binomial Regression"
   ]
  },
  {
   "cell_type": "code",
   "execution_count": null,
   "metadata": {},
   "outputs": [],
   "source": [
    "poisson_training_results = sm.GLM(y_train, X_train, family=sm.families.Poisson()).fit()"
   ]
  },
  {
   "cell_type": "code",
   "execution_count": null,
   "metadata": {},
   "outputs": [],
   "source": [
    "print(poisson_training_results.summary())"
   ]
  },
  {
   "cell_type": "code",
   "execution_count": null,
   "metadata": {},
   "outputs": [],
   "source": [
    "print(poisson_training_results.mu)\n",
    "print(\"len of array:{}\".format(len(poisson_training_results.mu)))"
   ]
  },
  {
   "cell_type": "code",
   "execution_count": null,
   "metadata": {},
   "outputs": [],
   "source": [
    "import statsmodels.formula.api as smf\n",
    "df_train['BB_LAMBDA'] = poisson_training_results.mu"
   ]
  },
  {
   "cell_type": "code",
   "execution_count": null,
   "metadata": {},
   "outputs": [],
   "source": [
    "df_train['AUX_OLS_DEP'] = df_train.apply(lambda x: ((x['reported'] - x['BB_LAMBDA'])**2 - x['BB_LAMBDA']) / x['BB_LAMBDA'], axis=1)"
   ]
  },
  {
   "cell_type": "code",
   "execution_count": null,
   "metadata": {},
   "outputs": [],
   "source": [
    "ols_expr = \"\"\"AUX_OLS_DEP ~ BB_LAMBDA - 1\"\"\"\n",
    "aux_olsr_results = smf.ols(ols_expr, df_train).fit()\n",
    "print(aux_olsr_results.params)\n",
    "aux_olsr_results.tvalues"
   ]
  },
  {
   "cell_type": "code",
   "execution_count": null,
   "metadata": {},
   "outputs": [],
   "source": [
    "nb2_training_results = sm.GLM(y_train, X_train,family=sm.families.NegativeBinomial(alpha=aux_olsr_results.params[0])).fit()\n",
    "print(nb2_training_results.summary())"
   ]
  },
  {
   "cell_type": "code",
   "execution_count": null,
   "metadata": {},
   "outputs": [],
   "source": [
    "nb2_predictions = nb2_training_results.get_prediction(X_test)\n",
    "predictions_summary_frame = nb2_predictions.summary_frame()\n",
    "print(predictions_summary_frame)"
   ]
  },
  {
   "cell_type": "code",
   "execution_count": null,
   "metadata": {},
   "outputs": [],
   "source": [
    "predicted_counts=predictions_summary_frame['mean']\n",
    "actual_counts = y_test['reported']\n",
    "\n",
    "fig = plt.figure()\n",
    "fig.suptitle('Negative Binomial Underreporting Model')\n",
    "predicted, = plt.plot(X_test.index, predicted_counts, 'go-', label='Predicted counts')\n",
    "actual, = plt.plot(X_test.index, actual_counts, 'ro-', label='Reported counts')\n",
    "real,=plt.plot(X_test.index, mlem,'v-', label='Actual Cases')\n",
    "plt.legend(handles=[predicted, actual,real,])\n",
    "plt.show()"
   ]
  },
  {
   "cell_type": "markdown",
   "metadata": {},
   "source": [
    "# 3. Binary Probit model: to estimate the probability of reporting\n",
    "Quick reminder of binary probit definition: \n",
    "+ Binary Estimate: Guess an individual reported or unreported\n",
    "+ Binomial Estimate: Guess the rate of reporting and unrepoting by an individual \n",
    "+ Binary Probit Regression model: How many people (trials) does it takes to make a person report? (**so later we can see from the distribution and apply for the time-series data**)\n",
    "<img src=\"probit.svg\"/>\n",
    "    *where Pr denotes probability, and Φ is the Cumulative Distribution Function (CDF) of the standard normal distribution. The parameters β are typically estimated by maximum likelihood.*\n",
    "\n",
    "\n"
   ]
  },
  {
   "cell_type": "code",
   "execution_count": 27,
   "metadata": {},
   "outputs": [],
   "source": [
    "import pystan\n",
    "from statsmodels.discrete.discrete_model import Probit\n",
    "from sklearn import preprocessing  ## for standardization \n",
    "from sklearn.linear_model import LogisticRegression\n",
    "from sklearn.metrics import confusion_matrix\n",
    "from sympy.stats import Binomial\n",
    "from sympy.stats import P, E, variance, Die, Normal\n",
    "from sympy import Eq, simplify"
   ]
  },
  {
   "cell_type": "markdown",
   "metadata": {},
   "source": [
    "#### a. Tool for visualiztations: "
   ]
  },
  {
   "cell_type": "code",
   "execution_count": 28,
   "metadata": {},
   "outputs": [],
   "source": [
    "import numpy as np\n",
    "from matplotlib import pyplot as plt\n",
    "from pystan.external.pymc import plots\n",
    "import seaborn as sns\n",
    "import sys\n",
    "\n",
    "if sys.version_info[0] == 3:\n",
    "    def xrange(i):\n",
    "        return range(i)\n",
    "\n",
    "def vb_extract(fit):\n",
    "    var_names = fit[\"sampler_param_names\"][:-1]\n",
    "    samples = np.array([x for x in fit[\"sampler_params\"]])\n",
    "    \n",
    "    samples_dict = {}\n",
    "    means_dict = {}\n",
    "    for i in xrange(len(var_names)):\n",
    "        samples_dict[var_names[i]] = samples[i,:]\n",
    "        means_dict[var_names[i]] = fit[\"mean_pars\"][i]\n",
    "        \n",
    "    return samples_dict, means_dict, var_names\n",
    "\n",
    "\n",
    "def vb_extract_variable(fit, var_name, var_type=\"real\", dims=None):\n",
    "    if var_type == \"real\":\n",
    "        return fit[\"mean_pars\"][fit[\"sampler_param_names\"].index(var_name)]\n",
    "    elif var_type == \"vector\":\n",
    "        vec = []\n",
    "        for i in xrange(len(fit[\"sampler_param_names\"])):\n",
    "            if var_name in fit[\"sampler_param_names\"][i]:\n",
    "                vec.append(fit[\"mean_pars\"][i])\n",
    "        return np.array(vec)\n",
    "    elif var_type == \"matrix\":\n",
    "        if dims == None:\n",
    "            raise Exception(\"For matrix variables, you must specify a 'dims' parameter\")\n",
    "        C, D = dims\n",
    "        mat = []\n",
    "        for i in xrange(len(fit[\"sampler_param_names\"])):\n",
    "            if var_name in fit[\"sampler_param_names\"][i]:\n",
    "                mat.append(fit[\"mean_pars\"][i])\n",
    "        mat = np.array(mat).reshape(C, D, order='F')\n",
    "        return mat\n",
    "    else:\n",
    "        raise Exception(\"Unknown variable type: %s. Valid types are: real, vector and matrix\" % (var_type,))\n",
    "\n",
    "\n",
    "def vb_plot_variables(fit, var_names):\n",
    "    samples, means, names = vb_extract(fit)\n",
    "\n",
    "    if type(var_names) == str:\n",
    "        var_names = [var_names]\n",
    "    elif type(var_names) != list:\n",
    "        raise Exception(\"Invalid argument type for var_names\")\n",
    "\n",
    "    to_plot = []\n",
    "    for var in var_names:\n",
    "        for i in xrange(len(fit[\"sampler_param_names\"])):\n",
    "            if var == fit[\"sampler_param_names\"][i] or var in fit[\"sampler_param_names\"][i]: \n",
    "                to_plot.append(fit[\"sampler_param_names\"][i])\n",
    "\n",
    "    for var in to_plot:\n",
    "        plots.kdeplot_op(plt, samples[var])\n",
    "    plt.legend(to_plot)\n",
    "    plt.show()\n",
    "\n",
    "\n",
    "def report(fit, prefix=''):\n",
    "    for param in fit['sampler_param_names']:\n",
    "        if param.startswith(prefix):\n",
    "            print(param, \"=\", vb_extract_variable(fit, var_name=param))\n",
    "            \n",
    "def plot_trace(param, param_name='parameter'):\n",
    "  \"\"\"Plot the trace and posterior of a parameter.\"\"\"\n",
    "  \n",
    "  # Summary statistics\n",
    "  mean = np.mean(param)\n",
    "  median = np.median(param)\n",
    "  cred_min, cred_max = np.percentile(param, 2.5), np.percentile(param, 97.5)\n",
    "  \n",
    "  # Plotting\n",
    "  plt.subplot(1,2,1)\n",
    "  plt.plot(param,color=\"b\")\n",
    "  plt.xlabel('samples')\n",
    "  plt.ylabel(param_name)\n",
    "  plt.axhline(mean, color='r', lw=2, linestyle='--')\n",
    "  plt.axhline(median, color='c', lw=2, linestyle='--')\n",
    "  plt.axhline(cred_min, linestyle=':', color='k', alpha=0.2)\n",
    "  plt.axhline(cred_max, linestyle=':', color='k', alpha=0.2)\n",
    "  plt.title('Trace and Posterior Distribution for {}'.format(param_name))\n",
    "\n",
    "  plt.subplot(1,2,2)\n",
    "  plt.hist(param, 30, density=True, color=\"blue\",); sns.kdeplot(param, shade=True,color=\"g\")\n",
    "  plt.xlabel(param_name)\n",
    "  plt.ylabel('density')\n",
    "  plt.axvline(mean, color='r', lw=2, linestyle='--',label='mean')\n",
    "  plt.axvline(median, color='c', lw=2, linestyle='--',label='median')\n",
    "  plt.axvline(cred_min, linestyle=':', color='k', alpha=0.2, label='95% CI')\n",
    "  plt.axvline(cred_max, linestyle=':', color='k', alpha=0.2)\n",
    "  \n",
    "  plt.gcf().tight_layout()\n",
    "  plt.legend()\n",
    "    \n",
    "def plot_confusion_matrix(cm, target_names, title='Confusion matrix', cmap=None, normalize=True):\n",
    "    \"\"\"\n",
    "    given a sklearn confusion matrix (cm), make a nice plot\n",
    "    Arguments\n",
    "    ---------\n",
    "    cm:           confusion matrix from sklearn.metrics.confusion_matrix\n",
    "    target_names: given classification classes such as [0, 1, 2]\n",
    "                  the class names, for example: ['high', 'medium', 'low']\n",
    "    title:        the text to display at the top of the matrix\n",
    "    cmap:         the gradient of the values displayed from matplotlib.pyplot.cm\n",
    "                  see http://matplotlib.org/examples/color/colormaps_reference.html\n",
    "                  plt.get_cmap('jet') or plt.cm.Blues\n",
    "    normalize:    If False, plot the raw numbers\n",
    "                  If True, plot the proportions\n",
    "    Usage\n",
    "    -----\n",
    "    plot_confusion_matrix(cm           = cm,                  # confusion matrix created by\n",
    "                                                              # sklearn.metrics.confusion_matrix\n",
    "                          normalize    = True,                # show proportions\n",
    "                          target_names = y_labels_vals,       # list of names of the classes\n",
    "                          title        = best_estimator_name) # title of graph\n",
    "    Citiation\n",
    "    ---------\n",
    "    http://scikit-learn.org/stable/auto_examples/model_selection/plot_confusion_matrix.html\n",
    "    \"\"\"\n",
    "    import matplotlib.pyplot as plt\n",
    "    import numpy as np\n",
    "    import itertools\n",
    "\n",
    "    accuracy = np.trace(cm) / float(np.sum(cm))\n",
    "    misclass = 1 - accuracy\n",
    "\n",
    "    if cmap is None:\n",
    "        cmap = plt.get_cmap('Blues')\n",
    "\n",
    "    plt.figure(figsize=(6, 4))\n",
    "    plt.imshow(cm, interpolation='nearest', cmap=cmap)\n",
    "    plt.title(title)\n",
    "    plt.colorbar()\n",
    "\n",
    "    if target_names is not None:\n",
    "        tick_marks = np.arange(len(target_names))\n",
    "        plt.xticks(tick_marks, target_names, rotation=45)\n",
    "        plt.yticks(tick_marks, target_names)\n",
    "\n",
    "    if normalize:\n",
    "        cm = cm.astype('float') / cm.sum(axis=1)[:, np.newaxis]\n",
    "\n",
    "\n",
    "    thresh = cm.max() / 1.5 if normalize else cm.max() / 2\n",
    "    for i, j in itertools.product(range(cm.shape[0]), range(cm.shape[1])):\n",
    "        if normalize:\n",
    "            plt.text(j, i, \"{:0.4f}\".format(cm[i, j]),\n",
    "                     horizontalalignment=\"center\",\n",
    "                     color=\"white\" if cm[i, j] > thresh else \"black\")\n",
    "        else:\n",
    "            plt.text(j, i, \"{:,}\".format(cm[i, j]),\n",
    "                     horizontalalignment=\"center\",\n",
    "                     color=\"white\" if cm[i, j] > thresh else \"black\")\n",
    "\n",
    "\n",
    "    plt.tight_layout()\n",
    "    plt.ylabel('True label')\n",
    "    plt.xlabel('Predicted label\\naccuracy={:0.4f}; misclass={:0.4f}'.format(accuracy, misclass))\n",
    "    plt.show()\n"
   ]
  },
  {
   "cell_type": "markdown",
   "metadata": {},
   "source": [
    "#### b. Define likelihood functions: "
   ]
  },
  {
   "cell_type": "code",
   "execution_count": 29,
   "metadata": {},
   "outputs": [],
   "source": [
    "import numdifftools as ndt\n",
    "import pandas as pd\n",
    "from scipy.stats import norm\n",
    "import statsmodels.api as sm\n",
    "from statsmodels.base.model import GenericLikelihoodModel\n",
    "from scipy.optimize import minimize\n",
    "#Log-Likelihood function\n",
    "def _ll_ols(y, X, beta, sigma):\n",
    "    mu = X.dot(beta)\n",
    "    return norm(mu,sigma).logpdf(y).sum()    \n",
    "#log-likelihood for negative binomial \n",
    "def neg_loglike(theta):\n",
    "    mu = theta[0] + theta[1]*x\n",
    "    return -1*norm(mu, theta[2]).logpdf(y).sum()"
   ]
  },
  {
   "cell_type": "code",
   "execution_count": 30,
   "metadata": {},
   "outputs": [
    {
     "data": {
      "text/html": [
       "<div>\n",
       "<style scoped>\n",
       "    .dataframe tbody tr th:only-of-type {\n",
       "        vertical-align: middle;\n",
       "    }\n",
       "\n",
       "    .dataframe tbody tr th {\n",
       "        vertical-align: top;\n",
       "    }\n",
       "\n",
       "    .dataframe thead th {\n",
       "        text-align: right;\n",
       "    }\n",
       "</style>\n",
       "<table border=\"1\" class=\"dataframe\">\n",
       "  <thead>\n",
       "    <tr style=\"text-align: right;\">\n",
       "      <th></th>\n",
       "      <th>height</th>\n",
       "      <th>weight</th>\n",
       "      <th>contacts_count</th>\n",
       "      <th>house_count</th>\n",
       "      <th>public_transport_count</th>\n",
       "      <th>worried</th>\n",
       "    </tr>\n",
       "  </thead>\n",
       "  <tbody>\n",
       "    <tr>\n",
       "      <th>count</th>\n",
       "      <td>5111.000000</td>\n",
       "      <td>5111.000000</td>\n",
       "      <td>5111.000000</td>\n",
       "      <td>5111.000000</td>\n",
       "      <td>5111.000000</td>\n",
       "      <td>5111.000000</td>\n",
       "    </tr>\n",
       "    <tr>\n",
       "      <th>mean</th>\n",
       "      <td>171.915085</td>\n",
       "      <td>83.771082</td>\n",
       "      <td>7.545881</td>\n",
       "      <td>2.998630</td>\n",
       "      <td>0.264919</td>\n",
       "      <td>3.646644</td>\n",
       "    </tr>\n",
       "    <tr>\n",
       "      <th>std</th>\n",
       "      <td>10.986410</td>\n",
       "      <td>23.160159</td>\n",
       "      <td>6.538236</td>\n",
       "      <td>1.673495</td>\n",
       "      <td>1.390441</td>\n",
       "      <td>0.702782</td>\n",
       "    </tr>\n",
       "    <tr>\n",
       "      <th>min</th>\n",
       "      <td>110.000000</td>\n",
       "      <td>44.000000</td>\n",
       "      <td>0.000000</td>\n",
       "      <td>1.000000</td>\n",
       "      <td>0.000000</td>\n",
       "      <td>1.000000</td>\n",
       "    </tr>\n",
       "    <tr>\n",
       "      <th>25%</th>\n",
       "      <td>164.000000</td>\n",
       "      <td>68.000000</td>\n",
       "      <td>3.000000</td>\n",
       "      <td>2.000000</td>\n",
       "      <td>0.000000</td>\n",
       "      <td>3.000000</td>\n",
       "    </tr>\n",
       "    <tr>\n",
       "      <th>50%</th>\n",
       "      <td>172.000000</td>\n",
       "      <td>80.000000</td>\n",
       "      <td>5.000000</td>\n",
       "      <td>3.000000</td>\n",
       "      <td>0.000000</td>\n",
       "      <td>4.000000</td>\n",
       "    </tr>\n",
       "    <tr>\n",
       "      <th>75%</th>\n",
       "      <td>180.000000</td>\n",
       "      <td>94.000000</td>\n",
       "      <td>10.000000</td>\n",
       "      <td>4.000000</td>\n",
       "      <td>0.000000</td>\n",
       "      <td>4.000000</td>\n",
       "    </tr>\n",
       "    <tr>\n",
       "      <th>max</th>\n",
       "      <td>238.000000</td>\n",
       "      <td>180.000000</td>\n",
       "      <td>21.000000</td>\n",
       "      <td>11.000000</td>\n",
       "      <td>15.000000</td>\n",
       "      <td>5.000000</td>\n",
       "    </tr>\n",
       "  </tbody>\n",
       "</table>\n",
       "</div>"
      ],
      "text/plain": [
       "            height       weight  contacts_count  house_count  \\\n",
       "count  5111.000000  5111.000000     5111.000000  5111.000000   \n",
       "mean    171.915085    83.771082        7.545881     2.998630   \n",
       "std      10.986410    23.160159        6.538236     1.673495   \n",
       "min     110.000000    44.000000        0.000000     1.000000   \n",
       "25%     164.000000    68.000000        3.000000     2.000000   \n",
       "50%     172.000000    80.000000        5.000000     3.000000   \n",
       "75%     180.000000    94.000000       10.000000     4.000000   \n",
       "max     238.000000   180.000000       21.000000    11.000000   \n",
       "\n",
       "       public_transport_count      worried  \n",
       "count             5111.000000  5111.000000  \n",
       "mean                 0.264919     3.646644  \n",
       "std                  1.390441     0.702782  \n",
       "min                  0.000000     1.000000  \n",
       "25%                  0.000000     3.000000  \n",
       "50%                  0.000000     4.000000  \n",
       "75%                  0.000000     4.000000  \n",
       "max                 15.000000     5.000000  "
      ]
     },
     "execution_count": 30,
     "metadata": {},
     "output_type": "execute_result"
    }
   ],
   "source": [
    "dfp.describe()"
   ]
  },
  {
   "cell_type": "code",
   "execution_count": null,
   "metadata": {},
   "outputs": [],
   "source": []
  },
  {
   "cell_type": "code",
   "execution_count": 31,
   "metadata": {},
   "outputs": [
    {
     "data": {
      "text/html": [
       "<div>\n",
       "<style scoped>\n",
       "    .dataframe tbody tr th:only-of-type {\n",
       "        vertical-align: middle;\n",
       "    }\n",
       "\n",
       "    .dataframe tbody tr th {\n",
       "        vertical-align: top;\n",
       "    }\n",
       "\n",
       "    .dataframe thead th {\n",
       "        text-align: right;\n",
       "    }\n",
       "</style>\n",
       "<table border=\"1\" class=\"dataframe\">\n",
       "  <thead>\n",
       "    <tr style=\"text-align: right;\">\n",
       "      <th></th>\n",
       "      <th>height</th>\n",
       "      <th>weight</th>\n",
       "      <th>insurance</th>\n",
       "      <th>immigrant</th>\n",
       "      <th>contacts_count</th>\n",
       "      <th>house_count</th>\n",
       "      <th>public_transport_count</th>\n",
       "      <th>worried</th>\n",
       "      <th>covid19_positive</th>\n",
       "      <th>covid19_symptoms</th>\n",
       "    </tr>\n",
       "  </thead>\n",
       "  <tbody>\n",
       "    <tr>\n",
       "      <th>0</th>\n",
       "      <td>184</td>\n",
       "      <td>80</td>\n",
       "      <td>True</td>\n",
       "      <td>True</td>\n",
       "      <td>8</td>\n",
       "      <td>5</td>\n",
       "      <td>0</td>\n",
       "      <td>4</td>\n",
       "      <td>True</td>\n",
       "      <td>False</td>\n",
       "    </tr>\n",
       "    <tr>\n",
       "      <th>1</th>\n",
       "      <td>164</td>\n",
       "      <td>84</td>\n",
       "      <td>True</td>\n",
       "      <td>True</td>\n",
       "      <td>8</td>\n",
       "      <td>1</td>\n",
       "      <td>0</td>\n",
       "      <td>4</td>\n",
       "      <td>True</td>\n",
       "      <td>False</td>\n",
       "    </tr>\n",
       "    <tr>\n",
       "      <th>2</th>\n",
       "      <td>170</td>\n",
       "      <td>64</td>\n",
       "      <td>True</td>\n",
       "      <td>True</td>\n",
       "      <td>10</td>\n",
       "      <td>1</td>\n",
       "      <td>0</td>\n",
       "      <td>4</td>\n",
       "      <td>True</td>\n",
       "      <td>False</td>\n",
       "    </tr>\n",
       "    <tr>\n",
       "      <th>3</th>\n",
       "      <td>132</td>\n",
       "      <td>124</td>\n",
       "      <td>True</td>\n",
       "      <td>True</td>\n",
       "      <td>8</td>\n",
       "      <td>10</td>\n",
       "      <td>0</td>\n",
       "      <td>4</td>\n",
       "      <td>True</td>\n",
       "      <td>False</td>\n",
       "    </tr>\n",
       "    <tr>\n",
       "      <th>4</th>\n",
       "      <td>184</td>\n",
       "      <td>118</td>\n",
       "      <td>True</td>\n",
       "      <td>True</td>\n",
       "      <td>8</td>\n",
       "      <td>3</td>\n",
       "      <td>0</td>\n",
       "      <td>4</td>\n",
       "      <td>True</td>\n",
       "      <td>True</td>\n",
       "    </tr>\n",
       "    <tr>\n",
       "      <th>...</th>\n",
       "      <td>...</td>\n",
       "      <td>...</td>\n",
       "      <td>...</td>\n",
       "      <td>...</td>\n",
       "      <td>...</td>\n",
       "      <td>...</td>\n",
       "      <td>...</td>\n",
       "      <td>...</td>\n",
       "      <td>...</td>\n",
       "      <td>...</td>\n",
       "    </tr>\n",
       "    <tr>\n",
       "      <th>1865</th>\n",
       "      <td>178</td>\n",
       "      <td>106</td>\n",
       "      <td>True</td>\n",
       "      <td>True</td>\n",
       "      <td>3</td>\n",
       "      <td>3</td>\n",
       "      <td>0</td>\n",
       "      <td>4</td>\n",
       "      <td>True</td>\n",
       "      <td>False</td>\n",
       "    </tr>\n",
       "    <tr>\n",
       "      <th>1866</th>\n",
       "      <td>196</td>\n",
       "      <td>90</td>\n",
       "      <td>True</td>\n",
       "      <td>True</td>\n",
       "      <td>2</td>\n",
       "      <td>2</td>\n",
       "      <td>0</td>\n",
       "      <td>3</td>\n",
       "      <td>True</td>\n",
       "      <td>False</td>\n",
       "    </tr>\n",
       "    <tr>\n",
       "      <th>1867</th>\n",
       "      <td>192</td>\n",
       "      <td>84</td>\n",
       "      <td>True</td>\n",
       "      <td>True</td>\n",
       "      <td>20</td>\n",
       "      <td>5</td>\n",
       "      <td>0</td>\n",
       "      <td>4</td>\n",
       "      <td>True</td>\n",
       "      <td>False</td>\n",
       "    </tr>\n",
       "    <tr>\n",
       "      <th>1868</th>\n",
       "      <td>176</td>\n",
       "      <td>78</td>\n",
       "      <td>True</td>\n",
       "      <td>True</td>\n",
       "      <td>4</td>\n",
       "      <td>3</td>\n",
       "      <td>0</td>\n",
       "      <td>4</td>\n",
       "      <td>True</td>\n",
       "      <td>False</td>\n",
       "    </tr>\n",
       "    <tr>\n",
       "      <th>1869</th>\n",
       "      <td>174</td>\n",
       "      <td>76</td>\n",
       "      <td>True</td>\n",
       "      <td>True</td>\n",
       "      <td>10</td>\n",
       "      <td>4</td>\n",
       "      <td>10</td>\n",
       "      <td>4</td>\n",
       "      <td>True</td>\n",
       "      <td>False</td>\n",
       "    </tr>\n",
       "  </tbody>\n",
       "</table>\n",
       "<p>1870 rows × 10 columns</p>\n",
       "</div>"
      ],
      "text/plain": [
       "      height  weight  insurance  immigrant  contacts_count  house_count  \\\n",
       "0        184      80       True       True               8            5   \n",
       "1        164      84       True       True               8            1   \n",
       "2        170      64       True       True              10            1   \n",
       "3        132     124       True       True               8           10   \n",
       "4        184     118       True       True               8            3   \n",
       "...      ...     ...        ...        ...             ...          ...   \n",
       "1865     178     106       True       True               3            3   \n",
       "1866     196      90       True       True               2            2   \n",
       "1867     192      84       True       True              20            5   \n",
       "1868     176      78       True       True               4            3   \n",
       "1869     174      76       True       True              10            4   \n",
       "\n",
       "      public_transport_count  worried  covid19_positive  covid19_symptoms  \n",
       "0                          0        4              True             False  \n",
       "1                          0        4              True             False  \n",
       "2                          0        4              True             False  \n",
       "3                          0        4              True             False  \n",
       "4                          0        4              True              True  \n",
       "...                      ...      ...               ...               ...  \n",
       "1865                       0        4              True             False  \n",
       "1866                       0        3              True             False  \n",
       "1867                       0        4              True             False  \n",
       "1868                       0        4              True             False  \n",
       "1869                      10        4              True             False  \n",
       "\n",
       "[1870 rows x 10 columns]"
      ]
     },
     "execution_count": 31,
     "metadata": {},
     "output_type": "execute_result"
    }
   ],
   "source": [
    "m=dfp.loc[dfp['covid19_positive']==True]\n",
    "m"
   ]
  },
  {
   "cell_type": "markdown",
   "metadata": {},
   "source": [
    "The simulated data indicates that there are 1870 cases of covid 19 (unreported and reported) => λ = 1870"
   ]
  },
  {
   "cell_type": "code",
   "execution_count": null,
   "metadata": {},
   "outputs": [],
   "source": []
  },
  {
   "cell_type": "markdown",
   "metadata": {},
   "source": [
    "The simulated data indicates that there are 944 cases of covid 19 (unreported and reported) => y = 937"
   ]
  },
  {
   "cell_type": "markdown",
   "metadata": {},
   "source": [
    "### c. Parameter Estimation: "
   ]
  },
  {
   "cell_type": "markdown",
   "metadata": {},
   "source": [
    "+ It is hard to estimate the probability of underreporting from a list of occurances (number of infections in the time-series data). The possibility of reporting by a patient is assumed to be susceptible to their conditions and other utilities (if their health is too severe they might have higher chance of reporting and if reporting rewards them money (utility), they will consider to visit a clinic).\n",
    "+ When underreporting issue happens, some actual behavioral incidences are not reported. The econometrician only observes R, when a behavior occurs (Yit = 1 - with Y is the actual incident), we model the respondent's decision on whether or not to report as in a binary probit setting as follow:\n",
    "<img src=\"report.png\"/>"
   ]
  },
  {
   "cell_type": "code",
   "execution_count": 32,
   "metadata": {},
   "outputs": [
    {
     "data": {
      "text/plain": [
       "array([[146, 56, False, ..., 0, 4, False],\n",
       "       [192, 100, True, ..., 0, 4, False],\n",
       "       [168, 68, True, ..., 0, 4, False],\n",
       "       ...,\n",
       "       [166, 80, True, ..., 0, 3, False],\n",
       "       [178, 52, False, ..., 0, 4, False],\n",
       "       [170, 68, True, ..., 0, 4, False]], dtype=object)"
      ]
     },
     "execution_count": 32,
     "metadata": {},
     "output_type": "execute_result"
    }
   ],
   "source": [
    "X_train"
   ]
  },
  {
   "cell_type": "code",
   "execution_count": 33,
   "metadata": {},
   "outputs": [
    {
     "name": "stdout",
     "output_type": "stream",
     "text": [
      "Optimization terminated successfully.\n",
      "         Current function value: 0.532520\n",
      "         Iterations 6\n",
      "Parameters:  const   -0.298083\n",
      "x1      -0.015384\n",
      "x2       0.007185\n",
      "x3       0.154459\n",
      "x4       0.497611\n",
      "x5       0.015168\n",
      "x6       0.070935\n",
      "x7      -0.000589\n",
      "x8       0.237831\n",
      "x9       1.849891\n",
      "dtype: float64\n",
      "Marginal effects: \n",
      "       Probit Marginal Effects       \n",
      "=====================================\n",
      "Dep. Variable:       covid19_positive\n",
      "Method:                          dydx\n",
      "At:                           overall\n",
      "==============================================================================\n",
      "                dy/dx    std err          z      P>|z|      [0.025      0.975]\n",
      "------------------------------------------------------------------------------\n",
      "x1            -0.0046      0.001     -6.693      0.000      -0.006      -0.003\n",
      "x2             0.0022      0.000      6.536      0.000       0.002       0.003\n",
      "x3             0.0465      0.023      2.007      0.045       0.001       0.092\n",
      "x4             0.1498      0.026      5.815      0.000       0.099       0.200\n",
      "x5             0.0046      0.001      4.174      0.000       0.002       0.007\n",
      "x6             0.0214      0.004      4.887      0.000       0.013       0.030\n",
      "x7            -0.0002      0.005     -0.034      0.973      -0.010       0.010\n",
      "x8             0.0716      0.010      6.921      0.000       0.051       0.092\n",
      "x9             0.5569      0.024     23.341      0.000       0.510       0.604\n",
      "==============================================================================\n",
      "                          Probit Regression Results                           \n",
      "==============================================================================\n",
      "Dep. Variable:       covid19_positive   No. Observations:                 3628\n",
      "Model:                         Probit   Df Residuals:                     3618\n",
      "Method:                           MLE   Df Model:                            9\n",
      "Date:                Sat, 12 Dec 2020   Pseudo R-squ.:                  0.1891\n",
      "Time:                        22:13:18   Log-Likelihood:                -1932.0\n",
      "converged:                       True   LL-Null:                       -2382.4\n",
      "Covariance Type:            nonrobust   LLR p-value:                4.185e-188\n",
      "==============================================================================\n",
      "                 coef    std err          z      P>|z|      [0.025      0.975]\n",
      "------------------------------------------------------------------------------\n",
      "const         -0.2981      0.414     -0.720      0.472      -1.110       0.514\n",
      "x1            -0.0154      0.002     -6.584      0.000      -0.020      -0.011\n",
      "x2             0.0072      0.001      6.429      0.000       0.005       0.009\n",
      "x3             0.1545      0.077      2.004      0.045       0.003       0.305\n",
      "x4             0.4976      0.086      5.756      0.000       0.328       0.667\n",
      "x5             0.0152      0.004      4.149      0.000       0.008       0.022\n",
      "x6             0.0709      0.015      4.844      0.000       0.042       0.100\n",
      "x7            -0.0006      0.017     -0.034      0.973      -0.034       0.033\n",
      "x8             0.2378      0.035      6.804      0.000       0.169       0.306\n",
      "x9             1.8499      0.093     19.842      0.000       1.667       2.033\n",
      "==============================================================================\n"
     ]
    }
   ],
   "source": [
    "from statsmodels.sandbox.regression.predstd import wls_prediction_std\n",
    "X_train = sm.add_constant(X_train)\n",
    "\n",
    "model = Probit(y_train,X_train.astype('float'))\n",
    "probit_model = model.fit(maxiter=1000)\n",
    "probit_margeff = probit_model.get_margeff()\n",
    "print('Parameters: ', probit_model.params)\n",
    "print('Marginal effects: ')\n",
    "print(probit_margeff.summary())\n",
    "print(probit_model.summary())\n"
   ]
  },
  {
   "cell_type": "markdown",
   "metadata": {},
   "source": [
    "=> **The R-Square is pretty low (0.00166) stating this model is not really reliable**"
   ]
  },
  {
   "cell_type": "code",
   "execution_count": 34,
   "metadata": {},
   "outputs": [
    {
     "data": {
      "text/html": [
       "<div>\n",
       "<style scoped>\n",
       "    .dataframe tbody tr th:only-of-type {\n",
       "        vertical-align: middle;\n",
       "    }\n",
       "\n",
       "    .dataframe tbody tr th {\n",
       "        vertical-align: top;\n",
       "    }\n",
       "\n",
       "    .dataframe thead th {\n",
       "        text-align: right;\n",
       "    }\n",
       "</style>\n",
       "<table border=\"1\" class=\"dataframe\">\n",
       "  <thead>\n",
       "    <tr style=\"text-align: right;\">\n",
       "      <th></th>\n",
       "      <th>0</th>\n",
       "      <th>1</th>\n",
       "    </tr>\n",
       "  </thead>\n",
       "  <tbody>\n",
       "    <tr>\n",
       "      <th>const</th>\n",
       "      <td>-1.109972</td>\n",
       "      <td>0.513807</td>\n",
       "    </tr>\n",
       "    <tr>\n",
       "      <th>x1</th>\n",
       "      <td>-0.019963</td>\n",
       "      <td>-0.010805</td>\n",
       "    </tr>\n",
       "    <tr>\n",
       "      <th>x2</th>\n",
       "      <td>0.004995</td>\n",
       "      <td>0.009376</td>\n",
       "    </tr>\n",
       "    <tr>\n",
       "      <th>x3</th>\n",
       "      <td>0.003424</td>\n",
       "      <td>0.305493</td>\n",
       "    </tr>\n",
       "    <tr>\n",
       "      <th>x4</th>\n",
       "      <td>0.328164</td>\n",
       "      <td>0.667059</td>\n",
       "    </tr>\n",
       "    <tr>\n",
       "      <th>x5</th>\n",
       "      <td>0.008002</td>\n",
       "      <td>0.022334</td>\n",
       "    </tr>\n",
       "    <tr>\n",
       "      <th>x6</th>\n",
       "      <td>0.042232</td>\n",
       "      <td>0.099638</td>\n",
       "    </tr>\n",
       "    <tr>\n",
       "      <th>x7</th>\n",
       "      <td>-0.034394</td>\n",
       "      <td>0.033217</td>\n",
       "    </tr>\n",
       "    <tr>\n",
       "      <th>x8</th>\n",
       "      <td>0.169326</td>\n",
       "      <td>0.306337</td>\n",
       "    </tr>\n",
       "    <tr>\n",
       "      <th>x9</th>\n",
       "      <td>1.667161</td>\n",
       "      <td>2.032620</td>\n",
       "    </tr>\n",
       "  </tbody>\n",
       "</table>\n",
       "</div>"
      ],
      "text/plain": [
       "              0         1\n",
       "const -1.109972  0.513807\n",
       "x1    -0.019963 -0.010805\n",
       "x2     0.004995  0.009376\n",
       "x3     0.003424  0.305493\n",
       "x4     0.328164  0.667059\n",
       "x5     0.008002  0.022334\n",
       "x6     0.042232  0.099638\n",
       "x7    -0.034394  0.033217\n",
       "x8     0.169326  0.306337\n",
       "x9     1.667161  2.032620"
      ]
     },
     "execution_count": 34,
     "metadata": {},
     "output_type": "execute_result"
    }
   ],
   "source": [
    "probit_model.conf_int(alpha=0.05)"
   ]
  },
  {
   "cell_type": "code",
   "execution_count": 35,
   "metadata": {},
   "outputs": [
    {
     "data": {
      "image/png": "[encoded data removed]",
      "text/plain": [
       "<Figure size 432x288 with 1 Axes>"
      ]
     },
     "metadata": {},
     "output_type": "display_data"
    }
   ],
   "source": [
    "T=probit_model.predict()\n",
    "\n",
    "plt.title(\"Probit Regression \")\n",
    "plt.xlabel('Respondents in the survey')\n",
    "plt.ylabel('Probability of reporting')\n",
    "plt.plot(T[0:100])\n",
    "plt.show()"
   ]
  },
  {
   "cell_type": "code",
   "execution_count": 36,
   "metadata": {},
   "outputs": [
    {
     "data": {
      "text/plain": [
       "0.36548801301497486"
      ]
     },
     "execution_count": 36,
     "metadata": {},
     "output_type": "execute_result"
    }
   ],
   "source": [
    "T.mean()"
   ]
  },
  {
   "cell_type": "code",
   "execution_count": 37,
   "metadata": {},
   "outputs": [],
   "source": [
    "T=pd.DataFrame(T)"
   ]
  },
  {
   "cell_type": "code",
   "execution_count": 38,
   "metadata": {},
   "outputs": [],
   "source": [
    "T=T.rename(columns={0:'prob'})"
   ]
  },
  {
   "cell_type": "code",
   "execution_count": 39,
   "metadata": {},
   "outputs": [],
   "source": [
    "T.reset_index(inplace=True)\n"
   ]
  },
  {
   "cell_type": "code",
   "execution_count": 40,
   "metadata": {},
   "outputs": [],
   "source": [
    "T=T.rename(columns={'index':'respondent'})"
   ]
  },
  {
   "cell_type": "code",
   "execution_count": 41,
   "metadata": {},
   "outputs": [
    {
     "data": {
      "text/html": [
       "<div>\n",
       "<style scoped>\n",
       "    .dataframe tbody tr th:only-of-type {\n",
       "        vertical-align: middle;\n",
       "    }\n",
       "\n",
       "    .dataframe tbody tr th {\n",
       "        vertical-align: top;\n",
       "    }\n",
       "\n",
       "    .dataframe thead th {\n",
       "        text-align: right;\n",
       "    }\n",
       "</style>\n",
       "<table border=\"1\" class=\"dataframe\">\n",
       "  <thead>\n",
       "    <tr style=\"text-align: right;\">\n",
       "      <th></th>\n",
       "      <th>respondent</th>\n",
       "      <th>prob</th>\n",
       "    </tr>\n",
       "  </thead>\n",
       "  <tbody>\n",
       "    <tr>\n",
       "      <th>0</th>\n",
       "      <td>0</td>\n",
       "      <td>0.161605</td>\n",
       "    </tr>\n",
       "    <tr>\n",
       "      <th>1</th>\n",
       "      <td>1</td>\n",
       "      <td>0.262286</td>\n",
       "    </tr>\n",
       "    <tr>\n",
       "      <th>2</th>\n",
       "      <td>2</td>\n",
       "      <td>0.338768</td>\n",
       "    </tr>\n",
       "    <tr>\n",
       "      <th>3</th>\n",
       "      <td>3</td>\n",
       "      <td>0.315720</td>\n",
       "    </tr>\n",
       "    <tr>\n",
       "      <th>4</th>\n",
       "      <td>4</td>\n",
       "      <td>0.972060</td>\n",
       "    </tr>\n",
       "    <tr>\n",
       "      <th>...</th>\n",
       "      <td>...</td>\n",
       "      <td>...</td>\n",
       "    </tr>\n",
       "    <tr>\n",
       "      <th>3623</th>\n",
       "      <td>3623</td>\n",
       "      <td>0.029531</td>\n",
       "    </tr>\n",
       "    <tr>\n",
       "      <th>3624</th>\n",
       "      <td>3624</td>\n",
       "      <td>0.509526</td>\n",
       "    </tr>\n",
       "    <tr>\n",
       "      <th>3625</th>\n",
       "      <td>3625</td>\n",
       "      <td>0.225310</td>\n",
       "    </tr>\n",
       "    <tr>\n",
       "      <th>3626</th>\n",
       "      <td>3626</td>\n",
       "      <td>0.197844</td>\n",
       "    </tr>\n",
       "    <tr>\n",
       "      <th>3627</th>\n",
       "      <td>3627</td>\n",
       "      <td>0.236785</td>\n",
       "    </tr>\n",
       "  </tbody>\n",
       "</table>\n",
       "<p>3628 rows × 2 columns</p>\n",
       "</div>"
      ],
      "text/plain": [
       "      respondent      prob\n",
       "0              0  0.161605\n",
       "1              1  0.262286\n",
       "2              2  0.338768\n",
       "3              3  0.315720\n",
       "4              4  0.972060\n",
       "...          ...       ...\n",
       "3623        3623  0.029531\n",
       "3624        3624  0.509526\n",
       "3625        3625  0.225310\n",
       "3626        3626  0.197844\n",
       "3627        3627  0.236785\n",
       "\n",
       "[3628 rows x 2 columns]"
      ]
     },
     "execution_count": 41,
     "metadata": {},
     "output_type": "execute_result"
    }
   ],
   "source": [
    "T"
   ]
  },
  {
   "cell_type": "code",
   "execution_count": 42,
   "metadata": {},
   "outputs": [
    {
     "data": {
      "text/plain": [
       "<Figure size 2880x3600 with 0 Axes>"
      ]
     },
     "metadata": {},
     "output_type": "display_data"
    },
    {
     "data": {
      "image/png": "[encoded data removed]",
      "text/plain": [
       "<Figure size 1332x756 with 10 Axes>"
      ]
     },
     "metadata": {},
     "output_type": "display_data"
    }
   ],
   "source": [
    "plt.figure(figsize=(40,50))\n",
    "\n",
    "fig = sm.graphics.plot_partregress_grid(probit_model)\n",
    "fig = plt.gcf()\n",
    "fig.set_size_inches(18.5, 10.5)\n",
    "fig.tight_layout()"
   ]
  },
  {
   "cell_type": "markdown",
   "metadata": {},
   "source": [
    "The vertical axis denotes the possibility of an individual reporting their conditions and the horizontal axis represents respective variables affecting their decisions. And it can be inferred that this model is not good enough since most of above charts displayed Zero Trend of correlation"
   ]
  },
  {
   "cell_type": "code",
   "execution_count": null,
   "metadata": {},
   "outputs": [],
   "source": [
    "import numpy as np\n",
    "from numpy import exp\n",
    "import matplotlib.pyplot as plt\n",
    "%matplotlib inline\n",
    "from scipy.special import factorial\n",
    "import pandas as pd\n",
    "from mpl_toolkits.mplot3d import Axes3D\n",
    "import statsmodels.api as sm\n",
    "from statsmodels.api import Poisson\n",
    "from scipy import stats\n",
    "from scipy.stats import norm\n",
    "from statsmodels.iolib.summary2 import summary_col"
   ]
  },
  {
   "cell_type": "code",
   "execution_count": null,
   "metadata": {},
   "outputs": [],
   "source": [
    "poisson_pmf = lambda y, μ: μ**y / factorial(y) * exp(-μ)\n",
    "β = random.rand(5111)\n",
    "\n",
    "y_values = range(1,100)\n",
    "\n",
    "fig, ax = plt.subplots(figsize=(12, 8))\n",
    "zx=[np.array(dfp['height']),\n",
    "   np.array(dfp['weight']),\n",
    "   np.array(dfp['contacts_count']),\n",
    "   np.array(dfp['public_transport_count']),\n",
    "   np.array(dfp['house_count'])]\n",
    "for q in zx:\n",
    "    μ = exp(q @ β)\n",
    "    distribution = []\n",
    "    for y_i in y_values:\n",
    "        distribution.append(poisson_pmf(y_i, μ))\n",
    "    ax.plot(y_values,\n",
    "            distribution,\n",
    "            label=f'$\\mu_i$={μ:.1}',\n",
    "            marker='o',\n",
    "            markersize=8,\n",
    "            alpha=0.5)\n",
    "\n",
    "ax.grid()\n",
    "ax.legend()\n",
    "ax.set_xlabel('$y \\mid x_i$')\n",
    "ax.set_ylabel(r'$f(y \\mid x_i; \\beta )$')\n",
    "ax.axis(xmin=0, ymin=0)\n",
    "plt.show()"
   ]
  },
  {
   "cell_type": "code",
   "execution_count": null,
   "metadata": {},
   "outputs": [],
   "source": [
    "def plot_joint_poisson(μ=7, y_n=20):\n",
    "    yi_values = np.arange(0, y_n, 1)\n",
    "\n",
    "    # Create coordinate points of X and Y\n",
    "    X, Y = np.meshgrid(yi_values, yi_values)\n",
    "\n",
    "    # Multiply distributions together\n",
    "    Z = poisson_pmf(X, μ) * poisson_pmf(Y, μ)\n",
    "\n",
    "    fig = plt.figure(figsize=(12, 8))\n",
    "    ax = fig.add_subplot(111, projection='3d')\n",
    "    ax.plot_surface(X, Y, Z.T, cmap='terrain', alpha=0.6)\n",
    "    ax.scatter(X, Y, Z.T, color='black', alpha=0.5, linewidths=1)\n",
    "    ax.set(xlabel='$y_1$', ylabel='$y_2$')\n",
    "    ax.set_zlabel('$f(y_1, y_2)$', labelpad=10)\n",
    "    plt.show()\n",
    "\n",
    "plot_joint_poisson(μ=40, y_n=20)\n",
    "fig.savefig('temp.png', transparent=True)"
   ]
  },
  {
   "cell_type": "code",
   "execution_count": null,
   "metadata": {},
   "outputs": [],
   "source": [
    "poisson_mod = sm.Poisson(y_train,X_train.astype(float))\n",
    "poisson_res = poisson_mod.fit(method=\"newton\")\n",
    "print(poisson_res.summary())\n",
    "\n",
    "\n",
    "# testing the model\n",
    "predVals = poisson_res.predict()\n",
    "\n",
    "plt.plot(range(len(y_train)), T, 'r*-', range(len(y_train)), predVals, 'bo-')\n",
    "plt.title('Poisson vs Binary Probit')\n",
    "plt.legend(['Probit', 'Poisson'])\n",
    "plt.show()"
   ]
  },
  {
   "cell_type": "markdown",
   "metadata": {},
   "source": [
    "=> Along with the given sample of covid19 report survey, it is inferred from the above chart that Poisson has the higher rate of reporting. To estimate the 'good' between the two models, Binary Probit has higher tendency of making right estimates compared to Poisson in term of R2-squared(0.0015 and 0.0005)  and log-likelihood (-2500 and -3000) "
   ]
  },
  {
   "cell_type": "markdown",
   "metadata": {},
   "source": [
    "### Limitation: \n",
    "+ Not accounting for delay period and doubling time rate\n",
    "+ Not accounting for the false of testing \n",
    "+ The model is not realiable enough for generalization "
   ]
  },
  {
   "cell_type": "markdown",
   "metadata": {},
   "source": [
    "### What's next? \n",
    "+ Continue with my old models (Bayesian Inference - upgraded and SEIR with this dataset)\n",
    "+ Compare their performances with these baseline models in term of MAP, log-likelihood and R-squared (SEIR do not have R square so I might need to make my own pseudo Rsquared)\n",
    "+ Attempt 1 more baseline model (beta-Poisson) since beta distribution does not concern of overdispersion problem\n",
    "+ Finally apply on the real dataset with (again) some synthetic (madeup) variables\n",
    "+ Possibilities model need to reviewed"
   ]
  },
  {
   "cell_type": "code",
   "execution_count": 11,
   "metadata": {},
   "outputs": [],
   "source": [
    "df1['newreported']=df1['reported']*1.365"
   ]
  },
  {
   "cell_type": "code",
   "execution_count": 12,
   "metadata": {},
   "outputs": [],
   "source": [
    "df1['newreported']=df1.newreported.astype('int')"
   ]
  },
  {
   "cell_type": "code",
   "execution_count": 20,
   "metadata": {},
   "outputs": [],
   "source": [
    "df1.set_index(df1['date'],inplace=True)"
   ]
  },
  {
   "cell_type": "code",
   "execution_count": 25,
   "metadata": {},
   "outputs": [
    {
     "data": {
      "image/png": "[encoded data removed]",
      "text/plain": [
       "<Figure size 432x288 with 1 Axes>"
      ]
     },
     "metadata": {},
     "output_type": "display_data"
    }
   ],
   "source": [
    "import matplotlib.pyplot as plt\n",
    "fig=plt.figure()\n",
    "fig.suptitle('Probit regression with mean = 0.365')\n",
    "\n",
    "w,=plt.plot(df1.index,df1['reported'],label='Reported Cases')\n",
    "r,=plt.plot(df1.index,df1['newreported'],label='Probit Regression')\n",
    "plt.legend(handles=[w,r,])\n",
    "plt.show()\n",
    "\n",
    "\n"
   ]
  },
  {
   "cell_type": "code",
   "execution_count": null,
   "metadata": {},
   "outputs": [],
   "source": []
  }
 ],
 "metadata": {
  "kernelspec": {
   "display_name": "Python 3",
   "language": "python",
   "name": "python3"
  },
  "language_info": {
   "codemirror_mode": {
    "name": "ipython",
    "version": 3
   },
   "file_extension": ".py",
   "mimetype": "text/x-python",
   "name": "python",
   "nbconvert_exporter": "python",
   "pygments_lexer": "ipython3",
   "version": "3.7.6"
  }
 },
 "nbformat": 4,
 "nbformat_minor": 4
}
