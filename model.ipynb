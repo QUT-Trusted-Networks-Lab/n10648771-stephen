{
 "cells": [
  {
   "cell_type": "code",
   "execution_count": 1,
   "metadata": {},
   "outputs": [],
   "source": [
    "import pandas as pd \n",
    "import numpy as np \n",
    "import matplotlib.pyplot as plt \n",
    "import seaborn as sns\n",
    "import random\n",
    "plt.ion()\n",
    "from bokeh.io import show, output_notebook\n",
    "from bokeh.models import ColumnDataSource, GeoJSONDataSource, ColorBar, HoverTool, Legend, LinearColorMapper, ColorBar\n",
    "from bokeh.plotting import figure\n",
    "from bokeh.palettes import brewer\n",
    "from bokeh.models.glyphs import Line\n",
    "from bokeh.palettes import Category10, Viridis\n",
    "from mesa import Agent, Model\n",
    "from mesa.time import RandomActivation\n",
    "import random\n",
    "\n",
    "%matplotlib inline\n",
    "# The below is needed for both notebooks and scripts\n",
    "\n",
    "import matplotlib.pyplot as plt\n",
    "import numpy as np\n",
    "from mesa.space import MultiGrid\n",
    "import networkx as nx\n",
    "from mesa.space import NetworkGrid\n",
    "import time, enum, math\n",
    "from mesa.datacollection import DataCollector\n",
    "import pandas as pd\n",
    "from mpmath import polylog\n",
    "import sys\n",
    "from networkx.utils import powerlaw_sequence\n",
    "import numpy as np\n",
    "import scipy.stats as stats\n",
    "import matplotlib.pyplot as plt\n",
    "from mesa.time import BaseScheduler\n",
    "pd.options.display.max_rows = None\n",
    "from sklearn.metrics import mean_squared_error"
   ]
  },
  {
   "cell_type": "markdown",
   "metadata": {},
   "source": [
    "# Let's play with Agent-Based Now "
   ]
  },
  {
   "cell_type": "markdown",
   "metadata": {},
   "source": [
    "## Agents: "
   ]
  },
  {
   "cell_type": "code",
   "execution_count": 2,
   "metadata": {},
   "outputs": [],
   "source": [
    "class RandomActivation(BaseScheduler):\n",
    "    \"\"\" A scheduler which activates each agent once per step, in random order,\n",
    "    with the order reshuffled every step.\n",
    "\n",
    "    This is equivalent to the NetLogo 'ask agents...' and is generally the\n",
    "    default behavior for an ABM.\n",
    "\n",
    "    Assumes that all agents have a step(model) method.\n",
    "\n",
    "    \"\"\"\n",
    "\n",
    "    def step(self, social = False) -> None:\n",
    "        \"\"\" Executes the step of all agents, one at a time, in\n",
    "        random order.\n",
    "\n",
    "        \"\"\"\n",
    "        self.social = social \n",
    "        for agent in self.agent_buffer(shuffled=True):\n",
    "            agent.step(social)\n",
    " \n",
    "        self.steps += 1\n",
    "        self.time += 1\n",
    "        \n",
    "        \n",
    "        \n",
    "class State(enum.IntEnum):\n",
    "    \"\"\"\n",
    "    ODE equation for SEIURRDD: \n",
    "    S1 = S0 - S0.(ε_i.I_u0+ε_u.I_r0)\n",
    "    E1 = S0.(ε_i.I_u0+ε_u.I_r0) - γE0\n",
    "    I_r1= αγE0 -(μ_i+θ_i)I_r0\n",
    "    I_u1 = (1-α)γE0 -(μ_u+θ_u)I_u0\n",
    "    R_r1 = θ_i.I_r0\n",
    "    R_u1 = θ_u.I_u0\n",
    "    D_r1 = μ_i.I_r0\n",
    "    D_u1 = μ_u.I_r0\n",
    "    \"\"\"\n",
    "    SUSCEPTIBLE = 0\n",
    "    EXPOSED = 1\n",
    "    REPORTED_INFECTED = 2\n",
    "    UNREPORTED_INFECTED = 3 \n",
    "    REPORTED_RECOVERED= 4\n",
    "    UNREPORTED_RECOVERED = 5\n",
    "    REPORTED_DEATH = 6\n",
    "    UNREPORTED_DEATH = 7\n",
    "    IMPORTED=8\n",
    "    QUARANTINED=9\n",
    "\n",
    "class CovidAgent(Agent):\n",
    "    \"\"\"This is a class of agents living inside the territory of Australia, each of them have been affected by imported agents\"\"\"\n",
    "    def __init__(self, unique_id, model):\n",
    "        super().__init__(unique_id,model)\n",
    "        self.state = State.SUSCEPTIBLE \n",
    "        self.day = 0 \n",
    "        \n",
    "    def step(self,social=False):\n",
    "        \"\"\"Take a step forwards in time in 2 condition\"\"\" \n",
    "        self.contact()\n",
    "        self.status(social)\n",
    "\n",
    "    def get_val(self):\n",
    "        return 0 \n",
    "    \n",
    "    def status(self, social = False):\n",
    "        \"\"\"Check infection status 1 if loop for exposed condition and 1 for infected condition\"\"\"\n",
    "        #social distancing policy\n",
    "        \"\"\"\n",
    "        EXPOSED\n",
    "        \"\"\"\n",
    "        if self.state == State.EXPOSED: \n",
    "            \"\"\"\n",
    "            beta: the reporting rate, transferring population of U->I, the way to  determine this value\n",
    "            is to fit with the real datase. Then use probability distribution to earn the value\n",
    "            \"\"\"\n",
    "            if self.day > self.model.T1: #T_1 - Latency Period\n",
    "                if self.random.random()<self.model.beta: #Beta\n",
    "                    self.state = State.REPORTED_INFECTED\n",
    "                    self.day = self.get_val()\n",
    "                else:\n",
    "                    self.state = State.UNREPORTED_INFECTED # (1-beta)\n",
    "                    self.day = self.get_val()\n",
    "\n",
    "            else:\n",
    "                self.day+=1\n",
    "\n",
    "        elif self.state == State.REPORTED_INFECTED:   #Reported\n",
    "\n",
    "            if self.random.random()>self.model.muy:  #Muy\n",
    "                if self.day>self.model.TR: #T_R\n",
    "                    self.state = State.REPORTED_RECOVERED\n",
    "                else:\n",
    "                    self.day+=1\n",
    "            else: #1-Muy\n",
    "                if self.day> self.model.TD: #T_D\n",
    "                    self.state=State.REPORTED_DEATH\n",
    "                else:\n",
    "                    self.day+=1\n",
    "        elif self.state == State.UNREPORTED_INFECTED: \n",
    "            if self.day >self.model.T+self.model.T2: # T: incubation period, T2: reporting period\n",
    "                if self.random.random()<alpha: #alpha\n",
    "                    self.state= State.REPORTED_INFECTED\n",
    "    \n",
    "                else: #1-alpha\n",
    "                    if self.random.random()>self.model.muy:  #Muy\n",
    "                        if self.day>self.model.TR: #T_R\n",
    "                            self.state = State.UNREPORTED_RECOVERED\n",
    "                        else:\n",
    "                            self.day+=1\n",
    "                    else: #1-Muy\n",
    "                        if self.day> self.model.TD: #T_D\n",
    "                            self.state=State.UNREPORTED_DEATH\n",
    "                        else:\n",
    "                            self.day+=1\n",
    "            else:\n",
    "                self.day+=1\n",
    "        elif self.state == State.IMPORTED:\n",
    "            \n",
    "            if self.random.random()<self.model.epsilon:\n",
    "                self.state = State.UNREPORTED_INFECTED \n",
    "                self.day = self.get_val()\n",
    "        \n",
    "\n",
    "   \n",
    "    def contact(self):\n",
    "        \"\"\"Find close contacts and infect\"\"\"\n",
    "\n",
    "        neighbors_nodes = self.model.grid.get_neighbors(self.pos, include_center=False)\n",
    "        neighbors = self.model.grid.get_cell_list_contents(neighbors_nodes)\n",
    "\n",
    "        susceptible_neighbors = random.choices(neighbors,k = self.model.getcontact())\n",
    "        #susceptible_population = [i for i in susceptile_neighbors if i.state == State.SUSCEPTIBLE]\n",
    "        for other in susceptible_neighbors: \n",
    "            if self.state is State.REPORTED_INFECTED and other.state is State.SUSCEPTIBLE:  \n",
    "                if self.random.random() <self.model.p: #this is transmissibility \n",
    "                    other.state = State.EXPOSED\n",
    "                    other.day=0\n",
    "\n",
    "            elif self.state is State.UNREPORTED_INFECTED and other.state is State.SUSCEPTIBLE:  \n",
    "                if self.random.random() <self.model.p: #\n",
    "                    other.state = State.EXPOSED\n",
    "                    other.day=0"
   ]
  },
  {
   "cell_type": "markdown",
   "metadata": {},
   "source": [
    "## Model "
   ]
  },
  {
   "cell_type": "code",
   "execution_count": 38,
   "metadata": {},
   "outputs": [],
   "source": [
    "class NetworkInfectionModel(Model):\n",
    "    \"\"\"\n",
    "    parameters: \n",
    "    + Beta: asymtomatic probability\n",
    "    + Theta: Recovery probability\n",
    "    + Mu: Death probability\n",
    "    + alpha: reporting rate\n",
    "    + N: population \n",
    "    + pr: transmissibility\n",
    "    + y: gamma - latency rate\n",
    "    + T: Recovery/Death period\n",
    "    \"\"\"\n",
    "\n",
    "    def __init__(self, N=1000,agent=500,p=0.63, beta =0.092,alpha=0.9,muy=0.05, T1=2,T2=4,TR=11,TD=20,T=5,TQ=14\n",
    "                , epsilon=0.01, omega=0.01,contact=4,contact_sd=1):\n",
    "        \"\"\"\n",
    "        All parameters\n",
    "        \"\"\"\n",
    "        self.num_nodes = N  \n",
    "        self.agent=agent\n",
    "        self.alpha = alpha\n",
    "        self.beta = beta\n",
    "        self.T1=T1\n",
    "        self.T2=T2\n",
    "        self.T=T\n",
    "        self.TR=TR\n",
    "        self.TD=TD\n",
    "        self.TQ=TQ\n",
    "        self.p=p\n",
    "        self.epsilon=epsilon\n",
    "        self.omega=omega\n",
    "        self.muy = muy #deathrate\n",
    "        self.contact=contact\n",
    "        self.contact_sd=contact_sd\n",
    "\n",
    "        #create network here: \n",
    "        self.G = nx.complete_graph(self.num_nodes, create_using=nx.Graph())\n",
    "\n",
    "        #self.G=nx.configuration_model(n)\n",
    "        self.G.remove_edges_from(list(nx.selfloop_edges(self.G)))\n",
    "        self.grid = NetworkGrid(self.G)\n",
    "\n",
    "        self.schedule = RandomActivation(self) #activate the step of Agents in random orders\n",
    "        self.running = True\n",
    "      \n",
    "        for i, node in enumerate(self.G.nodes()):\n",
    "            a = CovidAgent(i+1, self)\n",
    "            a.state = State.SUSCEPTIBLE\n",
    "            self.schedule.add(a)\n",
    "            #add agent\n",
    "            self.grid.place_agent(a, node)\n",
    "\n",
    "            #make some agents infected at start\n",
    "            infected = np.random.choice([0,1], p=[(self.num_nodes-10)/self.num_nodes,10/self.num_nodes])\n",
    "            if infected == 1:\n",
    "                a.state = State.UNREPORTED_INFECTED\n",
    "                a.day=0\n",
    "\n",
    "        \n",
    "        \n",
    "        #add agent\n",
    "        #self.create_agents()\n",
    "      \n",
    "        self.datacollector = DataCollector(            \n",
    "            agent_reporters={\"State\": 'state'})\n",
    "\n",
    "        \n",
    "    def create_agents(self): \n",
    "\n",
    "        for i in range(self.new):\n",
    "            self.rn = self.random.choice(self.m)\n",
    "            a = CovidAgent(self.rn, self)\n",
    "            self.schedule.add(a)\n",
    "            a.state=State.INFECTED\n",
    "            self.grid.place_agent(a, self.rn)\n",
    "            a.status()\n",
    "            a.contact()\n",
    "            # Create intra-agents\n",
    "            self.m.remove(self.rn)\n",
    "    def create_agents_second(self): \n",
    "\n",
    "        for i in range(self.new):\n",
    "            self.rn = self.random.choice(self.m)\n",
    "            b = CovidAgent(self.rn, self)\n",
    "            self.schedule.add(b)\n",
    "            b.state=State.QUARANTINED\n",
    "            self.grid.place_agent(b, self.rn)\n",
    "            b.status()\n",
    "            \n",
    "            self.m.remove(self.rn)\n",
    "    def getcontact(self):\n",
    "        return int(np.random.lognormal(self.contact,self.contact_sd,1))\n",
    "\n",
    "\n",
    "    def step(self,new=0,second_phase=False, social = False):\n",
    "        #Câu chuyện ở đây là ông cần phải có grid thì mới có agent để add vô, nếu chỉ có add_nodes thì nó quá đơn thuần và không có agent\n",
    "        self.datacollector.collect(self)\n",
    "        self.schedule.step(social)\n",
    "\n",
    "        "
   ]
  },
  {
   "cell_type": "markdown",
   "metadata": {},
   "source": [
    "## Run model "
   ]
  },
  {
   "cell_type": "markdown",
   "metadata": {},
   "source": [
    "# Simulation \n",
    "    "
   ]
  },
  {
   "cell_type": "code",
   "execution_count": 36,
   "metadata": {},
   "outputs": [],
   "source": [
    "import scipy\n",
    "\n",
    "from scipy.stats import lognorm\n",
    "# Turn off code warnings (this is not recommended for routine use)\n",
    "import warnings\n",
    "warnings.filterwarnings(\"ignore\")\n",
    "def fit_contact(C):\n",
    "    bo=[]\n",
    "    for i in C:\n",
    "        bo.append(math.log(i/min(C)+1))\n",
    "    a = 1+(len(C)/sum(bo))\n",
    "    return a\n",
    "def predict_contact(C):\n",
    "    prob = []\n",
    "    for i in C:\n",
    "        prob.append(((a-1)/(np.min(C)+1))*(i/((np.min(C)+1))**-a))         \n",
    "    return prob\n",
    "def simulation(modelinput):\n",
    "    b=0.092 #asymtomatic rate \n",
    "    p=0.63 #transmissibility \n",
    "    a=0.9 #reporting rate\n",
    "    day=1\n",
    "    T_r=2\n",
    "    T_u=3 \n",
    "    rrate=0.7/T_r\n",
    "    rdeath=0.03/T_r  \n",
    "    U = 4\n",
    "    I = 0 \n",
    "    UIE = np.random.randint(0,30,size=99)\n",
    "    UIE = np.insert(UIE,0,U)\n",
    "    IIE = I+np.random.randint(0,30,size=99)\n",
    "    IIE=np.insert(IIE,0,0)\n",
    "    UD=UIE*rdeath\n",
    "    UR=(UIE-UD)*rrate\n",
    "    II=IIE+ (UIE-UD-UR)*a\n",
    "    UI=UIE-(UIE-UD-UR)*a-UR-UD\n",
    "    ID=II*rdeath/T_r\n",
    "    IR=(II-ID)*rrate/T_r\n",
    "    df = pd.DataFrame({'unreported_infection':UI,'unreported_death':UD,'unreported_rec':UR,'infect':II,'death':ID,'rec':IR})\n",
    "    C=[]\n",
    "  \n",
    "    for i in range(len(UD)-1):\n",
    "        c=(UI[i+1]+II[i+1])/((UI[i]+II[i])*p+1)\n",
    "\n",
    "        C.append(c)\n",
    "    C.append(1)\n",
    "    C=np.array(C)\n",
    "    C.astype('int')\n",
    "    bo=[]\n",
    "    for i in C:\n",
    "        bo.append(math.log(i/min(C)+1))\n",
    "    g = 1+(len(C)/sum(bo))\n",
    "    #prob = predict_contact()\n",
    "    df['contact']=C\n",
    "    #df['prob']=prob\n",
    "    CI=[]\n",
    "    CU=[]\n",
    "    for x,y,z in zip(df['unreported_infection'],df['infect'],df['contact']):\n",
    "        try:\n",
    "            ci=z/((x/y)+1)\n",
    "            CI.append(ci)\n",
    "        except ZeroDivisionError:\n",
    "            ci=0\n",
    "            CI.append(ci)\n",
    "    df['contact_I']=CI\n",
    "    CU=C-CI\n",
    "    df['contact_U']=CU\n",
    "    data=1000-modelinput\n",
    "    cc=np.random.lognormal(1,1,18)\n",
    "    bb=cc*(UI[:18]+II[:18])\n",
    "    bb=bb.cumsum()\n",
    "    MSE = mean_squared_error(bb, data[:18])\n",
    "    RMSE = math.sqrt(MSE)\n",
    "\n",
    "    \n",
    "    # Set list of distributions to test\n",
    "    # See https://docs.scipy.org/doc/scipy/reference/stats.html for more\n",
    "\n",
    "    dist_names = ['beta',\n",
    "                  'halfcauchy',\n",
    "                  'expon',\n",
    "                  'gamma',\n",
    "                  'lognorm',\n",
    "                  'norm',\n",
    "                  'pearson3',\n",
    "                  'triang',\n",
    "                  'uniform',\n",
    "                  'weibull_min', \n",
    "                  'weibull_max',\n",
    "                  'pareto', 'powerlaw',]\n",
    "\n",
    "    # Set up empty lists to stroe results\n",
    "    chi_square = []\n",
    "    p_values = []\n",
    "\n",
    "    # Set up 50 bins for chi-square test\n",
    "    # Observed data will be approximately evenly distrubuted aross all bins\n",
    "    percentile_bins = np.linspace(0,100,len(C))\n",
    "    percentile_cutoffs = np.percentile(C, percentile_bins)\n",
    "    observed_frequency, bins = (np.histogram(C, bins=percentile_cutoffs))\n",
    "    cum_observed_frequency = np.cumsum(observed_frequency)\n",
    "\n",
    "    # Loop through candidate distributions\n",
    "\n",
    "    for distribution in dist_names:\n",
    "        # Set up distribution and get fitted distribution parameters\n",
    "        dist = getattr(scipy.stats, distribution)\n",
    "        param = dist.fit(C)\n",
    "\n",
    "        # Obtain the KS test P statistic, round it to 5 decimal places\n",
    "        p = scipy.stats.kstest(C, distribution, args=param)[1]\n",
    "        p = np.around(p, 5)\n",
    "        p_values.append(p)    \n",
    "\n",
    "        # Get expected counts in percentile bins\n",
    "        # This is based on a 'cumulative distrubution function' (cdf)\n",
    "        cdf_fitted = dist.cdf(percentile_cutoffs, *param[:-2], loc=param[-2], \n",
    "                              scale=param[-1])\n",
    "        expected_frequency = []\n",
    "        for bin in range(len(percentile_bins)-1):\n",
    "            expected_cdf_area = cdf_fitted[bin+1] - cdf_fitted[bin]\n",
    "            expected_frequency.append(expected_cdf_area)\n",
    "\n",
    "        # calculate chi-squared\n",
    "        expected_frequency = np.array(expected_frequency) * 100\n",
    "        cum_expected_frequency = np.cumsum(expected_frequency)\n",
    "        if cum_expected_frequency[0]==0: \n",
    "            ss=0\n",
    "            chi_square.append(ss)\n",
    "        else:\n",
    "            ss = sum (((cum_expected_frequency - cum_observed_frequency) ** 2) / cum_observed_frequency)\n",
    "            chi_square.append(ss)\n",
    "\n",
    "    # Collate results and sort by goodness of fit (best at top)\n",
    "    \"\"\"\n",
    "    results = pd.DataFrame()\n",
    "    results['Distribution'] = dist_names\n",
    "    results['chi_square'] = chi_square\n",
    "    results['p_value'] = p_values\n",
    "    \"\"\"\n",
    "    \n",
    "\n",
    "    # Report results\n",
    "\n",
    "\n",
    "    return dist_names,chi_square,p_values,RMSE"
   ]
  },
  {
   "cell_type": "code",
   "execution_count": 37,
   "metadata": {},
   "outputs": [
    {
     "ename": "AttributeError",
     "evalue": "'NetworkInfectionModel' object has no attribute 'contact'",
     "output_type": "error",
     "traceback": [
      "\u001b[0;31m---------------------------------------------------------------------------\u001b[0m",
      "\u001b[0;31mAttributeError\u001b[0m                            Traceback (most recent call last)",
      "\u001b[0;32m<ipython-input-37-cc69ce98b334>\u001b[0m in \u001b[0;36m<module>\u001b[0;34m\u001b[0m\n\u001b[1;32m     23\u001b[0m \u001b[0mmodel\u001b[0m \u001b[0;34m=\u001b[0m \u001b[0mNetworkInfectionModel\u001b[0m\u001b[0;34m(\u001b[0m\u001b[0mN\u001b[0m\u001b[0;34m=\u001b[0m\u001b[0;36m1000\u001b[0m\u001b[0;34m)\u001b[0m\u001b[0;34m\u001b[0m\u001b[0;34m\u001b[0m\u001b[0m\n\u001b[1;32m     24\u001b[0m \u001b[0;32mfor\u001b[0m \u001b[0mi\u001b[0m \u001b[0;32min\u001b[0m \u001b[0mrange\u001b[0m\u001b[0;34m(\u001b[0m\u001b[0msteps\u001b[0m\u001b[0;34m)\u001b[0m\u001b[0;34m:\u001b[0m\u001b[0;34m\u001b[0m\u001b[0;34m\u001b[0m\u001b[0m\n\u001b[0;32m---> 25\u001b[0;31m     \u001b[0mmodel\u001b[0m\u001b[0;34m.\u001b[0m\u001b[0mstep\u001b[0m\u001b[0;34m(\u001b[0m\u001b[0;34m)\u001b[0m\u001b[0;34m\u001b[0m\u001b[0;34m\u001b[0m\u001b[0m\n\u001b[0m\u001b[1;32m     26\u001b[0m \u001b[0mget_column_data\u001b[0m\u001b[0;34m(\u001b[0m\u001b[0mmodel\u001b[0m\u001b[0;34m)\u001b[0m\u001b[0;34m\u001b[0m\u001b[0;34m\u001b[0m\u001b[0m\n",
      "\u001b[0;32m<ipython-input-35-627e458139d2>\u001b[0m in \u001b[0;36mstep\u001b[0;34m(self, new, second_phase, social)\u001b[0m\n\u001b[1;32m     95\u001b[0m         \u001b[0;31m#Câu chuyện ở đây là ông cần phải có grid thì mới có agent để add vô, nếu chỉ có add_nodes thì nó quá đơn thuần và không có agent\u001b[0m\u001b[0;34m\u001b[0m\u001b[0;34m\u001b[0m\u001b[0;34m\u001b[0m\u001b[0m\n\u001b[1;32m     96\u001b[0m         \u001b[0mself\u001b[0m\u001b[0;34m.\u001b[0m\u001b[0mdatacollector\u001b[0m\u001b[0;34m.\u001b[0m\u001b[0mcollect\u001b[0m\u001b[0;34m(\u001b[0m\u001b[0mself\u001b[0m\u001b[0;34m)\u001b[0m\u001b[0;34m\u001b[0m\u001b[0;34m\u001b[0m\u001b[0m\n\u001b[0;32m---> 97\u001b[0;31m         \u001b[0mself\u001b[0m\u001b[0;34m.\u001b[0m\u001b[0mschedule\u001b[0m\u001b[0;34m.\u001b[0m\u001b[0mstep\u001b[0m\u001b[0;34m(\u001b[0m\u001b[0msocial\u001b[0m\u001b[0;34m)\u001b[0m\u001b[0;34m\u001b[0m\u001b[0;34m\u001b[0m\u001b[0m\n\u001b[0m\u001b[1;32m     98\u001b[0m \u001b[0;34m\u001b[0m\u001b[0m\n\u001b[1;32m     99\u001b[0m \u001b[0;34m\u001b[0m\u001b[0m\n",
      "\u001b[0;32m<ipython-input-2-e8af06feba22>\u001b[0m in \u001b[0;36mstep\u001b[0;34m(self, social)\u001b[0m\n\u001b[1;32m     17\u001b[0m         \u001b[0mself\u001b[0m\u001b[0;34m.\u001b[0m\u001b[0msocial\u001b[0m \u001b[0;34m=\u001b[0m \u001b[0msocial\u001b[0m\u001b[0;34m\u001b[0m\u001b[0;34m\u001b[0m\u001b[0m\n\u001b[1;32m     18\u001b[0m         \u001b[0;32mfor\u001b[0m \u001b[0magent\u001b[0m \u001b[0;32min\u001b[0m \u001b[0mself\u001b[0m\u001b[0;34m.\u001b[0m\u001b[0magent_buffer\u001b[0m\u001b[0;34m(\u001b[0m\u001b[0mshuffled\u001b[0m\u001b[0;34m=\u001b[0m\u001b[0;32mTrue\u001b[0m\u001b[0;34m)\u001b[0m\u001b[0;34m:\u001b[0m\u001b[0;34m\u001b[0m\u001b[0;34m\u001b[0m\u001b[0m\n\u001b[0;32m---> 19\u001b[0;31m             \u001b[0magent\u001b[0m\u001b[0;34m.\u001b[0m\u001b[0mstep\u001b[0m\u001b[0;34m(\u001b[0m\u001b[0msocial\u001b[0m\u001b[0;34m)\u001b[0m\u001b[0;34m\u001b[0m\u001b[0;34m\u001b[0m\u001b[0m\n\u001b[0m\u001b[1;32m     20\u001b[0m \u001b[0;34m\u001b[0m\u001b[0m\n\u001b[1;32m     21\u001b[0m         \u001b[0mself\u001b[0m\u001b[0;34m.\u001b[0m\u001b[0msteps\u001b[0m \u001b[0;34m+=\u001b[0m \u001b[0;36m1\u001b[0m\u001b[0;34m\u001b[0m\u001b[0;34m\u001b[0m\u001b[0m\n",
      "\u001b[0;32m<ipython-input-2-e8af06feba22>\u001b[0m in \u001b[0;36mstep\u001b[0;34m(self, social)\u001b[0m\n\u001b[1;32m     54\u001b[0m     \u001b[0;32mdef\u001b[0m \u001b[0mstep\u001b[0m\u001b[0;34m(\u001b[0m\u001b[0mself\u001b[0m\u001b[0;34m,\u001b[0m\u001b[0msocial\u001b[0m\u001b[0;34m=\u001b[0m\u001b[0;32mFalse\u001b[0m\u001b[0;34m)\u001b[0m\u001b[0;34m:\u001b[0m\u001b[0;34m\u001b[0m\u001b[0;34m\u001b[0m\u001b[0m\n\u001b[1;32m     55\u001b[0m         \u001b[0;34m\"\"\"Take a step forwards in time in 2 condition\"\"\"\u001b[0m\u001b[0;34m\u001b[0m\u001b[0;34m\u001b[0m\u001b[0m\n\u001b[0;32m---> 56\u001b[0;31m         \u001b[0mself\u001b[0m\u001b[0;34m.\u001b[0m\u001b[0mcontact\u001b[0m\u001b[0;34m(\u001b[0m\u001b[0;34m)\u001b[0m\u001b[0;34m\u001b[0m\u001b[0;34m\u001b[0m\u001b[0m\n\u001b[0m\u001b[1;32m     57\u001b[0m         \u001b[0mself\u001b[0m\u001b[0;34m.\u001b[0m\u001b[0mstatus\u001b[0m\u001b[0;34m(\u001b[0m\u001b[0msocial\u001b[0m\u001b[0;34m)\u001b[0m\u001b[0;34m\u001b[0m\u001b[0;34m\u001b[0m\u001b[0m\n\u001b[1;32m     58\u001b[0m \u001b[0;34m\u001b[0m\u001b[0m\n",
      "\u001b[0;32m<ipython-input-2-e8af06feba22>\u001b[0m in \u001b[0;36mcontact\u001b[0;34m(self)\u001b[0m\n\u001b[1;32m    123\u001b[0m         \u001b[0mneighbors\u001b[0m \u001b[0;34m=\u001b[0m \u001b[0mself\u001b[0m\u001b[0;34m.\u001b[0m\u001b[0mmodel\u001b[0m\u001b[0;34m.\u001b[0m\u001b[0mgrid\u001b[0m\u001b[0;34m.\u001b[0m\u001b[0mget_cell_list_contents\u001b[0m\u001b[0;34m(\u001b[0m\u001b[0mneighbors_nodes\u001b[0m\u001b[0;34m)\u001b[0m\u001b[0;34m\u001b[0m\u001b[0;34m\u001b[0m\u001b[0m\n\u001b[1;32m    124\u001b[0m \u001b[0;34m\u001b[0m\u001b[0m\n\u001b[0;32m--> 125\u001b[0;31m         \u001b[0msusceptible_neighbors\u001b[0m \u001b[0;34m=\u001b[0m \u001b[0mrandom\u001b[0m\u001b[0;34m.\u001b[0m\u001b[0mchoices\u001b[0m\u001b[0;34m(\u001b[0m\u001b[0mneighbors\u001b[0m\u001b[0;34m,\u001b[0m\u001b[0mk\u001b[0m \u001b[0;34m=\u001b[0m \u001b[0mself\u001b[0m\u001b[0;34m.\u001b[0m\u001b[0mmodel\u001b[0m\u001b[0;34m.\u001b[0m\u001b[0mgetcontact\u001b[0m\u001b[0;34m(\u001b[0m\u001b[0;34m)\u001b[0m\u001b[0;34m)\u001b[0m\u001b[0;34m\u001b[0m\u001b[0;34m\u001b[0m\u001b[0m\n\u001b[0m\u001b[1;32m    126\u001b[0m         \u001b[0;31m#susceptible_population = [i for i in susceptile_neighbors if i.state == State.SUSCEPTIBLE]\u001b[0m\u001b[0;34m\u001b[0m\u001b[0;34m\u001b[0m\u001b[0;34m\u001b[0m\u001b[0m\n\u001b[1;32m    127\u001b[0m         \u001b[0;32mfor\u001b[0m \u001b[0mother\u001b[0m \u001b[0;32min\u001b[0m \u001b[0msusceptible_neighbors\u001b[0m\u001b[0;34m:\u001b[0m\u001b[0;34m\u001b[0m\u001b[0;34m\u001b[0m\u001b[0m\n",
      "\u001b[0;32m<ipython-input-35-627e458139d2>\u001b[0m in \u001b[0;36mgetcontact\u001b[0;34m(self)\u001b[0m\n\u001b[1;32m     89\u001b[0m             \u001b[0mself\u001b[0m\u001b[0;34m.\u001b[0m\u001b[0mm\u001b[0m\u001b[0;34m.\u001b[0m\u001b[0mremove\u001b[0m\u001b[0;34m(\u001b[0m\u001b[0mself\u001b[0m\u001b[0;34m.\u001b[0m\u001b[0mrn\u001b[0m\u001b[0;34m)\u001b[0m\u001b[0;34m\u001b[0m\u001b[0;34m\u001b[0m\u001b[0m\n\u001b[1;32m     90\u001b[0m     \u001b[0;32mdef\u001b[0m \u001b[0mgetcontact\u001b[0m\u001b[0;34m(\u001b[0m\u001b[0mself\u001b[0m\u001b[0;34m)\u001b[0m\u001b[0;34m:\u001b[0m\u001b[0;34m\u001b[0m\u001b[0;34m\u001b[0m\u001b[0m\n\u001b[0;32m---> 91\u001b[0;31m         \u001b[0;32mreturn\u001b[0m \u001b[0mint\u001b[0m\u001b[0;34m(\u001b[0m\u001b[0mnp\u001b[0m\u001b[0;34m.\u001b[0m\u001b[0mrandom\u001b[0m\u001b[0;34m.\u001b[0m\u001b[0mlognormal\u001b[0m\u001b[0;34m(\u001b[0m\u001b[0mself\u001b[0m\u001b[0;34m.\u001b[0m\u001b[0mcontact\u001b[0m\u001b[0;34m,\u001b[0m\u001b[0mself\u001b[0m\u001b[0;34m.\u001b[0m\u001b[0mcontact_sd\u001b[0m\u001b[0;34m,\u001b[0m\u001b[0;36m1\u001b[0m\u001b[0;34m)\u001b[0m\u001b[0;34m)\u001b[0m\u001b[0;34m\u001b[0m\u001b[0;34m\u001b[0m\u001b[0m\n\u001b[0m\u001b[1;32m     92\u001b[0m \u001b[0;34m\u001b[0m\u001b[0m\n\u001b[1;32m     93\u001b[0m \u001b[0;34m\u001b[0m\u001b[0m\n",
      "\u001b[0;31mAttributeError\u001b[0m: 'NetworkInfectionModel' object has no attribute 'contact'"
     ]
    }
   ],
   "source": [
    "import pandas as pd\n",
    "def get_column_data(model):\n",
    "    #pivot the model dataframe to get states count at each step\n",
    "    agent_state = model.datacollector.get_agent_vars_dataframe()\n",
    "    X = pd.pivot_table(agent_state.reset_index(),index='Step',columns='State',aggfunc=np.size,fill_value=0)    \n",
    "    labels = ['Susceptible','Exposed','Reported_Infected','Unreported_Infected','Reported_Recovered','Unreported_Recovered','Reported_death','Unreported_death']\n",
    "    X.columns = labels[:len(X.columns)]\n",
    "    return X\n",
    "#print(d3.sort_values(['chi_square'], inplace=True)\n",
    "def plot_states(model,ax):    \n",
    "    steps = model.schedule.steps\n",
    "    X = get_column_data(model)\n",
    "    X.plot(ax=ax,lw=3,alpha=0.8)\n",
    "    return X\n",
    "\n",
    "df3=pd.DataFrame()\n",
    "df2=pd.DataFrame() #p_value\n",
    "df1=pd.DataFrame() #chisquare\n",
    "RMSEs=[]\n",
    "\n",
    "steps=35\n",
    "st=time.time()\n",
    "model = NetworkInfectionModel(N=1000)\n",
    "for i in range(steps):\n",
    "    model.step()\n",
    "get_column_data(model)\n"
   ]
  },
  {
   "cell_type": "code",
   "execution_count": 6,
   "metadata": {},
   "outputs": [
    {
     "data": {
      "text/plain": [
       "<AxesSubplot:title={'center':'Goodness of distribution fit with Chi-square'}, xlabel='iteration'>"
      ]
     },
     "execution_count": 6,
     "metadata": {},
     "output_type": "execute_result"
    },
    {
     "data": {
      "image/png": "[encoded data removed]",
      "text/plain": [
       "<Figure size 432x288 with 1 Axes>"
      ]
     },
     "metadata": {
      "needs_background": "light"
     },
     "output_type": "display_data"
    }
   ],
   "source": [
    "for i in range(100):\n",
    "    name,chi,p_value,rmse=simulation(get_column_data(model)['Susceptible'][:18])\n",
    "    df1['Distribution'] = name\n",
    "    df1[str(i)]= chi\n",
    "    df2['Distribution'] = name\n",
    "    df2[str(i)]=p_value\n",
    "    RMSEs.append(rmse)\n",
    "df1.set_index('Distribution',inplace = True)\n",
    "\n",
    "horizontal =np.linspace(1,100,100)\n",
    "compare=df1.T[['pareto','powerlaw','gamma','lognorm']]\n",
    "compare.plot(title='Goodness of distribution fit with Chi-square',xlabel='iteration',xticks=None)"
   ]
  },
  {
   "cell_type": "code",
   "execution_count": 7,
   "metadata": {},
   "outputs": [
    {
     "data": {
      "text/plain": [
       "<AxesSubplot:title={'center':'Goodness of distribution fit with p-value'}, xlabel='iteration'>"
      ]
     },
     "execution_count": 7,
     "metadata": {},
     "output_type": "execute_result"
    },
    {
     "data": {
      "image/png": "[encoded data removed]",
      "text/plain": [
       "<Figure size 432x288 with 1 Axes>"
      ]
     },
     "metadata": {
      "needs_background": "light"
     },
     "output_type": "display_data"
    }
   ],
   "source": [
    "df2.set_index('Distribution',inplace = True)\n",
    "horizontal =np.linspace(1,100,100)\n",
    "comparep=df2.T[['pareto','powerlaw','gamma','lognorm']]\n",
    "comparep.plot(title='Goodness of distribution fit with p-value',xlabel='iteration',xticks=None)"
   ]
  },
  {
   "cell_type": "code",
   "execution_count": 8,
   "metadata": {},
   "outputs": [
    {
     "name": "stdout",
     "output_type": "stream",
     "text": [
      "\n",
      "Distributions sorted by goodness of fit:\n",
      "The lower the chi-squared value the better the fit.\n",
      "----------------------------------------\n"
     ]
    }
   ],
   "source": [
    "df3['Distribution']=name\n",
    "df3['chi_square']= df1.sum(axis=1).values/100\n",
    "df3['p_value']=df2.sum(axis=1).values/100\n",
    "print ('\\nDistributions sorted by goodness of fit:')\n",
    "print ('The lower the chi-squared value the better the fit.')\n",
    "print ('----------------------------------------')\n",
    "df3.sort_values(['chi_square'], inplace=True)"
   ]
  },
  {
   "cell_type": "code",
   "execution_count": 9,
   "metadata": {},
   "outputs": [
    {
     "data": {
      "text/html": [
       "<div>\n",
       "<style scoped>\n",
       "    .dataframe tbody tr th:only-of-type {\n",
       "        vertical-align: middle;\n",
       "    }\n",
       "\n",
       "    .dataframe tbody tr th {\n",
       "        vertical-align: top;\n",
       "    }\n",
       "\n",
       "    .dataframe thead th {\n",
       "        text-align: right;\n",
       "    }\n",
       "</style>\n",
       "<table border=\"1\" class=\"dataframe\">\n",
       "  <thead>\n",
       "    <tr style=\"text-align: right;\">\n",
       "      <th></th>\n",
       "      <th>Distribution</th>\n",
       "      <th>chi_square</th>\n",
       "      <th>p_value</th>\n",
       "    </tr>\n",
       "  </thead>\n",
       "  <tbody>\n",
       "    <tr>\n",
       "      <th>4</th>\n",
       "      <td>lognorm</td>\n",
       "      <td>30.798443</td>\n",
       "      <td>6.600265e-01</td>\n",
       "    </tr>\n",
       "    <tr>\n",
       "      <th>6</th>\n",
       "      <td>pearson3</td>\n",
       "      <td>81.444062</td>\n",
       "      <td>3.058492e-01</td>\n",
       "    </tr>\n",
       "    <tr>\n",
       "      <th>9</th>\n",
       "      <td>weibull_min</td>\n",
       "      <td>163.968928</td>\n",
       "      <td>2.390728e-01</td>\n",
       "    </tr>\n",
       "    <tr>\n",
       "      <th>0</th>\n",
       "      <td>beta</td>\n",
       "      <td>235.887434</td>\n",
       "      <td>2.884307e-01</td>\n",
       "    </tr>\n",
       "    <tr>\n",
       "      <th>1</th>\n",
       "      <td>halfcauchy</td>\n",
       "      <td>353.584792</td>\n",
       "      <td>3.369360e-02</td>\n",
       "    </tr>\n",
       "    <tr>\n",
       "      <th>2</th>\n",
       "      <td>expon</td>\n",
       "      <td>368.801191</td>\n",
       "      <td>8.697230e-02</td>\n",
       "    </tr>\n",
       "    <tr>\n",
       "      <th>11</th>\n",
       "      <td>pareto</td>\n",
       "      <td>745.703742</td>\n",
       "      <td>1.585270e-02</td>\n",
       "    </tr>\n",
       "    <tr>\n",
       "      <th>5</th>\n",
       "      <td>norm</td>\n",
       "      <td>1003.789929</td>\n",
       "      <td>2.038700e-03</td>\n",
       "    </tr>\n",
       "    <tr>\n",
       "      <th>12</th>\n",
       "      <td>powerlaw</td>\n",
       "      <td>1117.553922</td>\n",
       "      <td>1.500000e-06</td>\n",
       "    </tr>\n",
       "    <tr>\n",
       "      <th>7</th>\n",
       "      <td>triang</td>\n",
       "      <td>1453.326684</td>\n",
       "      <td>2.000000e-07</td>\n",
       "    </tr>\n",
       "    <tr>\n",
       "      <th>3</th>\n",
       "      <td>gamma</td>\n",
       "      <td>1680.775700</td>\n",
       "      <td>2.229515e-01</td>\n",
       "    </tr>\n",
       "    <tr>\n",
       "      <th>8</th>\n",
       "      <td>uniform</td>\n",
       "      <td>2556.580101</td>\n",
       "      <td>0.000000e+00</td>\n",
       "    </tr>\n",
       "    <tr>\n",
       "      <th>10</th>\n",
       "      <td>weibull_max</td>\n",
       "      <td>4443.353929</td>\n",
       "      <td>6.228700e-03</td>\n",
       "    </tr>\n",
       "  </tbody>\n",
       "</table>\n",
       "</div>"
      ],
      "text/plain": [
       "   Distribution   chi_square       p_value\n",
       "4       lognorm    30.798443  6.600265e-01\n",
       "6      pearson3    81.444062  3.058492e-01\n",
       "9   weibull_min   163.968928  2.390728e-01\n",
       "0          beta   235.887434  2.884307e-01\n",
       "1    halfcauchy   353.584792  3.369360e-02\n",
       "2         expon   368.801191  8.697230e-02\n",
       "11       pareto   745.703742  1.585270e-02\n",
       "5          norm  1003.789929  2.038700e-03\n",
       "12     powerlaw  1117.553922  1.500000e-06\n",
       "7        triang  1453.326684  2.000000e-07\n",
       "3         gamma  1680.775700  2.229515e-01\n",
       "8       uniform  2556.580101  0.000000e+00\n",
       "10  weibull_max  4443.353929  6.228700e-03"
      ]
     },
     "execution_count": 9,
     "metadata": {},
     "output_type": "execute_result"
    }
   ],
   "source": [
    "df3"
   ]
  },
  {
   "cell_type": "code",
   "execution_count": 10,
   "metadata": {},
   "outputs": [],
   "source": [
    "R=np.array(RMSEs)"
   ]
  },
  {
   "cell_type": "code",
   "execution_count": 11,
   "metadata": {},
   "outputs": [],
   "source": [
    "r=R/10"
   ]
  },
  {
   "cell_type": "code",
   "execution_count": 12,
   "metadata": {
    "scrolled": true
   },
   "outputs": [
    {
     "ename": "NameError",
     "evalue": "name 'az' is not defined",
     "output_type": "error",
     "traceback": [
      "\u001b[0;31m---------------------------------------------------------------------------\u001b[0m",
      "\u001b[0;31mNameError\u001b[0m                                 Traceback (most recent call last)",
      "\u001b[0;32m<ipython-input-12-8fd2b9829f66>\u001b[0m in \u001b[0;36m<module>\u001b[0;34m\u001b[0m\n\u001b[1;32m      3\u001b[0m \u001b[0mplt\u001b[0m\u001b[0;34m.\u001b[0m\u001b[0mylabel\u001b[0m\u001b[0;34m(\u001b[0m\u001b[0;34m'RSME'\u001b[0m\u001b[0;34m)\u001b[0m\u001b[0;34m\u001b[0m\u001b[0;34m\u001b[0m\u001b[0m\n\u001b[1;32m      4\u001b[0m \u001b[0mplt\u001b[0m\u001b[0;34m.\u001b[0m\u001b[0mplot\u001b[0m\u001b[0;34m(\u001b[0m\u001b[0mr\u001b[0m\u001b[0;34m,\u001b[0m\u001b[0mmarker\u001b[0m\u001b[0;34m=\u001b[0m\u001b[0;34m'o'\u001b[0m\u001b[0;34m,\u001b[0m\u001b[0mlabel\u001b[0m\u001b[0;34m=\u001b[0m\u001b[0;34m'RMSE'\u001b[0m\u001b[0;34m)\u001b[0m\u001b[0;34m\u001b[0m\u001b[0;34m\u001b[0m\u001b[0m\n\u001b[0;32m----> 5\u001b[0;31m \u001b[0mplt\u001b[0m\u001b[0;34m.\u001b[0m\u001b[0mplot\u001b[0m\u001b[0;34m(\u001b[0m\u001b[0mhorizontal\u001b[0m\u001b[0;34m,\u001b[0m\u001b[0maz\u001b[0m\u001b[0;34m,\u001b[0m\u001b[0mlabel\u001b[0m\u001b[0;34m=\u001b[0m\u001b[0;34m'mean'\u001b[0m\u001b[0;34m)\u001b[0m\u001b[0;34m\u001b[0m\u001b[0;34m\u001b[0m\u001b[0m\n\u001b[0m\u001b[1;32m      6\u001b[0m \u001b[0mplt\u001b[0m\u001b[0;34m.\u001b[0m\u001b[0mlegend\u001b[0m\u001b[0;34m(\u001b[0m\u001b[0;34m)\u001b[0m\u001b[0;34m\u001b[0m\u001b[0;34m\u001b[0m\u001b[0m\n\u001b[1;32m      7\u001b[0m \u001b[0mplt\u001b[0m\u001b[0;34m.\u001b[0m\u001b[0mgrid\u001b[0m\u001b[0;34m(\u001b[0m\u001b[0;36m1\u001b[0m\u001b[0;34m)\u001b[0m\u001b[0;34m\u001b[0m\u001b[0;34m\u001b[0m\u001b[0m\n",
      "\u001b[0;31mNameError\u001b[0m: name 'az' is not defined"
     ]
    },
    {
     "data": {
      "image/png": "[encoded data removed]",
      "text/plain": [
       "<Figure size 432x288 with 1 Axes>"
      ]
     },
     "metadata": {
      "needs_background": "light"
     },
     "output_type": "display_data"
    }
   ],
   "source": [
    "plt.title('RMSE of model outputs with the synthetic data')\n",
    "plt.xlabel('iteration')\n",
    "plt.ylabel('RSME')\n",
    "plt.plot(r,marker='o',label='RMSE')\n",
    "plt.plot(horizontal,az,label='mean')\n",
    "plt.legend()\n",
    "plt.grid(1)"
   ]
  },
  {
   "cell_type": "code",
   "execution_count": 13,
   "metadata": {},
   "outputs": [
    {
     "data": {
      "text/plain": [
       "49.368033282881896"
      ]
     },
     "execution_count": 13,
     "metadata": {},
     "output_type": "execute_result"
    }
   ],
   "source": [
    "np.std(r)"
   ]
  },
  {
   "cell_type": "code",
   "execution_count": 14,
   "metadata": {},
   "outputs": [],
   "source": [
    "az=[]\n",
    "az.append(np.mean(r))"
   ]
  },
  {
   "cell_type": "code",
   "execution_count": 15,
   "metadata": {},
   "outputs": [],
   "source": [
    "az=az*100"
   ]
  },
  {
   "cell_type": "code",
   "execution_count": 16,
   "metadata": {},
   "outputs": [
    {
     "ename": "NameError",
     "evalue": "name 'nm' is not defined",
     "output_type": "error",
     "traceback": [
      "\u001b[0;31m---------------------------------------------------------------------------\u001b[0m",
      "\u001b[0;31mNameError\u001b[0m                                 Traceback (most recent call last)",
      "\u001b[0;32m<ipython-input-16-16b758b24310>\u001b[0m in \u001b[0;36m<module>\u001b[0;34m\u001b[0m\n\u001b[0;32m----> 1\u001b[0;31m \u001b[0mnm\u001b[0m\u001b[0;34m[\u001b[0m\u001b[0;34m'RMSE'\u001b[0m\u001b[0;34m]\u001b[0m\u001b[0;34m=\u001b[0m\u001b[0mr\u001b[0m\u001b[0;34m\u001b[0m\u001b[0;34m\u001b[0m\u001b[0m\n\u001b[0m",
      "\u001b[0;31mNameError\u001b[0m: name 'nm' is not defined"
     ]
    }
   ],
   "source": [
    "nm['RMSE']=r"
   ]
  },
  {
   "cell_type": "code",
   "execution_count": 17,
   "metadata": {},
   "outputs": [],
   "source": [
    "def mean_confidence_interval(data, confidence=0.95):\n",
    "    a = 1.0 * np.array(data)\n",
    "    n = len(a)\n",
    "    m, se = np.mean(a), scipy.stats.sem(a)\n",
    "    h = se * scipy.stats.t.ppf((1 + confidence) / 2., n-1)\n",
    "    return m, m-h, m+h"
   ]
  },
  {
   "cell_type": "code",
   "execution_count": 18,
   "metadata": {},
   "outputs": [
    {
     "data": {
      "text/plain": [
       "(50.37295589639993, 40.527918175381714, 60.217993617418145)"
      ]
     },
     "execution_count": 18,
     "metadata": {},
     "output_type": "execute_result"
    }
   ],
   "source": [
    "mean_confidence_interval(r, confidence=0.95)"
   ]
  },
  {
   "cell_type": "code",
   "execution_count": 19,
   "metadata": {},
   "outputs": [],
   "source": [
    "agent_state = model.datacollector.get_agent_vars_dataframe()"
   ]
  },
  {
   "cell_type": "code",
   "execution_count": 71,
   "metadata": {},
   "outputs": [
    {
     "data": {
      "text/plain": [
       "<matplotlib.legend.Legend at 0x7f9c6b507a00>"
      ]
     },
     "execution_count": 71,
     "metadata": {},
     "output_type": "execute_result"
    },
    {
     "data": {
      "image/png": "[encoded data removed]",
      "text/plain": [
       "<Figure size 432x288 with 1 Axes>"
      ]
     },
     "metadata": {
      "needs_background": "light"
     },
     "output_type": "display_data"
    }
   ],
   "source": [
    "x = np.linspace(0,34,35)\n",
    "plt.scatter(x,np.sort(d),label='data')\n",
    "plt.plot(x,np.sort(get_column_data(model)['Susceptible']),label='model')\n",
    "plt.legend()"
   ]
  },
  {
   "cell_type": "code",
   "execution_count": 69,
   "metadata": {
    "scrolled": true
   },
   "outputs": [
    {
     "data": {
      "text/plain": [
       "array([  9,   9,   9,   9,   9,   9,   9,   9,   9,   9,  10,  10,  10,\n",
       "        11,  11,  16,  20,  29,  41,  75, 108, 132, 213, 340, 458, 538,\n",
       "       585, 632, 784, 842, 885, 898, 921, 967, 987])"
      ]
     },
     "execution_count": 69,
     "metadata": {},
     "output_type": "execute_result"
    }
   ],
   "source": [
    "np.sort(get_column_data(model)['Susceptible'])"
   ]
  },
  {
   "cell_type": "code",
   "execution_count": 25,
   "metadata": {},
   "outputs": [],
   "source": [
    "class O:\n",
    "    import random\n",
    "    def __init__(self):\n",
    "        self.day=0\n",
    "    \n",
    "    def con(self,a,b):\n",
    "        m=self.random.random()\n",
    "        if m<a:\n",
    "            print(m)\n",
    "            self.day=self.val()\n",
    "        else: \n",
    "            self.day+=1\n",
    "        d=self.random.random()\n",
    "        if d<b:\n",
    "            print(d)\n",
    "        else:\n",
    "            self.day+=1\n",
    "    def val(self):\n",
    "        return 0"
   ]
  },
  {
   "cell_type": "code",
   "execution_count": 26,
   "metadata": {},
   "outputs": [],
   "source": [
    "a = O()"
   ]
  },
  {
   "cell_type": "code",
   "execution_count": 33,
   "metadata": {},
   "outputs": [
    {
     "name": "stdout",
     "output_type": "stream",
     "text": [
      "0.13565124831560627\n",
      "0.5972226065107455\n"
     ]
    }
   ],
   "source": [
    "a.con(4,4)"
   ]
  },
  {
   "cell_type": "code",
   "execution_count": 34,
   "metadata": {},
   "outputs": [
    {
     "data": {
      "text/plain": [
       "0"
      ]
     },
     "execution_count": 34,
     "metadata": {},
     "output_type": "execute_result"
    }
   ],
   "source": [
    "a.day"
   ]
  },
  {
   "cell_type": "code",
   "execution_count": null,
   "metadata": {},
   "outputs": [],
   "source": []
  }
 ],
 "metadata": {
  "kernelspec": {
   "display_name": "Python 3",
   "language": "python",
   "name": "python3"
  },
  "language_info": {
   "codemirror_mode": {
    "name": "ipython",
    "version": 3
   },
   "file_extension": ".py",
   "mimetype": "text/x-python",
   "name": "python",
   "nbconvert_exporter": "python",
   "pygments_lexer": "ipython3",
   "version": "3.8.5"
  }
 },
 "nbformat": 4,
 "nbformat_minor": 4
}
