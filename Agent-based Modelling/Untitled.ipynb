{
 "cells": [
  {
   "cell_type": "code",
   "execution_count": 1,
   "metadata": {},
   "outputs": [
    {
     "data": {
      "text/html": [
       "\n",
       "    <div class=\"bk-root\">\n",
       "        <a href=\"https://bokeh.org\" target=\"_blank\" class=\"bk-logo bk-logo-small bk-logo-notebook\"></a>\n",
       "        <span id=\"1001\">Loading BokehJS ...</span>\n",
       "    </div>"
      ]
     },
     "metadata": {},
     "output_type": "display_data"
    },
    {
     "data": {
      "application/javascript": [
       "\n",
       "(function(root) {\n",
       "  function now() {\n",
       "    return new Date();\n",
       "  }\n",
       "\n",
       "  var force = true;\n",
       "\n",
       "  if (typeof root._bokeh_onload_callbacks === \"undefined\" || force === true) {\n",
       "    root._bokeh_onload_callbacks = [];\n",
       "    root._bokeh_is_loading = undefined;\n",
       "  }\n",
       "\n",
       "  var JS_MIME_TYPE = 'application/javascript';\n",
       "  var HTML_MIME_TYPE = 'text/html';\n",
       "  var EXEC_MIME_TYPE = 'application/vnd.bokehjs_exec.v0+json';\n",
       "  var CLASS_NAME = 'output_bokeh rendered_html';\n",
       "\n",
       "  /**\n",
       "   * Render data to the DOM node\n",
       "   */\n",
       "  function render(props, node) {\n",
       "    var script = document.createElement(\"script\");\n",
       "    node.appendChild(script);\n",
       "  }\n",
       "\n",
       "  /**\n",
       "   * Handle when an output is cleared or removed\n",
       "   */\n",
       "  function handleClearOutput(event, handle) {\n",
       "    var cell = handle.cell;\n",
       "\n",
       "    var id = cell.output_area._bokeh_element_id;\n",
       "    var server_id = cell.output_area._bokeh_server_id;\n",
       "    // Clean up Bokeh references\n",
       "    if (id != null && id in Bokeh.index) {\n",
       "      Bokeh.index[id].model.document.clear();\n",
       "      delete Bokeh.index[id];\n",
       "    }\n",
       "\n",
       "    if (server_id !== undefined) {\n",
       "      // Clean up Bokeh references\n",
       "      var cmd = \"from bokeh.io.state import curstate; print(curstate().uuid_to_server['\" + server_id + \"'].get_sessions()[0].document.roots[0]._id)\";\n",
       "      cell.notebook.kernel.execute(cmd, {\n",
       "        iopub: {\n",
       "          output: function(msg) {\n",
       "            var id = msg.content.text.trim();\n",
       "            if (id in Bokeh.index) {\n",
       "              Bokeh.index[id].model.document.clear();\n",
       "              delete Bokeh.index[id];\n",
       "            }\n",
       "          }\n",
       "        }\n",
       "      });\n",
       "      // Destroy server and session\n",
       "      var cmd = \"import bokeh.io.notebook as ion; ion.destroy_server('\" + server_id + \"')\";\n",
       "      cell.notebook.kernel.execute(cmd);\n",
       "    }\n",
       "  }\n",
       "\n",
       "  /**\n",
       "   * Handle when a new output is added\n",
       "   */\n",
       "  function handleAddOutput(event, handle) {\n",
       "    var output_area = handle.output_area;\n",
       "    var output = handle.output;\n",
       "\n",
       "    // limit handleAddOutput to display_data with EXEC_MIME_TYPE content only\n",
       "    if ((output.output_type != \"display_data\") || (!output.data.hasOwnProperty(EXEC_MIME_TYPE))) {\n",
       "      return\n",
       "    }\n",
       "\n",
       "    var toinsert = output_area.element.find(\".\" + CLASS_NAME.split(' ')[0]);\n",
       "\n",
       "    if (output.metadata[EXEC_MIME_TYPE][\"id\"] !== undefined) {\n",
       "      toinsert[toinsert.length - 1].firstChild.textContent = output.data[JS_MIME_TYPE];\n",
       "      // store reference to embed id on output_area\n",
       "      output_area._bokeh_element_id = output.metadata[EXEC_MIME_TYPE][\"id\"];\n",
       "    }\n",
       "    if (output.metadata[EXEC_MIME_TYPE][\"server_id\"] !== undefined) {\n",
       "      var bk_div = document.createElement(\"div\");\n",
       "      bk_div.innerHTML = output.data[HTML_MIME_TYPE];\n",
       "      var script_attrs = bk_div.children[0].attributes;\n",
       "      for (var i = 0; i < script_attrs.length; i++) {\n",
       "        toinsert[toinsert.length - 1].firstChild.setAttribute(script_attrs[i].name, script_attrs[i].value);\n",
       "        toinsert[toinsert.length - 1].firstChild.textContent = bk_div.children[0].textContent\n",
       "      }\n",
       "      // store reference to server id on output_area\n",
       "      output_area._bokeh_server_id = output.metadata[EXEC_MIME_TYPE][\"server_id\"];\n",
       "    }\n",
       "  }\n",
       "\n",
       "  function register_renderer(events, OutputArea) {\n",
       "\n",
       "    function append_mime(data, metadata, element) {\n",
       "      // create a DOM node to render to\n",
       "      var toinsert = this.create_output_subarea(\n",
       "        metadata,\n",
       "        CLASS_NAME,\n",
       "        EXEC_MIME_TYPE\n",
       "      );\n",
       "      this.keyboard_manager.register_events(toinsert);\n",
       "      // Render to node\n",
       "      var props = {data: data, metadata: metadata[EXEC_MIME_TYPE]};\n",
       "      render(props, toinsert[toinsert.length - 1]);\n",
       "      element.append(toinsert);\n",
       "      return toinsert\n",
       "    }\n",
       "\n",
       "    /* Handle when an output is cleared or removed */\n",
       "    events.on('clear_output.CodeCell', handleClearOutput);\n",
       "    events.on('delete.Cell', handleClearOutput);\n",
       "\n",
       "    /* Handle when a new output is added */\n",
       "    events.on('output_added.OutputArea', handleAddOutput);\n",
       "\n",
       "    /**\n",
       "     * Register the mime type and append_mime function with output_area\n",
       "     */\n",
       "    OutputArea.prototype.register_mime_type(EXEC_MIME_TYPE, append_mime, {\n",
       "      /* Is output safe? */\n",
       "      safe: true,\n",
       "      /* Index of renderer in `output_area.display_order` */\n",
       "      index: 0\n",
       "    });\n",
       "  }\n",
       "\n",
       "  // register the mime type if in Jupyter Notebook environment and previously unregistered\n",
       "  if (root.Jupyter !== undefined) {\n",
       "    var events = require('base/js/events');\n",
       "    var OutputArea = require('notebook/js/outputarea').OutputArea;\n",
       "\n",
       "    if (OutputArea.prototype.mime_types().indexOf(EXEC_MIME_TYPE) == -1) {\n",
       "      register_renderer(events, OutputArea);\n",
       "    }\n",
       "  }\n",
       "\n",
       "  \n",
       "  if (typeof (root._bokeh_timeout) === \"undefined\" || force === true) {\n",
       "    root._bokeh_timeout = Date.now() + 5000;\n",
       "    root._bokeh_failed_load = false;\n",
       "  }\n",
       "\n",
       "  var NB_LOAD_WARNING = {'data': {'text/html':\n",
       "     \"<div style='background-color: #fdd'>\\n\"+\n",
       "     \"<p>\\n\"+\n",
       "     \"BokehJS does not appear to have successfully loaded. If loading BokehJS from CDN, this \\n\"+\n",
       "     \"may be due to a slow or bad network connection. Possible fixes:\\n\"+\n",
       "     \"</p>\\n\"+\n",
       "     \"<ul>\\n\"+\n",
       "     \"<li>re-rerun `output_notebook()` to attempt to load from CDN again, or</li>\\n\"+\n",
       "     \"<li>use INLINE resources instead, as so:</li>\\n\"+\n",
       "     \"</ul>\\n\"+\n",
       "     \"<code>\\n\"+\n",
       "     \"from bokeh.resources import INLINE\\n\"+\n",
       "     \"output_notebook(resources=INLINE)\\n\"+\n",
       "     \"</code>\\n\"+\n",
       "     \"</div>\"}};\n",
       "\n",
       "  function display_loaded() {\n",
       "    var el = document.getElementById(\"1001\");\n",
       "    if (el != null) {\n",
       "      el.textContent = \"BokehJS is loading...\";\n",
       "    }\n",
       "    if (root.Bokeh !== undefined) {\n",
       "      if (el != null) {\n",
       "        el.textContent = \"BokehJS \" + root.Bokeh.version + \" successfully loaded.\";\n",
       "      }\n",
       "    } else if (Date.now() < root._bokeh_timeout) {\n",
       "      setTimeout(display_loaded, 100)\n",
       "    }\n",
       "  }\n",
       "\n",
       "\n",
       "  function run_callbacks() {\n",
       "    try {\n",
       "      root._bokeh_onload_callbacks.forEach(function(callback) {\n",
       "        if (callback != null)\n",
       "          callback();\n",
       "      });\n",
       "    } finally {\n",
       "      delete root._bokeh_onload_callbacks\n",
       "    }\n",
       "    console.debug(\"Bokeh: all callbacks have finished\");\n",
       "  }\n",
       "\n",
       "  function load_libs(css_urls, js_urls, callback) {\n",
       "    if (css_urls == null) css_urls = [];\n",
       "    if (js_urls == null) js_urls = [];\n",
       "\n",
       "    root._bokeh_onload_callbacks.push(callback);\n",
       "    if (root._bokeh_is_loading > 0) {\n",
       "      console.debug(\"Bokeh: BokehJS is being loaded, scheduling callback at\", now());\n",
       "      return null;\n",
       "    }\n",
       "    if (js_urls == null || js_urls.length === 0) {\n",
       "      run_callbacks();\n",
       "      return null;\n",
       "    }\n",
       "    console.debug(\"Bokeh: BokehJS not loaded, scheduling load and callback at\", now());\n",
       "    root._bokeh_is_loading = css_urls.length + js_urls.length;\n",
       "\n",
       "    function on_load() {\n",
       "      root._bokeh_is_loading--;\n",
       "      if (root._bokeh_is_loading === 0) {\n",
       "        console.debug(\"Bokeh: all BokehJS libraries/stylesheets loaded\");\n",
       "        run_callbacks()\n",
       "      }\n",
       "    }\n",
       "\n",
       "    function on_error() {\n",
       "      console.error(\"failed to load \" + url);\n",
       "    }\n",
       "\n",
       "    for (var i = 0; i < css_urls.length; i++) {\n",
       "      var url = css_urls[i];\n",
       "      const element = document.createElement(\"link\");\n",
       "      element.onload = on_load;\n",
       "      element.onerror = on_error;\n",
       "      element.rel = \"stylesheet\";\n",
       "      element.type = \"text/css\";\n",
       "      element.href = url;\n",
       "      console.debug(\"Bokeh: injecting link tag for BokehJS stylesheet: \", url);\n",
       "      document.body.appendChild(element);\n",
       "    }\n",
       "\n",
       "    const hashes = {\"https://cdn.bokeh.org/bokeh/release/bokeh-2.2.3.min.js\": \"T2yuo9Oe71Cz/I4X9Ac5+gpEa5a8PpJCDlqKYO0CfAuEszu1JrXLl8YugMqYe3sM\", \"https://cdn.bokeh.org/bokeh/release/bokeh-widgets-2.2.3.min.js\": \"98GDGJ0kOMCUMUePhksaQ/GYgB3+NH9h996V88sh3aOiUNX3N+fLXAtry6xctSZ6\", \"https://cdn.bokeh.org/bokeh/release/bokeh-tables-2.2.3.min.js\": \"89bArO+nlbP3sgakeHjCo1JYxYR5wufVgA3IbUvDY+K7w4zyxJqssu7wVnfeKCq8\"};\n",
       "\n",
       "    for (var i = 0; i < js_urls.length; i++) {\n",
       "      var url = js_urls[i];\n",
       "      var element = document.createElement('script');\n",
       "      element.onload = on_load;\n",
       "      element.onerror = on_error;\n",
       "      element.async = false;\n",
       "      element.src = url;\n",
       "      if (url in hashes) {\n",
       "        element.crossOrigin = \"anonymous\";\n",
       "        element.integrity = \"sha384-\" + hashes[url];\n",
       "      }\n",
       "      console.debug(\"Bokeh: injecting script tag for BokehJS library: \", url);\n",
       "      document.head.appendChild(element);\n",
       "    }\n",
       "  };\n",
       "\n",
       "  function inject_raw_css(css) {\n",
       "    const element = document.createElement(\"style\");\n",
       "    element.appendChild(document.createTextNode(css));\n",
       "    document.body.appendChild(element);\n",
       "  }\n",
       "\n",
       "  \n",
       "  var js_urls = [\"https://cdn.bokeh.org/bokeh/release/bokeh-2.2.3.min.js\", \"https://cdn.bokeh.org/bokeh/release/bokeh-widgets-2.2.3.min.js\", \"https://cdn.bokeh.org/bokeh/release/bokeh-tables-2.2.3.min.js\"];\n",
       "  var css_urls = [];\n",
       "  \n",
       "\n",
       "  var inline_js = [\n",
       "    function(Bokeh) {\n",
       "      Bokeh.set_log_level(\"info\");\n",
       "    },\n",
       "    function(Bokeh) {\n",
       "    \n",
       "    \n",
       "    }\n",
       "  ];\n",
       "\n",
       "  function run_inline_js() {\n",
       "    \n",
       "    if (root.Bokeh !== undefined || force === true) {\n",
       "      \n",
       "    for (var i = 0; i < inline_js.length; i++) {\n",
       "      inline_js[i].call(root, root.Bokeh);\n",
       "    }\n",
       "    if (force === true) {\n",
       "        display_loaded();\n",
       "      }} else if (Date.now() < root._bokeh_timeout) {\n",
       "      setTimeout(run_inline_js, 100);\n",
       "    } else if (!root._bokeh_failed_load) {\n",
       "      console.log(\"Bokeh: BokehJS failed to load within specified timeout.\");\n",
       "      root._bokeh_failed_load = true;\n",
       "    } else if (force !== true) {\n",
       "      var cell = $(document.getElementById(\"1001\")).parents('.cell').data().cell;\n",
       "      cell.output_area.append_execute_result(NB_LOAD_WARNING)\n",
       "    }\n",
       "\n",
       "  }\n",
       "\n",
       "  if (root._bokeh_is_loading === 0) {\n",
       "    console.debug(\"Bokeh: BokehJS loaded, going straight to plotting\");\n",
       "    run_inline_js();\n",
       "  } else {\n",
       "    load_libs(css_urls, js_urls, function() {\n",
       "      console.debug(\"Bokeh: BokehJS plotting callback run at\", now());\n",
       "      run_inline_js();\n",
       "    });\n",
       "  }\n",
       "}(window));"
      ],
      "application/vnd.bokehjs_load.v0+json": "\n(function(root) {\n  function now() {\n    return new Date();\n  }\n\n  var force = true;\n\n  if (typeof root._bokeh_onload_callbacks === \"undefined\" || force === true) {\n    root._bokeh_onload_callbacks = [];\n    root._bokeh_is_loading = undefined;\n  }\n\n  \n\n  \n  if (typeof (root._bokeh_timeout) === \"undefined\" || force === true) {\n    root._bokeh_timeout = Date.now() + 5000;\n    root._bokeh_failed_load = false;\n  }\n\n  var NB_LOAD_WARNING = {'data': {'text/html':\n     \"<div style='background-color: #fdd'>\\n\"+\n     \"<p>\\n\"+\n     \"BokehJS does not appear to have successfully loaded. If loading BokehJS from CDN, this \\n\"+\n     \"may be due to a slow or bad network connection. Possible fixes:\\n\"+\n     \"</p>\\n\"+\n     \"<ul>\\n\"+\n     \"<li>re-rerun `output_notebook()` to attempt to load from CDN again, or</li>\\n\"+\n     \"<li>use INLINE resources instead, as so:</li>\\n\"+\n     \"</ul>\\n\"+\n     \"<code>\\n\"+\n     \"from bokeh.resources import INLINE\\n\"+\n     \"output_notebook(resources=INLINE)\\n\"+\n     \"</code>\\n\"+\n     \"</div>\"}};\n\n  function display_loaded() {\n    var el = document.getElementById(\"1001\");\n    if (el != null) {\n      el.textContent = \"BokehJS is loading...\";\n    }\n    if (root.Bokeh !== undefined) {\n      if (el != null) {\n        el.textContent = \"BokehJS \" + root.Bokeh.version + \" successfully loaded.\";\n      }\n    } else if (Date.now() < root._bokeh_timeout) {\n      setTimeout(display_loaded, 100)\n    }\n  }\n\n\n  function run_callbacks() {\n    try {\n      root._bokeh_onload_callbacks.forEach(function(callback) {\n        if (callback != null)\n          callback();\n      });\n    } finally {\n      delete root._bokeh_onload_callbacks\n    }\n    console.debug(\"Bokeh: all callbacks have finished\");\n  }\n\n  function load_libs(css_urls, js_urls, callback) {\n    if (css_urls == null) css_urls = [];\n    if (js_urls == null) js_urls = [];\n\n    root._bokeh_onload_callbacks.push(callback);\n    if (root._bokeh_is_loading > 0) {\n      console.debug(\"Bokeh: BokehJS is being loaded, scheduling callback at\", now());\n      return null;\n    }\n    if (js_urls == null || js_urls.length === 0) {\n      run_callbacks();\n      return null;\n    }\n    console.debug(\"Bokeh: BokehJS not loaded, scheduling load and callback at\", now());\n    root._bokeh_is_loading = css_urls.length + js_urls.length;\n\n    function on_load() {\n      root._bokeh_is_loading--;\n      if (root._bokeh_is_loading === 0) {\n        console.debug(\"Bokeh: all BokehJS libraries/stylesheets loaded\");\n        run_callbacks()\n      }\n    }\n\n    function on_error() {\n      console.error(\"failed to load \" + url);\n    }\n\n    for (var i = 0; i < css_urls.length; i++) {\n      var url = css_urls[i];\n      const element = document.createElement(\"link\");\n      element.onload = on_load;\n      element.onerror = on_error;\n      element.rel = \"stylesheet\";\n      element.type = \"text/css\";\n      element.href = url;\n      console.debug(\"Bokeh: injecting link tag for BokehJS stylesheet: \", url);\n      document.body.appendChild(element);\n    }\n\n    const hashes = {\"https://cdn.bokeh.org/bokeh/release/bokeh-2.2.3.min.js\": \"T2yuo9Oe71Cz/I4X9Ac5+gpEa5a8PpJCDlqKYO0CfAuEszu1JrXLl8YugMqYe3sM\", \"https://cdn.bokeh.org/bokeh/release/bokeh-widgets-2.2.3.min.js\": \"98GDGJ0kOMCUMUePhksaQ/GYgB3+NH9h996V88sh3aOiUNX3N+fLXAtry6xctSZ6\", \"https://cdn.bokeh.org/bokeh/release/bokeh-tables-2.2.3.min.js\": \"89bArO+nlbP3sgakeHjCo1JYxYR5wufVgA3IbUvDY+K7w4zyxJqssu7wVnfeKCq8\"};\n\n    for (var i = 0; i < js_urls.length; i++) {\n      var url = js_urls[i];\n      var element = document.createElement('script');\n      element.onload = on_load;\n      element.onerror = on_error;\n      element.async = false;\n      element.src = url;\n      if (url in hashes) {\n        element.crossOrigin = \"anonymous\";\n        element.integrity = \"sha384-\" + hashes[url];\n      }\n      console.debug(\"Bokeh: injecting script tag for BokehJS library: \", url);\n      document.head.appendChild(element);\n    }\n  };\n\n  function inject_raw_css(css) {\n    const element = document.createElement(\"style\");\n    element.appendChild(document.createTextNode(css));\n    document.body.appendChild(element);\n  }\n\n  \n  var js_urls = [\"https://cdn.bokeh.org/bokeh/release/bokeh-2.2.3.min.js\", \"https://cdn.bokeh.org/bokeh/release/bokeh-widgets-2.2.3.min.js\", \"https://cdn.bokeh.org/bokeh/release/bokeh-tables-2.2.3.min.js\"];\n  var css_urls = [];\n  \n\n  var inline_js = [\n    function(Bokeh) {\n      Bokeh.set_log_level(\"info\");\n    },\n    function(Bokeh) {\n    \n    \n    }\n  ];\n\n  function run_inline_js() {\n    \n    if (root.Bokeh !== undefined || force === true) {\n      \n    for (var i = 0; i < inline_js.length; i++) {\n      inline_js[i].call(root, root.Bokeh);\n    }\n    if (force === true) {\n        display_loaded();\n      }} else if (Date.now() < root._bokeh_timeout) {\n      setTimeout(run_inline_js, 100);\n    } else if (!root._bokeh_failed_load) {\n      console.log(\"Bokeh: BokehJS failed to load within specified timeout.\");\n      root._bokeh_failed_load = true;\n    } else if (force !== true) {\n      var cell = $(document.getElementById(\"1001\")).parents('.cell').data().cell;\n      cell.output_area.append_execute_result(NB_LOAD_WARNING)\n    }\n\n  }\n\n  if (root._bokeh_is_loading === 0) {\n    console.debug(\"Bokeh: BokehJS loaded, going straight to plotting\");\n    run_inline_js();\n  } else {\n    load_libs(css_urls, js_urls, function() {\n      console.debug(\"Bokeh: BokehJS plotting callback run at\", now());\n      run_inline_js();\n    });\n  }\n}(window));"
     },
     "metadata": {},
     "output_type": "display_data"
    },
    {
     "data": {
      "application/javascript": [
       "\n",
       "(function(root) {\n",
       "  function now() {\n",
       "    return new Date();\n",
       "  }\n",
       "\n",
       "  var force = true;\n",
       "\n",
       "  if (typeof root._bokeh_onload_callbacks === \"undefined\" || force === true) {\n",
       "    root._bokeh_onload_callbacks = [];\n",
       "    root._bokeh_is_loading = undefined;\n",
       "  }\n",
       "\n",
       "  if (typeof (root._bokeh_timeout) === \"undefined\" || force === true) {\n",
       "    root._bokeh_timeout = Date.now() + 5000;\n",
       "    root._bokeh_failed_load = false;\n",
       "  }\n",
       "\n",
       "  function run_callbacks() {\n",
       "    try {\n",
       "      root._bokeh_onload_callbacks.forEach(function(callback) {\n",
       "        if (callback != null)\n",
       "          callback();\n",
       "      });\n",
       "    } finally {\n",
       "      delete root._bokeh_onload_callbacks\n",
       "    }\n",
       "    console.debug(\"Bokeh: all callbacks have finished\");\n",
       "  }\n",
       "\n",
       "  function load_libs(css_urls, js_urls, callback) {\n",
       "    if (css_urls == null) css_urls = [];\n",
       "    if (js_urls == null) js_urls = [];\n",
       "\n",
       "    root._bokeh_onload_callbacks.push(callback);\n",
       "    if (root._bokeh_is_loading > 0) {\n",
       "      console.debug(\"Bokeh: BokehJS is being loaded, scheduling callback at\", now());\n",
       "      return null;\n",
       "    }\n",
       "    if (js_urls == null || js_urls.length === 0) {\n",
       "      run_callbacks();\n",
       "      return null;\n",
       "    }\n",
       "    console.debug(\"Bokeh: BokehJS not loaded, scheduling load and callback at\", now());\n",
       "    root._bokeh_is_loading = css_urls.length + js_urls.length;\n",
       "\n",
       "    function on_load() {\n",
       "      root._bokeh_is_loading--;\n",
       "      if (root._bokeh_is_loading === 0) {\n",
       "        console.debug(\"Bokeh: all BokehJS libraries/stylesheets loaded\");\n",
       "        run_callbacks()\n",
       "      }\n",
       "    }\n",
       "\n",
       "    function on_error() {\n",
       "      console.error(\"failed to load \" + url);\n",
       "    }\n",
       "\n",
       "    for (var i = 0; i < css_urls.length; i++) {\n",
       "      var url = css_urls[i];\n",
       "      const element = document.createElement(\"link\");\n",
       "      element.onload = on_load;\n",
       "      element.onerror = on_error;\n",
       "      element.rel = \"stylesheet\";\n",
       "      element.type = \"text/css\";\n",
       "      element.href = url;\n",
       "      console.debug(\"Bokeh: injecting link tag for BokehJS stylesheet: \", url);\n",
       "      document.body.appendChild(element);\n",
       "    }\n",
       "\n",
       "    var skip = [];\n",
       "    if (window.requirejs) {\n",
       "      require([], function() {\n",
       "      })\n",
       "    }\n",
       "    for (var i = 0; i < js_urls.length; i++) {\n",
       "      var url = js_urls[i];\n",
       "      if (skip.indexOf(url) >= 0) { on_load(); continue; }\n",
       "      var element = document.createElement('script');\n",
       "      element.onload = on_load;\n",
       "      element.onerror = on_error;\n",
       "      element.async = false;\n",
       "      element.src = url;\n",
       "      console.debug(\"Bokeh: injecting script tag for BokehJS library: \", url);\n",
       "      document.head.appendChild(element);\n",
       "    }\n",
       "\tif (!js_urls.length) {\n",
       "      on_load()\n",
       "    }\n",
       "  };\n",
       "\n",
       "  function inject_raw_css(css) {\n",
       "    const element = document.createElement(\"style\");\n",
       "    element.appendChild(document.createTextNode(css));\n",
       "    document.body.appendChild(element);\n",
       "  }\n",
       "\n",
       "  var js_urls = [\"https://cdn.bokeh.org/bokeh/release/bokeh-2.2.3.min.js\", \"https://cdn.bokeh.org/bokeh/release/bokeh-widgets-2.2.3.min.js\", \"https://cdn.bokeh.org/bokeh/release/bokeh-tables-2.2.3.min.js\", \"https://unpkg.com/@holoviz/panel@^0.10.3/dist/panel.min.js\"];\n",
       "  var css_urls = [\"https://unpkg.com/@holoviz/panel@0.10.3/dist/css/alerts.css\", \"https://unpkg.com/@holoviz/panel@0.10.3/dist/css/card.css\", \"https://unpkg.com/@holoviz/panel@0.10.3/dist/css/dataframe.css\", \"https://unpkg.com/@holoviz/panel@0.10.3/dist/css/json.css\", \"https://unpkg.com/@holoviz/panel@0.10.3/dist/css/markdown.css\", \"https://unpkg.com/@holoviz/panel@0.10.3/dist/css/widgets.css\"];\n",
       "\n",
       "  var inline_js = [\n",
       "    function(Bokeh) {\n",
       "      Bokeh.set_log_level(\"info\");\n",
       "    },\n",
       "    function(Bokeh) {} // ensure no trailing comma for IE\n",
       "  ];\n",
       "\n",
       "  function run_inline_js() {\n",
       "    if ((root.Bokeh !== undefined) || (force === true)) {\n",
       "      for (var i = 0; i < inline_js.length; i++) {\n",
       "        inline_js[i].call(root, root.Bokeh);\n",
       "      }} else if (Date.now() < root._bokeh_timeout) {\n",
       "      setTimeout(run_inline_js, 100);\n",
       "    } else if (!root._bokeh_failed_load) {\n",
       "      console.log(\"Bokeh: BokehJS failed to load within specified timeout.\");\n",
       "      root._bokeh_failed_load = true;\n",
       "    }\n",
       "  }\n",
       "\n",
       "  if (root._bokeh_is_loading === 0) {\n",
       "    console.debug(\"Bokeh: BokehJS loaded, going straight to plotting\");\n",
       "    run_inline_js();\n",
       "  } else {\n",
       "    load_libs(css_urls, js_urls, function() {\n",
       "      console.debug(\"Bokeh: BokehJS plotting callback run at\", now());\n",
       "      run_inline_js();\n",
       "    });\n",
       "  }\n",
       "}(window));"
      ],
      "application/vnd.holoviews_load.v0+json": "\n(function(root) {\n  function now() {\n    return new Date();\n  }\n\n  var force = true;\n\n  if (typeof root._bokeh_onload_callbacks === \"undefined\" || force === true) {\n    root._bokeh_onload_callbacks = [];\n    root._bokeh_is_loading = undefined;\n  }\n\n  if (typeof (root._bokeh_timeout) === \"undefined\" || force === true) {\n    root._bokeh_timeout = Date.now() + 5000;\n    root._bokeh_failed_load = false;\n  }\n\n  function run_callbacks() {\n    try {\n      root._bokeh_onload_callbacks.forEach(function(callback) {\n        if (callback != null)\n          callback();\n      });\n    } finally {\n      delete root._bokeh_onload_callbacks\n    }\n    console.debug(\"Bokeh: all callbacks have finished\");\n  }\n\n  function load_libs(css_urls, js_urls, callback) {\n    if (css_urls == null) css_urls = [];\n    if (js_urls == null) js_urls = [];\n\n    root._bokeh_onload_callbacks.push(callback);\n    if (root._bokeh_is_loading > 0) {\n      console.debug(\"Bokeh: BokehJS is being loaded, scheduling callback at\", now());\n      return null;\n    }\n    if (js_urls == null || js_urls.length === 0) {\n      run_callbacks();\n      return null;\n    }\n    console.debug(\"Bokeh: BokehJS not loaded, scheduling load and callback at\", now());\n    root._bokeh_is_loading = css_urls.length + js_urls.length;\n\n    function on_load() {\n      root._bokeh_is_loading--;\n      if (root._bokeh_is_loading === 0) {\n        console.debug(\"Bokeh: all BokehJS libraries/stylesheets loaded\");\n        run_callbacks()\n      }\n    }\n\n    function on_error() {\n      console.error(\"failed to load \" + url);\n    }\n\n    for (var i = 0; i < css_urls.length; i++) {\n      var url = css_urls[i];\n      const element = document.createElement(\"link\");\n      element.onload = on_load;\n      element.onerror = on_error;\n      element.rel = \"stylesheet\";\n      element.type = \"text/css\";\n      element.href = url;\n      console.debug(\"Bokeh: injecting link tag for BokehJS stylesheet: \", url);\n      document.body.appendChild(element);\n    }\n\n    var skip = [];\n    if (window.requirejs) {\n      require([], function() {\n      })\n    }\n    for (var i = 0; i < js_urls.length; i++) {\n      var url = js_urls[i];\n      if (skip.indexOf(url) >= 0) { on_load(); continue; }\n      var element = document.createElement('script');\n      element.onload = on_load;\n      element.onerror = on_error;\n      element.async = false;\n      element.src = url;\n      console.debug(\"Bokeh: injecting script tag for BokehJS library: \", url);\n      document.head.appendChild(element);\n    }\n\tif (!js_urls.length) {\n      on_load()\n    }\n  };\n\n  function inject_raw_css(css) {\n    const element = document.createElement(\"style\");\n    element.appendChild(document.createTextNode(css));\n    document.body.appendChild(element);\n  }\n\n  var js_urls = [\"https://cdn.bokeh.org/bokeh/release/bokeh-2.2.3.min.js\", \"https://cdn.bokeh.org/bokeh/release/bokeh-widgets-2.2.3.min.js\", \"https://cdn.bokeh.org/bokeh/release/bokeh-tables-2.2.3.min.js\", \"https://unpkg.com/@holoviz/panel@^0.10.3/dist/panel.min.js\"];\n  var css_urls = [\"https://unpkg.com/@holoviz/panel@0.10.3/dist/css/alerts.css\", \"https://unpkg.com/@holoviz/panel@0.10.3/dist/css/card.css\", \"https://unpkg.com/@holoviz/panel@0.10.3/dist/css/dataframe.css\", \"https://unpkg.com/@holoviz/panel@0.10.3/dist/css/json.css\", \"https://unpkg.com/@holoviz/panel@0.10.3/dist/css/markdown.css\", \"https://unpkg.com/@holoviz/panel@0.10.3/dist/css/widgets.css\"];\n\n  var inline_js = [\n    function(Bokeh) {\n      Bokeh.set_log_level(\"info\");\n    },\n    function(Bokeh) {} // ensure no trailing comma for IE\n  ];\n\n  function run_inline_js() {\n    if ((root.Bokeh !== undefined) || (force === true)) {\n      for (var i = 0; i < inline_js.length; i++) {\n        inline_js[i].call(root, root.Bokeh);\n      }} else if (Date.now() < root._bokeh_timeout) {\n      setTimeout(run_inline_js, 100);\n    } else if (!root._bokeh_failed_load) {\n      console.log(\"Bokeh: BokehJS failed to load within specified timeout.\");\n      root._bokeh_failed_load = true;\n    }\n  }\n\n  if (root._bokeh_is_loading === 0) {\n    console.debug(\"Bokeh: BokehJS loaded, going straight to plotting\");\n    run_inline_js();\n  } else {\n    load_libs(css_urls, js_urls, function() {\n      console.debug(\"Bokeh: BokehJS plotting callback run at\", now());\n      run_inline_js();\n    });\n  }\n}(window));"
     },
     "metadata": {},
     "output_type": "display_data"
    },
    {
     "data": {
      "application/javascript": [
       "\n",
       "if ((window.PyViz === undefined) || (window.PyViz instanceof HTMLElement)) {\n",
       "  window.PyViz = {comms: {}, comm_status:{}, kernels:{}, receivers: {}, plot_index: []}\n",
       "}\n",
       "\n",
       "\n",
       "    function JupyterCommManager() {\n",
       "    }\n",
       "\n",
       "    JupyterCommManager.prototype.register_target = function(plot_id, comm_id, msg_handler) {\n",
       "      if (window.comm_manager || ((window.Jupyter !== undefined) && (Jupyter.notebook.kernel != null))) {\n",
       "        var comm_manager = window.comm_manager || Jupyter.notebook.kernel.comm_manager;\n",
       "        comm_manager.register_target(comm_id, function(comm) {\n",
       "          comm.on_msg(msg_handler);\n",
       "        });\n",
       "      } else if ((plot_id in window.PyViz.kernels) && (window.PyViz.kernels[plot_id])) {\n",
       "        window.PyViz.kernels[plot_id].registerCommTarget(comm_id, function(comm) {\n",
       "          comm.onMsg = msg_handler;\n",
       "        });\n",
       "      } else if (typeof google != 'undefined' && google.colab.kernel != null) {\n",
       "        google.colab.kernel.comms.registerTarget(comm_id, (comm) => {\n",
       "          var messages = comm.messages[Symbol.asyncIterator]();\n",
       "          function processIteratorResult(result) {\n",
       "            var message = result.value;\n",
       "            console.log(message)\n",
       "            var content = {data: message.data, comm_id};\n",
       "            var buffers = []\n",
       "            for (var buffer of message.buffers || []) {\n",
       "              buffers.push(new DataView(buffer))\n",
       "            }\n",
       "            var metadata = message.metadata || {};\n",
       "            var msg = {content, buffers, metadata}\n",
       "            msg_handler(msg);\n",
       "            return messages.next().then(processIteratorResult);\n",
       "          }\n",
       "          return messages.next().then(processIteratorResult);\n",
       "        })\n",
       "      }\n",
       "    }\n",
       "\n",
       "    JupyterCommManager.prototype.get_client_comm = function(plot_id, comm_id, msg_handler) {\n",
       "      if (comm_id in window.PyViz.comms) {\n",
       "        return window.PyViz.comms[comm_id];\n",
       "      } else if (window.comm_manager || ((window.Jupyter !== undefined) && (Jupyter.notebook.kernel != null))) {\n",
       "        var comm_manager = window.comm_manager || Jupyter.notebook.kernel.comm_manager;\n",
       "        var comm = comm_manager.new_comm(comm_id, {}, {}, {}, comm_id);\n",
       "        if (msg_handler) {\n",
       "          comm.on_msg(msg_handler);\n",
       "        }\n",
       "      } else if ((plot_id in window.PyViz.kernels) && (window.PyViz.kernels[plot_id])) {\n",
       "        var comm = window.PyViz.kernels[plot_id].connectToComm(comm_id);\n",
       "        comm.open();\n",
       "        if (msg_handler) {\n",
       "          comm.onMsg = msg_handler;\n",
       "        }\n",
       "      } else if (typeof google != 'undefined' && google.colab.kernel != null) {\n",
       "        var comm_promise = google.colab.kernel.comms.open(comm_id)\n",
       "        comm_promise.then((comm) => {\n",
       "          window.PyViz.comms[comm_id] = comm;\n",
       "          if (msg_handler) {\n",
       "            var messages = comm.messages[Symbol.asyncIterator]();\n",
       "            function processIteratorResult(result) {\n",
       "              var message = result.value;\n",
       "              var content = {data: message.data};\n",
       "              var metadata = message.metadata || {comm_id};\n",
       "              var msg = {content, metadata}\n",
       "              msg_handler(msg);\n",
       "              return messages.next().then(processIteratorResult);\n",
       "            }\n",
       "            return messages.next().then(processIteratorResult);\n",
       "          }\n",
       "        }) \n",
       "        var sendClosure = (data, metadata, buffers, disposeOnDone) => {\n",
       "          return comm_promise.then((comm) => {\n",
       "            comm.send(data, metadata, buffers, disposeOnDone);\n",
       "          });\n",
       "        };\n",
       "        var comm = {\n",
       "          send: sendClosure\n",
       "        };\n",
       "      }\n",
       "      window.PyViz.comms[comm_id] = comm;\n",
       "      return comm;\n",
       "    }\n",
       "    window.PyViz.comm_manager = new JupyterCommManager();\n",
       "    \n",
       "\n",
       "\n",
       "var JS_MIME_TYPE = 'application/javascript';\n",
       "var HTML_MIME_TYPE = 'text/html';\n",
       "var EXEC_MIME_TYPE = 'application/vnd.holoviews_exec.v0+json';\n",
       "var CLASS_NAME = 'output';\n",
       "\n",
       "/**\n",
       " * Render data to the DOM node\n",
       " */\n",
       "function render(props, node) {\n",
       "  var div = document.createElement(\"div\");\n",
       "  var script = document.createElement(\"script\");\n",
       "  node.appendChild(div);\n",
       "  node.appendChild(script);\n",
       "}\n",
       "\n",
       "/**\n",
       " * Handle when a new output is added\n",
       " */\n",
       "function handle_add_output(event, handle) {\n",
       "  var output_area = handle.output_area;\n",
       "  var output = handle.output;\n",
       "  if ((output.data == undefined) || (!output.data.hasOwnProperty(EXEC_MIME_TYPE))) {\n",
       "    return\n",
       "  }\n",
       "  var id = output.metadata[EXEC_MIME_TYPE][\"id\"];\n",
       "  var toinsert = output_area.element.find(\".\" + CLASS_NAME.split(' ')[0]);\n",
       "  if (id !== undefined) {\n",
       "    var nchildren = toinsert.length;\n",
       "    var html_node = toinsert[nchildren-1].children[0];\n",
       "    html_node.innerHTML = output.data[HTML_MIME_TYPE];\n",
       "    var scripts = [];\n",
       "    var nodelist = html_node.querySelectorAll(\"script\");\n",
       "    for (var i in nodelist) {\n",
       "      if (nodelist.hasOwnProperty(i)) {\n",
       "        scripts.push(nodelist[i])\n",
       "      }\n",
       "    }\n",
       "\n",
       "    scripts.forEach( function (oldScript) {\n",
       "      var newScript = document.createElement(\"script\");\n",
       "      var attrs = [];\n",
       "      var nodemap = oldScript.attributes;\n",
       "      for (var j in nodemap) {\n",
       "        if (nodemap.hasOwnProperty(j)) {\n",
       "          attrs.push(nodemap[j])\n",
       "        }\n",
       "      }\n",
       "      attrs.forEach(function(attr) { newScript.setAttribute(attr.name, attr.value) });\n",
       "      newScript.appendChild(document.createTextNode(oldScript.innerHTML));\n",
       "      oldScript.parentNode.replaceChild(newScript, oldScript);\n",
       "    });\n",
       "    if (JS_MIME_TYPE in output.data) {\n",
       "      toinsert[nchildren-1].children[1].textContent = output.data[JS_MIME_TYPE];\n",
       "    }\n",
       "    output_area._hv_plot_id = id;\n",
       "    if ((window.Bokeh !== undefined) && (id in Bokeh.index)) {\n",
       "      window.PyViz.plot_index[id] = Bokeh.index[id];\n",
       "    } else {\n",
       "      window.PyViz.plot_index[id] = null;\n",
       "    }\n",
       "  } else if (output.metadata[EXEC_MIME_TYPE][\"server_id\"] !== undefined) {\n",
       "    var bk_div = document.createElement(\"div\");\n",
       "    bk_div.innerHTML = output.data[HTML_MIME_TYPE];\n",
       "    var script_attrs = bk_div.children[0].attributes;\n",
       "    for (var i = 0; i < script_attrs.length; i++) {\n",
       "      toinsert[toinsert.length - 1].childNodes[1].setAttribute(script_attrs[i].name, script_attrs[i].value);\n",
       "    }\n",
       "    // store reference to server id on output_area\n",
       "    output_area._bokeh_server_id = output.metadata[EXEC_MIME_TYPE][\"server_id\"];\n",
       "  }\n",
       "}\n",
       "\n",
       "/**\n",
       " * Handle when an output is cleared or removed\n",
       " */\n",
       "function handle_clear_output(event, handle) {\n",
       "  var id = handle.cell.output_area._hv_plot_id;\n",
       "  var server_id = handle.cell.output_area._bokeh_server_id;\n",
       "  if (((id === undefined) || !(id in PyViz.plot_index)) && (server_id !== undefined)) { return; }\n",
       "  var comm = window.PyViz.comm_manager.get_client_comm(\"hv-extension-comm\", \"hv-extension-comm\", function () {});\n",
       "  if (server_id !== null) {\n",
       "    comm.send({event_type: 'server_delete', 'id': server_id});\n",
       "    return;\n",
       "  } else if (comm !== null) {\n",
       "    comm.send({event_type: 'delete', 'id': id});\n",
       "  }\n",
       "  delete PyViz.plot_index[id];\n",
       "  if ((window.Bokeh !== undefined) & (id in window.Bokeh.index)) {\n",
       "    var doc = window.Bokeh.index[id].model.document\n",
       "    doc.clear();\n",
       "    const i = window.Bokeh.documents.indexOf(doc);\n",
       "    if (i > -1) {\n",
       "      window.Bokeh.documents.splice(i, 1);\n",
       "    }\n",
       "  }\n",
       "}\n",
       "\n",
       "/**\n",
       " * Handle kernel restart event\n",
       " */\n",
       "function handle_kernel_cleanup(event, handle) {\n",
       "  delete PyViz.comms[\"hv-extension-comm\"];\n",
       "  window.PyViz.plot_index = {}\n",
       "}\n",
       "\n",
       "/**\n",
       " * Handle update_display_data messages\n",
       " */\n",
       "function handle_update_output(event, handle) {\n",
       "  handle_clear_output(event, {cell: {output_area: handle.output_area}})\n",
       "  handle_add_output(event, handle)\n",
       "}\n",
       "\n",
       "function register_renderer(events, OutputArea) {\n",
       "  function append_mime(data, metadata, element) {\n",
       "    // create a DOM node to render to\n",
       "    var toinsert = this.create_output_subarea(\n",
       "    metadata,\n",
       "    CLASS_NAME,\n",
       "    EXEC_MIME_TYPE\n",
       "    );\n",
       "    this.keyboard_manager.register_events(toinsert);\n",
       "    // Render to node\n",
       "    var props = {data: data, metadata: metadata[EXEC_MIME_TYPE]};\n",
       "    render(props, toinsert[0]);\n",
       "    element.append(toinsert);\n",
       "    return toinsert\n",
       "  }\n",
       "\n",
       "  events.on('output_added.OutputArea', handle_add_output);\n",
       "  events.on('output_updated.OutputArea', handle_update_output);\n",
       "  events.on('clear_output.CodeCell', handle_clear_output);\n",
       "  events.on('delete.Cell', handle_clear_output);\n",
       "  events.on('kernel_ready.Kernel', handle_kernel_cleanup);\n",
       "\n",
       "  OutputArea.prototype.register_mime_type(EXEC_MIME_TYPE, append_mime, {\n",
       "    safe: true,\n",
       "    index: 0\n",
       "  });\n",
       "}\n",
       "\n",
       "if (window.Jupyter !== undefined) {\n",
       "  try {\n",
       "    var events = require('base/js/events');\n",
       "    var OutputArea = require('notebook/js/outputarea').OutputArea;\n",
       "    if (OutputArea.prototype.mime_types().indexOf(EXEC_MIME_TYPE) == -1) {\n",
       "      register_renderer(events, OutputArea);\n",
       "    }\n",
       "  } catch(err) {\n",
       "  }\n",
       "}\n"
      ],
      "application/vnd.holoviews_load.v0+json": "\nif ((window.PyViz === undefined) || (window.PyViz instanceof HTMLElement)) {\n  window.PyViz = {comms: {}, comm_status:{}, kernels:{}, receivers: {}, plot_index: []}\n}\n\n\n    function JupyterCommManager() {\n    }\n\n    JupyterCommManager.prototype.register_target = function(plot_id, comm_id, msg_handler) {\n      if (window.comm_manager || ((window.Jupyter !== undefined) && (Jupyter.notebook.kernel != null))) {\n        var comm_manager = window.comm_manager || Jupyter.notebook.kernel.comm_manager;\n        comm_manager.register_target(comm_id, function(comm) {\n          comm.on_msg(msg_handler);\n        });\n      } else if ((plot_id in window.PyViz.kernels) && (window.PyViz.kernels[plot_id])) {\n        window.PyViz.kernels[plot_id].registerCommTarget(comm_id, function(comm) {\n          comm.onMsg = msg_handler;\n        });\n      } else if (typeof google != 'undefined' && google.colab.kernel != null) {\n        google.colab.kernel.comms.registerTarget(comm_id, (comm) => {\n          var messages = comm.messages[Symbol.asyncIterator]();\n          function processIteratorResult(result) {\n            var message = result.value;\n            console.log(message)\n            var content = {data: message.data, comm_id};\n            var buffers = []\n            for (var buffer of message.buffers || []) {\n              buffers.push(new DataView(buffer))\n            }\n            var metadata = message.metadata || {};\n            var msg = {content, buffers, metadata}\n            msg_handler(msg);\n            return messages.next().then(processIteratorResult);\n          }\n          return messages.next().then(processIteratorResult);\n        })\n      }\n    }\n\n    JupyterCommManager.prototype.get_client_comm = function(plot_id, comm_id, msg_handler) {\n      if (comm_id in window.PyViz.comms) {\n        return window.PyViz.comms[comm_id];\n      } else if (window.comm_manager || ((window.Jupyter !== undefined) && (Jupyter.notebook.kernel != null))) {\n        var comm_manager = window.comm_manager || Jupyter.notebook.kernel.comm_manager;\n        var comm = comm_manager.new_comm(comm_id, {}, {}, {}, comm_id);\n        if (msg_handler) {\n          comm.on_msg(msg_handler);\n        }\n      } else if ((plot_id in window.PyViz.kernels) && (window.PyViz.kernels[plot_id])) {\n        var comm = window.PyViz.kernels[plot_id].connectToComm(comm_id);\n        comm.open();\n        if (msg_handler) {\n          comm.onMsg = msg_handler;\n        }\n      } else if (typeof google != 'undefined' && google.colab.kernel != null) {\n        var comm_promise = google.colab.kernel.comms.open(comm_id)\n        comm_promise.then((comm) => {\n          window.PyViz.comms[comm_id] = comm;\n          if (msg_handler) {\n            var messages = comm.messages[Symbol.asyncIterator]();\n            function processIteratorResult(result) {\n              var message = result.value;\n              var content = {data: message.data};\n              var metadata = message.metadata || {comm_id};\n              var msg = {content, metadata}\n              msg_handler(msg);\n              return messages.next().then(processIteratorResult);\n            }\n            return messages.next().then(processIteratorResult);\n          }\n        }) \n        var sendClosure = (data, metadata, buffers, disposeOnDone) => {\n          return comm_promise.then((comm) => {\n            comm.send(data, metadata, buffers, disposeOnDone);\n          });\n        };\n        var comm = {\n          send: sendClosure\n        };\n      }\n      window.PyViz.comms[comm_id] = comm;\n      return comm;\n    }\n    window.PyViz.comm_manager = new JupyterCommManager();\n    \n\n\nvar JS_MIME_TYPE = 'application/javascript';\nvar HTML_MIME_TYPE = 'text/html';\nvar EXEC_MIME_TYPE = 'application/vnd.holoviews_exec.v0+json';\nvar CLASS_NAME = 'output';\n\n/**\n * Render data to the DOM node\n */\nfunction render(props, node) {\n  var div = document.createElement(\"div\");\n  var script = document.createElement(\"script\");\n  node.appendChild(div);\n  node.appendChild(script);\n}\n\n/**\n * Handle when a new output is added\n */\nfunction handle_add_output(event, handle) {\n  var output_area = handle.output_area;\n  var output = handle.output;\n  if ((output.data == undefined) || (!output.data.hasOwnProperty(EXEC_MIME_TYPE))) {\n    return\n  }\n  var id = output.metadata[EXEC_MIME_TYPE][\"id\"];\n  var toinsert = output_area.element.find(\".\" + CLASS_NAME.split(' ')[0]);\n  if (id !== undefined) {\n    var nchildren = toinsert.length;\n    var html_node = toinsert[nchildren-1].children[0];\n    html_node.innerHTML = output.data[HTML_MIME_TYPE];\n    var scripts = [];\n    var nodelist = html_node.querySelectorAll(\"script\");\n    for (var i in nodelist) {\n      if (nodelist.hasOwnProperty(i)) {\n        scripts.push(nodelist[i])\n      }\n    }\n\n    scripts.forEach( function (oldScript) {\n      var newScript = document.createElement(\"script\");\n      var attrs = [];\n      var nodemap = oldScript.attributes;\n      for (var j in nodemap) {\n        if (nodemap.hasOwnProperty(j)) {\n          attrs.push(nodemap[j])\n        }\n      }\n      attrs.forEach(function(attr) { newScript.setAttribute(attr.name, attr.value) });\n      newScript.appendChild(document.createTextNode(oldScript.innerHTML));\n      oldScript.parentNode.replaceChild(newScript, oldScript);\n    });\n    if (JS_MIME_TYPE in output.data) {\n      toinsert[nchildren-1].children[1].textContent = output.data[JS_MIME_TYPE];\n    }\n    output_area._hv_plot_id = id;\n    if ((window.Bokeh !== undefined) && (id in Bokeh.index)) {\n      window.PyViz.plot_index[id] = Bokeh.index[id];\n    } else {\n      window.PyViz.plot_index[id] = null;\n    }\n  } else if (output.metadata[EXEC_MIME_TYPE][\"server_id\"] !== undefined) {\n    var bk_div = document.createElement(\"div\");\n    bk_div.innerHTML = output.data[HTML_MIME_TYPE];\n    var script_attrs = bk_div.children[0].attributes;\n    for (var i = 0; i < script_attrs.length; i++) {\n      toinsert[toinsert.length - 1].childNodes[1].setAttribute(script_attrs[i].name, script_attrs[i].value);\n    }\n    // store reference to server id on output_area\n    output_area._bokeh_server_id = output.metadata[EXEC_MIME_TYPE][\"server_id\"];\n  }\n}\n\n/**\n * Handle when an output is cleared or removed\n */\nfunction handle_clear_output(event, handle) {\n  var id = handle.cell.output_area._hv_plot_id;\n  var server_id = handle.cell.output_area._bokeh_server_id;\n  if (((id === undefined) || !(id in PyViz.plot_index)) && (server_id !== undefined)) { return; }\n  var comm = window.PyViz.comm_manager.get_client_comm(\"hv-extension-comm\", \"hv-extension-comm\", function () {});\n  if (server_id !== null) {\n    comm.send({event_type: 'server_delete', 'id': server_id});\n    return;\n  } else if (comm !== null) {\n    comm.send({event_type: 'delete', 'id': id});\n  }\n  delete PyViz.plot_index[id];\n  if ((window.Bokeh !== undefined) & (id in window.Bokeh.index)) {\n    var doc = window.Bokeh.index[id].model.document\n    doc.clear();\n    const i = window.Bokeh.documents.indexOf(doc);\n    if (i > -1) {\n      window.Bokeh.documents.splice(i, 1);\n    }\n  }\n}\n\n/**\n * Handle kernel restart event\n */\nfunction handle_kernel_cleanup(event, handle) {\n  delete PyViz.comms[\"hv-extension-comm\"];\n  window.PyViz.plot_index = {}\n}\n\n/**\n * Handle update_display_data messages\n */\nfunction handle_update_output(event, handle) {\n  handle_clear_output(event, {cell: {output_area: handle.output_area}})\n  handle_add_output(event, handle)\n}\n\nfunction register_renderer(events, OutputArea) {\n  function append_mime(data, metadata, element) {\n    // create a DOM node to render to\n    var toinsert = this.create_output_subarea(\n    metadata,\n    CLASS_NAME,\n    EXEC_MIME_TYPE\n    );\n    this.keyboard_manager.register_events(toinsert);\n    // Render to node\n    var props = {data: data, metadata: metadata[EXEC_MIME_TYPE]};\n    render(props, toinsert[0]);\n    element.append(toinsert);\n    return toinsert\n  }\n\n  events.on('output_added.OutputArea', handle_add_output);\n  events.on('output_updated.OutputArea', handle_update_output);\n  events.on('clear_output.CodeCell', handle_clear_output);\n  events.on('delete.Cell', handle_clear_output);\n  events.on('kernel_ready.Kernel', handle_kernel_cleanup);\n\n  OutputArea.prototype.register_mime_type(EXEC_MIME_TYPE, append_mime, {\n    safe: true,\n    index: 0\n  });\n}\n\nif (window.Jupyter !== undefined) {\n  try {\n    var events = require('base/js/events');\n    var OutputArea = require('notebook/js/outputarea').OutputArea;\n    if (OutputArea.prototype.mime_types().indexOf(EXEC_MIME_TYPE) == -1) {\n      register_renderer(events, OutputArea);\n    }\n  } catch(err) {\n  }\n}\n"
     },
     "metadata": {},
     "output_type": "display_data"
    }
   ],
   "source": [
    "from bokeh.io import show, output_notebook\n",
    "from bokeh.models import ColumnDataSource, GeoJSONDataSource, ColorBar, HoverTool, Legend, LinearColorMapper, ColorBar\n",
    "from bokeh.plotting import figure\n",
    "from bokeh.palettes import brewer\n",
    "from bokeh.models.glyphs import Line\n",
    "from bokeh.palettes import Category10, Viridis\n",
    "output_notebook()\n",
    "import panel as pn\n",
    "import panel.widgets as pnw\n",
    "pn.extension()\n",
    "from mesa import Agent, Model\n",
    "from mesa.time import RandomActivation\n",
    "import random\n",
    "%matplotlib inline\n",
    "# The below is needed for both notebooks and scripts\n",
    "import matplotlib.pyplot as plt\n",
    "import numpy as np\n",
    "from mesa.space import MultiGrid\n",
    "import networkx as nx\n",
    "from mesa.space import NetworkGrid\n",
    "import time, enum, math\n",
    "from mesa.datacollection import DataCollector\n",
    "from mesa import Agent, Model\n",
    "from mesa.time import RandomActivation\n",
    "import random\n",
    "%matplotlib inline\n",
    "# The below is needed for both notebooks and scripts\n",
    "import matplotlib.pyplot as plt\n",
    "import numpy as np\n",
    "from mesa.space import MultiGrid\n",
    "import networkx as nx\n",
    "from mesa.space import NetworkGrid\n",
    "import time, enum, math\n",
    "from mesa.datacollection import DataCollector\n",
    "import pandas as pd\n",
    "from mesa.time import BaseScheduler"
   ]
  },
  {
   "cell_type": "code",
   "execution_count": 3,
   "metadata": {},
   "outputs": [
    {
     "data": {
      "image/png": "[encoded data removed]",
      "text/plain": [
       "<Figure size 432x288 with 1 Axes>"
      ]
     },
     "metadata": {},
     "output_type": "display_data"
    }
   ],
   "source": [
    "while True:  \n",
    "    s=[]\n",
    "    while len(s)<100:\n",
    "        nextval = int(nx.utils.powerlaw_sequence(1, 2.5)[0]) #100 nodes, power-law exponent 2.5\n",
    "        if nextval!=0:\n",
    "            s.append(nextval)\n",
    "    if sum(s)%2 == 0:\n",
    "        break\n",
    "G = nx.configuration_model(s)\n",
    "G=nx.Graph(G) # remove parallel edges\n",
    "G.remove_edges_from(nx.selfloop_edges(G))\n",
    "\n",
    "#draw and show graph\n",
    "pos = nx.spring_layout(G)\n",
    "nx.draw_networkx(G, pos)"
   ]
  },
  {
   "cell_type": "code",
   "execution_count": 3,
   "metadata": {},
   "outputs": [],
   "source": [
    "from networkx.utils import powerlaw_sequence"
   ]
  },
  {
   "cell_type": "code",
   "execution_count": 7,
   "metadata": {},
   "outputs": [],
   "source": [
    "import powerlaw"
   ]
  },
  {
   "cell_type": "code",
   "execution_count": 12,
   "metadata": {},
   "outputs": [
    {
     "name": "stderr",
     "output_type": "stream",
     "text": [
      "Calculating best minimal value for power law fit\n"
     ]
    }
   ],
   "source": [
    "arr = [1,3,5,6,7,1,23,51,23]\n",
    "results=powerlaw.Fit(arr)"
   ]
  },
  {
   "cell_type": "code",
   "execution_count": 13,
   "metadata": {},
   "outputs": [
    {
     "data": {
      "text/plain": [
       "0.0244311132461124"
      ]
     },
     "execution_count": 13,
     "metadata": {},
     "output_type": "execute_result"
    }
   ],
   "source": [
    "results.truncated_power_law.parameter1 # power law  parameter (alpha)\n",
    "results.truncated_power_law.parameter2 # exponential cut-off parameter (beta)"
   ]
  },
  {
   "cell_type": "code",
   "execution_count": 14,
   "metadata": {},
   "outputs": [
    {
     "data": {
      "text/plain": [
       "[<matplotlib.lines.Line2D at 0x1a971ef9448>]"
      ]
     },
     "execution_count": 14,
     "metadata": {},
     "output_type": "execute_result"
    },
    {
     "data": {
      "image/png": "[encoded data removed]",
      "text/plain": [
       "<Figure size 432x288 with 1 Axes>"
      ]
     },
     "metadata": {
      "needs_background": "light"
     },
     "output_type": "display_data"
    }
   ],
   "source": [
    "plt.plot(results.truncated_power_law.parameter2)"
   ]
  },
  {
   "cell_type": "code",
   "execution_count": 6,
   "metadata": {},
   "outputs": [
    {
     "name": "stdout",
     "output_type": "stream",
     "text": [
      "True\n",
      "Configuration model\n",
      "Degree sequence [5, 3, 3, 3, 3, 2, 2, 2, 1, 1, 1]\n",
      "Degree histogram\n",
      "degree #nodes\n",
      "   5      1\n",
      "   3      4\n",
      "   2      3\n",
      "   1      3\n"
     ]
    },
    {
     "data": {
      "image/png": "[encoded data removed]",
      "text/plain": [
       "<Figure size 432x288 with 1 Axes>"
      ]
     },
     "metadata": {},
     "output_type": "display_data"
    }
   ],
   "source": [
    "\n",
    "z = [5, 3, 3, 3, 3, 2, 2, 2, 1, 1, 1]\n",
    "print(nx.is_graphical(z))\n",
    "\n",
    "print(\"Configuration model\")\n",
    "G = nx.configuration_model(z)  # configuration model\n",
    "degree_sequence = [d for n, d in G.degree()]  # degree sequence\n",
    "print(f\"Degree sequence {degree_sequence}\")\n",
    "print(\"Degree histogram\")\n",
    "hist = {}\n",
    "for d in degree_sequence:\n",
    "    if d in hist:\n",
    "        hist[d] += 1\n",
    "    else:\n",
    "        hist[d] = 1\n",
    "print(\"degree #nodes\")\n",
    "for d in hist:\n",
    "    print(f\"{d:4} {hist[d]:6}\")\n",
    "\n",
    "nx.draw(G, with_labels=True)\n",
    "plt.show()"
   ]
  },
  {
   "cell_type": "code",
   "execution_count": 40,
   "metadata": {},
   "outputs": [],
   "source": [
    "def powerlaw_sequence(n,exponent=2.0):\n",
    "    \"\"\"\n",
    "    Return sample sequence of length n from a power law distribution.\n",
    "    \"\"\"\n",
    "    return [random.paretovariate(exponent-1) for i in range(n)]"
   ]
  },
  {
   "cell_type": "code",
   "execution_count": 87,
   "metadata": {},
   "outputs": [],
   "source": [
    "z=powerlaw_sequence(5,2)"
   ]
  },
  {
   "cell_type": "code",
   "execution_count": 88,
   "metadata": {},
   "outputs": [
    {
     "data": {
      "text/plain": [
       "[2.049302162308822,\n",
       " 3.0915551244076833,\n",
       " 41.39459826729615,\n",
       " 1.3285951057505854,\n",
       " 13.735193396777595]"
      ]
     },
     "execution_count": 88,
     "metadata": {},
     "output_type": "execute_result"
    }
   ],
   "source": [
    "z"
   ]
  },
  {
   "cell_type": "code",
   "execution_count": 37,
   "metadata": {},
   "outputs": [
    {
     "data": {
      "text/plain": [
       "1.0404954499577783"
      ]
     },
     "execution_count": 37,
     "metadata": {},
     "output_type": "execute_result"
    }
   ],
   "source": [
    "C = polylog(alpha, math.exp(k / kappa))"
   ]
  },
  {
   "cell_type": "code",
   "execution_count": 36,
   "metadata": {},
   "outputs": [],
   "source": [
    "def paretovariateq(alpha):\n",
    "        \"\"\"Pareto distribution.  alpha is the shape parameter.\"\"\"\n",
    "        # Jain, pg. 495\n",
    "\n",
    "        u = 1.0 - random.random()\n",
    "        return 1.0 / u ** (1.0 / alpha)"
   ]
  },
  {
   "cell_type": "code",
   "execution_count": 125,
   "metadata": {},
   "outputs": [],
   "source": [
    "from mpmath import polylog\n",
    "def powerlawcutoff(alpha,kappa):\n",
    "    \"\"\"\n",
    "    parameter n: number of nodes to be included in the array\n",
    "    parameter k: degree of a node \n",
    "    parameter alpha: shape paramater \n",
    "    parameter kappa: cut-off exponent \n",
    "    \"\"\"\n",
    "    p=random.paretovariate(alpha)\n",
    "    a = (a*math.exp(a/kappa))/(polylog(alpha, math.exp(-1 / kappa)))       \n",
    "    return p "
   ]
  },
  {
   "cell_type": "code",
   "execution_count": 119,
   "metadata": {},
   "outputs": [],
   "source": [
    "l=powerlawcutoff(2,5)"
   ]
  },
  {
   "cell_type": "code",
   "execution_count": 132,
   "metadata": {},
   "outputs": [],
   "source": [
    "m=[]\n",
    "for i in range(6000):\n",
    "    l=powerlawcutoff(2,5)\n",
    "    m.append(l)\n",
    "        "
   ]
  },
  {
   "cell_type": "code",
   "execution_count": 136,
   "metadata": {},
   "outputs": [],
   "source": [
    "m = np.array(m)\n",
    "m = m.astype('int64')"
   ]
  },
  {
   "cell_type": "code",
   "execution_count": 137,
   "metadata": {},
   "outputs": [
    {
     "ename": "ImportError",
     "evalue": "cannot import name 'powerlaw_sequence' from 'networkx' (C:\\Users\\Acer\\anaconda3\\lib\\site-packages\\networkx\\__init__.py)",
     "output_type": "error",
     "traceback": [
      "\u001b[1;31m---------------------------------------------------------------------------\u001b[0m",
      "\u001b[1;31mImportError\u001b[0m                               Traceback (most recent call last)",
      "\u001b[1;32m<ipython-input-137-7b245c84f043>\u001b[0m in \u001b[0;36m<module>\u001b[1;34m\u001b[0m\n\u001b[1;32m----> 1\u001b[1;33m \u001b[1;32mfrom\u001b[0m \u001b[0mnetworkx\u001b[0m \u001b[1;32mimport\u001b[0m \u001b[0mpowerlaw_sequence\u001b[0m\u001b[1;33m\u001b[0m\u001b[1;33m\u001b[0m\u001b[0m\n\u001b[0m",
      "\u001b[1;31mImportError\u001b[0m: cannot import name 'powerlaw_sequence' from 'networkx' (C:\\Users\\Acer\\anaconda3\\lib\\site-packages\\networkx\\__init__.py)"
     ]
    }
   ],
   "source": [
    "from networkx import powerlaw_sequence"
   ]
  },
  {
   "cell_type": "code",
   "execution_count": 74,
   "metadata": {
    "scrolled": true
   },
   "outputs": [
    {
     "data": {
      "text/plain": [
       "DegreeView({0: 101, 1: 101, 2: 101, 3: 103, 4: 100, 5: 101, 6: 100, 7: 103, 8: 100, 9: 103, 10: 99, 11: 104, 12: 103, 13: 102, 14: 101, 15: 100, 16: 102, 17: 103, 18: 103, 19: 100, 20: 101, 21: 100, 22: 100, 23: 104, 24: 103, 25: 103, 26: 100, 27: 101, 28: 100, 29: 101, 30: 101, 31: 100, 32: 99, 33: 101, 34: 102, 35: 99, 36: 101, 37: 102, 38: 102, 39: 99, 40: 100, 41: 101, 42: 102, 43: 102, 44: 100, 45: 99, 46: 99, 47: 102, 48: 100, 49: 103, 50: 103, 51: 99, 52: 103, 53: 100, 54: 102, 55: 103, 56: 100, 57: 102, 58: 99, 59: 102, 60: 102, 61: 101, 62: 102, 63: 102, 64: 101, 65: 103, 66: 99, 67: 99, 68: 100, 69: 103, 70: 101, 71: 101, 72: 102, 73: 100, 74: 99, 75: 99, 76: 103, 77: 100, 78: 101, 79: 101, 80: 99, 81: 100, 82: 100, 83: 101, 84: 100, 85: 100, 86: 99, 87: 100, 88: 99, 89: 101, 90: 101, 91: 100, 92: 100, 93: 100, 94: 104, 95: 100, 96: 100, 97: 99, 98: 102, 99: 104, 100: 4, 101: 4, 102: 5, 103: 4, 104: 4, 105: 4, 106: 4, 107: 4, 108: 4, 109: 4, 110: 4, 111: 4, 112: 4, 113: 4, 114: 4, 115: 4, 116: 4, 117: 4, 118: 4, 119: 4, 120: 4, 121: 4, 122: 4, 123: 4, 124: 4, 125: 4, 126: 4, 127: 4, 128: 4, 129: 4, 130: 4, 131: 4, 132: 4, 133: 4, 134: 4, 135: 4, 136: 4, 137: 4, 138: 4, 139: 4, 140: 4, 141: 4, 142: 4, 143: 4, 144: 5, 145: 4, 146: 4, 147: 4, 148: 4, 149: 4})"
      ]
     },
     "execution_count": 74,
     "metadata": {},
     "output_type": "execute_result"
    }
   ],
   "source": [
    "G.degree()\n"
   ]
  },
  {
   "cell_type": "code",
   "execution_count": 61,
   "metadata": {},
   "outputs": [
    {
     "data": {
      "text/plain": [
       "DegreeView({0: 99, 1: 99, 2: 101, 3: 101, 4: 101, 5: 99, 6: 99, 7: 99, 8: 101, 9: 100, 10: 99, 11: 100, 12: 99, 13: 100, 14: 101, 15: 100, 16: 100, 17: 101, 18: 99, 19: 99, 20: 100, 21: 99, 22: 100, 23: 101, 24: 100, 25: 100, 26: 100, 27: 100, 28: 100, 29: 101, 30: 100, 31: 101, 32: 100, 33: 103, 34: 101, 35: 101, 36: 100, 37: 99, 38: 99, 39: 100, 40: 103, 41: 99, 42: 100, 43: 100, 44: 100, 45: 99, 46: 100, 47: 100, 48: 99, 49: 99, 50: 99, 51: 99, 52: 99, 53: 103, 54: 99, 55: 103, 56: 99, 57: 99, 58: 99, 59: 100, 60: 99, 61: 99, 62: 101, 63: 100, 64: 101, 65: 101, 66: 100, 67: 99, 68: 102, 69: 99, 70: 101, 71: 100, 72: 101, 73: 99, 74: 99, 75: 101, 76: 100, 77: 100, 78: 101, 79: 99, 80: 99, 81: 99, 82: 100, 83: 100, 84: 101, 85: 99, 86: 100, 87: 99, 88: 99, 89: 99, 90: 101, 91: 100, 92: 100, 93: 100, 94: 101, 95: 101, 96: 100, 97: 99, 98: 99, 99: 101, 100: 2, 101: 2, 102: 2, 103: 2, 104: 2, 105: 2, 106: 2, 107: 2, 108: 2, 109: 2, 110: 2, 111: 2, 112: 2, 113: 2, 114: 2, 115: 2, 116: 3, 117: 2, 118: 2, 119: 2, 120: 2, 121: 2, 122: 2, 123: 2, 124: 2, 125: 2, 126: 2, 127: 2, 128: 2, 129: 2, 130: 2, 131: 2, 132: 2, 133: 2, 134: 2, 135: 2, 136: 2, 137: 2, 138: 2, 139: 2, 140: 2, 141: 2, 142: 2, 143: 2, 144: 2, 145: 2, 146: 2, 147: 2, 148: 2, 149: 2})"
      ]
     },
     "execution_count": 61,
     "metadata": {},
     "output_type": "execute_result"
    }
   ],
   "source": [
    "G.degree()"
   ]
  },
  {
   "cell_type": "code",
   "execution_count": 7,
   "metadata": {},
   "outputs": [],
   "source": [
    "alpha =2 #exponent paramter for scale-free \n",
    "kappa = 10 #cut-off parameter \n",
    "C = polylog(alpha, math.exp(-1.0 / kappa))"
   ]
  },
  {
   "cell_type": "code",
   "execution_count": 8,
   "metadata": {},
   "outputs": [
    {
     "data": {
      "text/plain": [
       "mpf('1.312189445743345')"
      ]
     },
     "execution_count": 8,
     "metadata": {},
     "output_type": "execute_result"
    }
   ],
   "source": [
    "C"
   ]
  },
  {
   "cell_type": "code",
   "execution_count": null,
   "metadata": {},
   "outputs": [],
   "source": []
  },
  {
   "cell_type": "code",
   "execution_count": 7,
   "metadata": {},
   "outputs": [],
   "source": [
    "import epydemic"
   ]
  },
  {
   "cell_type": "code",
   "execution_count": 82,
   "metadata": {},
   "outputs": [],
   "source": [
    "def CutoffPowerLaw(n,alpha, kappa):\n",
    "        '''Create a model function for a powerlaw distribution with exponential cutoff.\n",
    "\n",
    "        :param alpha: the exponent of the distribution\n",
    "        :param kappa: the degree cutoff\n",
    "        :returns: a model function'''\n",
    "        C = polylog(alpha, math.exp(-1.0 / kappa))\n",
    "        return [(pow((k + 0.0), -alpha) * math.exp(-(k + 0.0) / kappa)) / C for ]\n",
    "\n",
    "\n",
    "def gennet(N, p, maxdeg = 100 ):\n",
    "        '''Generate a random graph with degree distribution described\n",
    "        by a model function.\n",
    "\n",
    "        :param N: number of numbers to generate\n",
    "        :param p: model function\n",
    "        :param maxdeg: maximum node degree we'll consider (defaults to 100)\n",
    "        :returns: a network with the given degree distribution'''\n",
    "        rng = numpy.random.default_rng()\n",
    "        ns = []\n",
    "        t = 0\n",
    "        for i in range(N):\n",
    "            while True:\n",
    "                # draw a random degree\n",
    "                k = rng.integers(1, maxdeg)\n",
    "\n",
    "                # do we include a node with this degree?\n",
    "                if rng.random() < p(k):\n",
    "                    # yes, add it to the sequence; otherwise,\n",
    "                    # draw again\n",
    "                    ns.append(k)\n",
    "                    t += k\n",
    "                    break\n",
    "\n",
    "        # the final sequence of degrees has to sum to an even\n",
    "        # number, as each edge has two endpoints\n",
    "        # if the sequence is odd, remove an element and draw\n",
    "        # another from the distribution, repeating until the\n",
    "        # overall sequence is even\n",
    "        while t % 2 != 0:\n",
    "            # pick a node at random\n",
    "            i = rng.integers(0, len(ns) - 1)\n",
    "\n",
    "            # remove it from the sequence and from the total\n",
    "            t -= ns[i]\n",
    "            del ns[i]\n",
    "\n",
    "            # choose a new node to replace the one we removed\n",
    "            while True:\n",
    "                # draw a new degree from the distribution\n",
    "                k = rng.integers(1, maxdeg)\n",
    "\n",
    "                # do we include a node with this degree?\n",
    "                if rng.random() < p(k):\n",
    "                    # yes, add it to the sequence; otherwise,\n",
    "                    # draw again\n",
    "                    ns.append(k)\n",
    "                    t += k\n",
    "                    break\n",
    "\n",
    "        # populate the network using the configuration\n",
    "        # model with the given degree distribution\n",
    "        g = nx.configuration_model(ns,\n",
    "                                         create_using=nx.Graph())\n",
    "        return g"
   ]
  },
  {
   "cell_type": "code",
   "execution_count": 94,
   "metadata": {},
   "outputs": [],
   "source": [
    "p=CutoffPowerLaw(14,10)"
   ]
  },
  {
   "cell_type": "code",
   "execution_count": null,
   "metadata": {},
   "outputs": [],
   "source": [
    "g = gennet(100000, p,100)"
   ]
  },
  {
   "cell_type": "code",
   "execution_count": null,
   "metadata": {},
   "outputs": [],
   "source": [
    "nx.draw(g)"
   ]
  },
  {
   "cell_type": "code",
   "execution_count": 92,
   "metadata": {},
   "outputs": [
    {
     "data": {
      "text/plain": [
       "DegreeView({0: 1, 1: 1, 2: 2, 3: 1, 4: 4, 5: 1, 6: 1, 7: 1, 8: 3, 9: 1, 10: 1, 11: 1, 12: 3, 13: 2, 14: 1, 15: 5, 16: 1, 17: 3, 18: 1, 19: 4, 20: 1, 21: 4, 22: 1, 23: 1, 24: 1, 25: 1, 26: 3, 27: 1, 28: 1, 29: 5, 30: 2, 31: 2, 32: 1, 33: 2, 34: 1, 35: 3, 36: 2, 37: 1, 38: 2, 39: 1, 40: 1, 41: 1, 42: 2, 43: 1, 44: 3, 45: 2, 46: 1, 47: 2, 48: 1, 49: 4, 50: 2, 51: 5, 52: 2, 53: 4, 54: 1, 55: 4, 56: 1, 57: 1, 58: 1, 59: 1, 60: 1, 61: 1, 62: 1, 63: 1, 64: 2, 65: 8, 66: 1, 67: 4, 68: 2, 69: 1, 70: 1, 71: 1, 72: 1, 73: 1, 74: 2, 75: 1, 76: 1, 77: 3, 78: 1, 79: 1, 80: 1, 81: 1, 82: 3, 83: 1, 84: 3, 85: 3, 86: 1, 87: 3, 88: 1, 89: 1, 90: 1, 91: 1, 92: 1, 93: 3, 94: 1, 95: 1, 96: 1, 97: 1, 98: 1, 99: 2})"
      ]
     },
     "execution_count": 92,
     "metadata": {},
     "output_type": "execute_result"
    }
   ],
   "source": [
    "g.degree()"
   ]
  },
  {
   "cell_type": "code",
   "execution_count": 133,
   "metadata": {},
   "outputs": [],
   "source": [
    "z=[]\n",
    "for i in range(2,10): \n",
    "    z.append(p(i)*100)"
   ]
  },
  {
   "cell_type": "code",
   "execution_count": 134,
   "metadata": {
    "scrolled": true
   },
   "outputs": [
    {
     "data": {
      "text/plain": [
       "[mpf('15.598562306187757'),\n",
       " mpf('6.2729612632017648'),\n",
       " mpf('3.1927556659697314'),\n",
       " mpf('1.8489118676580687'),\n",
       " mpf('1.1617810003526186'),\n",
       " mpf('0.7723270437665859'),\n",
       " mpf('0.53504203124834449'),\n",
       " mpf('0.38251934822357903')]"
      ]
     },
     "execution_count": 134,
     "metadata": {},
     "output_type": "execute_result"
    }
   ],
   "source": [
    "z"
   ]
  },
  {
   "cell_type": "code",
   "execution_count": 123,
   "metadata": {},
   "outputs": [],
   "source": [
    "z=np.random.pareto(5,10)*100 \n",
    "z=np.array(z)\n",
    "z=z.astype(int)"
   ]
  },
  {
   "cell_type": "code",
   "execution_count": 124,
   "metadata": {},
   "outputs": [],
   "source": [
    "graph = nx.configuration_model(z)"
   ]
  },
  {
   "cell_type": "code",
   "execution_count": 125,
   "metadata": {},
   "outputs": [],
   "source": [
    "g = nx.configuration_model(z,create_using=nx.Graph())"
   ]
  },
  {
   "cell_type": "code",
   "execution_count": 19,
   "metadata": {},
   "outputs": [],
   "source": [
    "h = PowerLawWithCutoffNetwork(g)"
   ]
  },
  {
   "cell_type": "code",
   "execution_count": 30,
   "metadata": {},
   "outputs": [],
   "source": [
    "import randht"
   ]
  },
  {
   "cell_type": "code",
   "execution_count": 183,
   "metadata": {},
   "outputs": [],
   "source": [
    "a=np.array(powerlaw_sequence(1000,2))"
   ]
  },
  {
   "cell_type": "code",
   "execution_count": 184,
   "metadata": {},
   "outputs": [],
   "source": [
    "ml=[]\n",
    "for i in a: \n",
    "    p = i*int(C)*math.e**(1/5)\n",
    "    ml.append(i)"
   ]
  },
  {
   "cell_type": "code",
   "execution_count": 191,
   "metadata": {},
   "outputs": [],
   "source": [
    "C = polylog(2, math.e**(-1.0 / 5))"
   ]
  },
  {
   "cell_type": "code",
   "execution_count": 178,
   "metadata": {},
   "outputs": [],
   "source": [
    "m=[]\n",
    "for i in range(1,20):\n",
    "    C = polylog(i, math.e**(-1.0 /20))\n",
    "    m.append(float(C))"
   ]
  },
  {
   "cell_type": "code",
   "execution_count": 188,
   "metadata": {},
   "outputs": [
    {
     "data": {
      "text/plain": [
       "array([2.49805996e+00, 5.69792395e+00, 1.84380144e+00, 1.20144097e+00,\n",
       "       5.46675722e+00, 1.06221772e+00, 2.97652384e+00, 2.40774111e+00,\n",
       "       1.94483370e+00, 1.23774581e+00, 3.00009322e+00, 2.41315749e+00,\n",
       "       1.10012608e+01, 1.72894782e+00, 1.25579764e+00, 4.60297462e+00,\n",
       "       8.13672788e+00, 7.55759691e+00, 1.08251117e+00, 6.89016721e+00,\n",
       "       3.91219312e+00, 1.06887832e+00, 3.03024186e+00, 1.39169466e+00,\n",
       "       6.92345045e+00, 1.12939029e+00, 1.30753630e+00, 7.52198756e+00,\n",
       "       1.64723905e+00, 3.64578654e+00, 1.95005404e+00, 6.10666513e+00,\n",
       "       1.12270503e+00, 1.22529711e+00, 1.37333410e+00, 8.26288238e+00,\n",
       "       1.48264036e+00, 1.36066872e+00, 1.31204822e+00, 1.12884130e+00,\n",
       "       1.51536149e+00, 1.00983866e+00, 2.43658651e+00, 6.06183513e+00,\n",
       "       1.08856033e+01, 3.21484608e+00, 3.91761969e+00, 1.32446410e+00,\n",
       "       2.07341675e+00, 1.39116239e+00, 1.48871460e+00, 7.88678543e+01,\n",
       "       5.65267547e+00, 5.84544040e+00, 1.63701915e+00, 5.91699485e+00,\n",
       "       1.06705452e+00, 2.17719282e+00, 6.67061801e+00, 1.05413806e+00,\n",
       "       1.05124154e+00, 1.20108553e+00, 1.10473958e+01, 1.77393508e+00,\n",
       "       1.88987470e+00, 3.91969853e+00, 3.85052905e+00, 1.27420605e+00,\n",
       "       2.51970388e+01, 9.14722065e+00, 2.21807229e+00, 8.86583128e+00,\n",
       "       7.64282401e+01, 2.00274392e+00, 9.85962660e+02, 3.34377211e+00,\n",
       "       3.50363928e+00, 7.87442162e+00, 1.87568572e+00, 1.17843597e+01,\n",
       "       1.27235462e+00, 2.17721456e+00, 1.06434580e+00, 1.15474217e+00,\n",
       "       1.78510066e+00, 5.36675686e+00, 1.20377848e+00, 1.86176952e+00,\n",
       "       6.82048247e+00, 1.04712731e+00, 2.07564610e+00, 2.08831289e+00,\n",
       "       2.96535449e+00, 4.79084817e+00, 1.37063417e+00, 8.45406626e+00,\n",
       "       2.34485529e+00, 2.92849305e+00, 2.33756895e+00, 3.29606919e+00,\n",
       "       1.74115240e+00, 1.06714658e+01, 1.68566279e+01, 1.03144764e+00,\n",
       "       1.37249527e+00, 1.59232002e+00, 1.28124959e+00, 7.10071434e+00,\n",
       "       8.71167230e+00, 1.82590772e+00, 2.27332669e+00, 1.32074457e+00,\n",
       "       1.06463344e+00, 1.95626305e+01, 1.37244309e+00, 4.62714677e+00,\n",
       "       2.47570281e+00, 1.56633498e+00, 2.55978401e+00, 1.70357785e+00,\n",
       "       2.21106493e+01, 3.13850507e+00, 1.49543434e+00, 1.39095672e+00,\n",
       "       4.35396170e+00, 3.91346467e+00, 2.54395657e+02, 1.53734925e+00,\n",
       "       1.19233345e+00, 1.08185103e+00, 1.14485680e+00, 4.55266424e+00,\n",
       "       1.41016490e+00, 2.86780159e+00, 2.64671608e+00, 1.68955588e+00,\n",
       "       4.35411318e+00, 1.18492425e+00, 1.06404567e+01, 1.87122717e+00,\n",
       "       1.53387348e+00, 2.00720662e+00, 1.89685880e+00, 1.11990621e+00,\n",
       "       2.80027622e+00, 2.41407227e+00, 2.69712524e+00, 1.54484022e+03,\n",
       "       2.98281781e+00, 2.13276224e+00, 1.99574828e+00, 1.28295099e+00,\n",
       "       1.09096856e+00, 2.95274699e+00, 1.64211786e+00, 2.39251158e+00,\n",
       "       1.45437627e+01, 3.13542648e+00, 2.60771730e+00, 1.10563339e+00,\n",
       "       1.43280269e+00, 5.37801990e+00, 1.50494300e+00, 1.42938711e+00,\n",
       "       2.32839497e+00, 1.11142395e+00, 1.11495621e+00, 2.56531864e+00,\n",
       "       1.58216282e+00, 2.66308633e+00, 1.50010347e+00, 5.69721358e+00,\n",
       "       2.44195279e+00, 1.54507664e+00, 1.85649066e+00, 1.54630945e+00,\n",
       "       6.31978134e+00, 2.11042583e+00, 2.55143280e+00, 3.01081844e+00,\n",
       "       1.91109686e+00, 4.12175162e+00, 1.03207770e+00, 1.08847080e+00,\n",
       "       1.34761027e+00, 2.15360343e+00, 1.58182108e+00, 2.36267511e+00,\n",
       "       1.30111021e+00, 5.42202931e+00, 5.48143188e+00, 1.72164645e+00,\n",
       "       1.12753917e+00, 5.09126707e+00, 6.94895958e+01, 1.52205706e+00,\n",
       "       1.83301289e+01, 4.51117471e+00, 1.82805367e+00, 1.14649207e+00,\n",
       "       2.62542115e+01, 1.43574851e+00, 2.28420189e+00, 8.81959968e+00,\n",
       "       1.36160965e+01, 4.27290997e+00, 2.34535917e+00, 2.49959793e+00,\n",
       "       3.03552149e+00, 1.24065608e+00, 4.75821947e+00, 3.75117193e+00,\n",
       "       2.49636496e+00, 1.11656446e+01, 1.20957991e+00, 4.50080373e+00,\n",
       "       2.93593111e+00, 1.28790439e+00, 2.94479170e+00, 8.76565088e+00,\n",
       "       1.30466675e+00, 3.12358117e+00, 1.03590656e+00, 1.43573709e+00,\n",
       "       1.19663805e+00, 5.22806492e+00, 4.77347888e+00, 5.42639559e+00,\n",
       "       2.69768822e+01, 3.01418879e+00, 1.38457888e+00, 2.19444071e+00,\n",
       "       2.27242853e+00, 4.47920301e+00, 1.25709205e+00, 4.65978230e+00,\n",
       "       1.63657953e+00, 1.34723726e+00, 1.17237479e+00, 1.45302097e+00,\n",
       "       6.76895094e+00, 4.35536298e+00, 2.10418916e+00, 4.63088702e+00,\n",
       "       2.86406574e+00, 1.14321154e+00, 6.61332844e+00, 1.11268756e+00,\n",
       "       5.68288692e+00, 1.64628546e+00, 1.94850737e+00, 1.24819214e+00,\n",
       "       1.56077835e+00, 1.07390743e+00, 1.05895901e+00, 5.74024698e+00,\n",
       "       7.08619006e+00, 2.19070108e+00, 1.36739698e+00, 1.36524812e+00,\n",
       "       1.61657871e+00, 1.95984123e+00, 2.79773744e+00, 1.64683027e+00,\n",
       "       3.11021873e+00, 3.87904229e+00, 1.98071804e+00, 1.30981666e+00,\n",
       "       1.72319475e+00, 4.37200718e+01, 6.04354941e+00, 3.43509422e+01,\n",
       "       3.79806191e+00, 1.35684819e+00, 1.83350217e+00, 2.12009553e+00,\n",
       "       2.36616844e+00, 3.43630211e+00, 1.61378468e+00, 1.39199164e+00,\n",
       "       1.65911280e+00, 1.29562438e+00, 1.89238510e+00, 3.41427098e+00,\n",
       "       3.05207800e+00, 1.05040956e+00, 1.13931450e+00, 6.70667952e+01,\n",
       "       1.15844697e+00, 3.48250763e+00, 2.09011543e+00, 1.09103003e+01,\n",
       "       1.86075527e+00, 1.44031902e+00, 1.45186626e+00, 1.25151696e+00,\n",
       "       3.00892784e+00, 3.54231721e+00, 2.09133084e+01, 1.00958164e+00,\n",
       "       1.32322014e+00, 7.60706550e+00, 1.84210147e+00, 1.81622832e+00,\n",
       "       1.51996464e+01, 3.15317925e+00, 1.24893119e+00, 3.50780885e+00,\n",
       "       2.06268975e+00, 1.50482783e+00, 1.50847434e+01, 1.06706187e+00,\n",
       "       1.66343942e+00, 1.46792071e+00, 2.25236601e+00, 1.85956901e+00,\n",
       "       1.61710972e+00, 1.06136443e+00, 2.55271854e+00, 3.31020651e+02,\n",
       "       1.02794685e+00, 1.25921423e+00, 1.40523947e+00, 3.64711462e+00,\n",
       "       2.61946403e+00, 3.02010632e+00, 1.08560906e+00, 2.09880960e+00,\n",
       "       1.32106286e+01, 1.52512891e+00, 1.48712672e+00, 1.08983426e+00,\n",
       "       1.48196525e+00, 3.92541111e+00, 3.66858542e+00, 1.52437439e+00,\n",
       "       4.32078069e+00, 1.99570815e+01, 3.89967568e+00, 1.84458414e+00,\n",
       "       8.39446643e+01, 1.09441845e+00, 5.85867691e+00, 1.10487071e+00,\n",
       "       5.56079480e+00, 1.36195608e+00, 2.08806255e+00, 1.29048106e+00,\n",
       "       3.81850359e+00, 2.59312076e+00, 1.41851669e+00, 1.07843268e+00,\n",
       "       1.17196250e+00, 5.52963535e+00, 1.19053048e+00, 3.76199002e+00,\n",
       "       1.04170734e+00, 2.91813666e+00, 2.97793366e+00, 1.64106491e+00,\n",
       "       1.05124786e+00, 7.38203933e+01, 1.14920323e+00, 2.36750177e+00,\n",
       "       2.27456675e+00, 1.31354276e+00, 1.74409142e+00, 1.23339363e+00,\n",
       "       3.59295316e+00, 1.51208953e+00, 1.16510340e+00, 1.86483097e+00,\n",
       "       1.29059346e+00, 1.83989171e+00, 1.29628126e+00, 1.45970868e+00,\n",
       "       2.52509571e+00, 5.14536792e+00, 1.28181056e+00, 1.13905198e+00,\n",
       "       1.03921306e+01, 1.65207201e+00, 1.52517350e+00, 2.47492288e+00,\n",
       "       2.34897189e+00, 3.37901599e+00, 1.22898481e+00, 4.40208774e+00,\n",
       "       3.53745780e+00, 1.11820824e+00, 7.90034385e+00, 6.39670890e+00,\n",
       "       6.69326317e+00, 6.57229392e+00, 3.62213097e+00, 1.97717879e+00,\n",
       "       2.22562788e+00, 4.95186781e+00, 2.79748084e+01, 8.64921458e+00,\n",
       "       1.46056610e+00, 1.49689360e+00, 2.00961549e+00, 5.51541292e+00,\n",
       "       3.98356467e+00, 1.56468502e+00, 1.18530711e+01, 5.54610359e+00,\n",
       "       1.01821330e+00, 1.48920634e+00, 1.41158317e+01, 1.28478748e+00,\n",
       "       2.30877128e+00, 1.02605537e+00, 2.82109744e+00, 1.78226130e+00,\n",
       "       1.94128435e+00, 1.24336070e+00, 1.07674049e+00, 1.19441588e+00,\n",
       "       8.40707081e+00, 1.20695042e+00, 2.42925755e+01, 2.07222517e+00,\n",
       "       1.31394723e+00, 1.20682548e+00, 2.36561301e+00, 2.21331981e+00,\n",
       "       1.17978859e+00, 1.00310575e+00, 5.33060868e+00, 1.23462043e+00,\n",
       "       1.61916112e+00, 1.24646232e+00, 7.82283091e+00, 1.93853002e+00,\n",
       "       1.11504597e+00, 1.06178413e+00, 3.58059442e+00, 1.99524363e+00,\n",
       "       2.80303113e+00, 1.18364018e+00, 1.96868874e+00, 2.11101993e+00,\n",
       "       1.56853919e+00, 2.37593193e+00, 3.31560672e+00, 1.32500409e+00,\n",
       "       1.96536143e+00, 1.30281333e+00, 1.33932295e+00, 1.46653932e+01,\n",
       "       1.16452323e+00, 2.20610060e+00, 1.91071216e+00, 1.10809723e+00,\n",
       "       1.37277943e+00, 4.06190873e+00, 3.08595471e+00, 1.82202111e+00,\n",
       "       1.65698583e+00, 2.52432626e+00, 1.40132443e+00, 2.42549626e+00,\n",
       "       1.77608239e+00, 1.02173629e+00, 4.95132092e+01, 3.55140853e+00,\n",
       "       1.30955217e+01, 1.75906713e+00, 3.37587537e+00, 1.15075234e+00,\n",
       "       4.16148143e+00, 6.33257555e+00, 4.15442527e+00, 2.33774672e+00,\n",
       "       1.17639542e+00, 1.24783135e+00, 1.74036598e+00, 1.06322428e+00,\n",
       "       1.59111768e+00, 1.43836077e+01, 3.23538413e+00, 1.47843973e+00,\n",
       "       2.00699640e+00, 1.01284843e+01, 1.51936463e+00, 6.53532952e+00,\n",
       "       1.07026888e+00, 7.97576555e+02, 2.94545346e+00, 2.16903621e+00,\n",
       "       2.78113506e+00, 1.35548477e+00, 1.68423760e+00, 1.60612137e+00,\n",
       "       1.35921088e+00, 2.47334116e+00, 1.27368475e+00, 5.50692999e+00,\n",
       "       1.96436678e+00, 4.80695671e+00, 2.82195526e+00, 1.93529319e+00,\n",
       "       1.33638986e+00, 1.03846011e+00, 1.03977643e+00, 1.77111146e+00,\n",
       "       2.43562161e+00, 4.68864519e+00, 1.18458628e+00, 2.54700887e+00,\n",
       "       4.69501784e+00, 1.72314634e+00, 1.37844480e+00, 3.89016008e+00,\n",
       "       1.21344951e+00, 1.67556772e+00, 3.25270721e+00, 1.18169009e+00,\n",
       "       3.61817335e+00, 1.09868908e+00, 1.18350634e+00, 1.79599028e+00,\n",
       "       4.76346420e+00, 2.27903538e+00, 2.06596875e+01, 1.11480272e+00,\n",
       "       1.60455258e+00, 1.56323875e+00, 1.30185005e+00, 1.59199614e+00,\n",
       "       3.93979235e+00, 5.28933985e+00, 1.79621097e+00, 1.05262983e+00,\n",
       "       2.31513334e+00, 1.23681389e+01, 4.91450228e+00, 3.85425151e+01,\n",
       "       1.49402558e+00, 2.17745945e+00, 3.30313519e+00, 2.40460392e+00,\n",
       "       1.54229200e+00, 1.13847464e+00, 4.15474015e+00, 3.50639246e+00,\n",
       "       1.21432533e+00, 2.04357905e+00, 1.61046366e+00, 2.68203108e+00,\n",
       "       1.01013744e+00, 1.70960615e+00, 3.60783448e+00, 1.75767788e+00,\n",
       "       2.40535237e+00, 1.58624942e+00, 4.16323453e+00, 1.08135156e+00,\n",
       "       2.99316043e+01, 4.02335009e+00, 1.66183784e+00, 4.67466162e+00,\n",
       "       1.04101109e+00, 2.51541944e+00, 1.59602871e+00, 2.47808827e+00,\n",
       "       1.89598595e+00, 4.83808221e+00, 1.86510406e+02, 2.09163976e+00,\n",
       "       1.06886703e+00, 7.16339840e+01, 1.37985637e+00, 1.55213029e+00,\n",
       "       2.29568596e+00, 1.32503565e+00, 1.22609152e+00, 8.06647785e+02,\n",
       "       2.15702262e+00, 4.07676816e+00, 1.08391302e+00, 1.01692457e+00,\n",
       "       1.91960450e+00, 2.03622354e+00, 8.89874933e+00, 2.30077806e+00,\n",
       "       2.06974906e+00, 1.53397050e+00, 8.43673800e+00, 1.01078873e+00,\n",
       "       8.01890884e+00, 1.21182476e+00, 2.16441519e+00, 1.62518046e+00,\n",
       "       3.69296149e+00, 1.97312372e+00, 4.46629955e+01, 1.50888217e+00,\n",
       "       5.92156685e+00, 8.94129903e+00, 1.25502054e+01, 3.18080568e+00,\n",
       "       1.22622047e+00, 5.68385963e+00, 2.79972746e+00, 2.32899897e+01,\n",
       "       3.92603918e+00, 1.05052736e+00, 1.01547802e+00, 1.18984880e+00,\n",
       "       1.02726866e+01, 1.38603742e+00, 3.55859260e+00, 1.09518003e+00,\n",
       "       1.64136922e+00, 2.66272485e+00, 1.83233525e+00, 3.33428013e+00,\n",
       "       1.03986998e+00, 1.38537271e+00, 7.98915810e+00, 1.38776472e+00,\n",
       "       1.39726817e+00, 4.63342035e+00, 2.00722369e+01, 2.97430531e+00,\n",
       "       1.82025563e+00, 1.57131378e+00, 5.86803385e+00, 1.76106588e+00,\n",
       "       2.40209973e+00, 4.47287717e+00, 1.12491789e+00, 3.06440643e+00,\n",
       "       2.54337566e+00, 2.09317119e+00, 1.53484061e+00, 1.95128557e+01,\n",
       "       1.08590747e+00, 2.94558489e+00, 1.05155719e+00, 6.12147782e+00,\n",
       "       1.64612300e+01, 9.02637683e+00, 4.03732493e+01, 1.19470099e+01,\n",
       "       1.32242932e+00, 2.11241081e+00, 3.45099821e+00, 1.27833005e+01,\n",
       "       1.18281133e+00, 1.28194455e+00, 1.25682163e+00, 1.79407618e+00,\n",
       "       1.78634152e+00, 1.35553755e+00, 1.20079235e+00, 1.06152368e+00,\n",
       "       1.12493542e+00, 1.22179090e+00, 1.78907330e+00, 1.74157531e+00,\n",
       "       2.22240480e+00, 3.28541376e+00, 1.13812089e+00, 2.09783197e+00,\n",
       "       1.02205104e+00, 1.15370236e+00, 8.47969007e+00, 4.76334424e+00,\n",
       "       3.95783538e+00, 1.15788298e+00, 2.14352010e+00, 2.81726857e+00,\n",
       "       1.00430170e+00, 1.15727211e+00, 1.03921977e+00, 1.47029817e+00,\n",
       "       1.62799932e+01, 1.13286457e+00, 2.09408402e+00, 4.40548313e+00,\n",
       "       1.84210737e+00, 1.58953793e+00, 1.08701494e+01, 1.52883293e+00,\n",
       "       5.81814943e+00, 2.10232833e+00, 1.32813681e+00, 1.21489660e+00,\n",
       "       2.04005206e+00, 1.81630269e+00, 2.03510441e+00, 6.57324960e+00,\n",
       "       1.20370477e+00, 1.20901510e+00, 1.54820789e+00, 1.69749673e+00,\n",
       "       1.62746795e+00, 7.03802845e+00, 3.51475830e+00, 6.84433332e+01,\n",
       "       1.29494135e+00, 2.99526968e+00, 1.25711926e+00, 1.00625022e+00,\n",
       "       1.48658950e+00, 3.26321623e+00, 2.57848437e+00, 1.39648790e+00,\n",
       "       1.24496291e+00, 2.50317082e+00, 2.05457896e+00, 1.20554334e+00,\n",
       "       1.32058638e+00, 1.19737235e+00, 1.08850516e+00, 1.91589237e+00,\n",
       "       1.49376485e+00, 1.11687858e+00, 2.67183819e+00, 3.73260375e+00,\n",
       "       6.55093535e+00, 1.16624510e+00, 2.35225730e+00, 1.13153734e+00,\n",
       "       2.83728838e+00, 1.03512221e+00, 1.10071144e+00, 1.13187675e+00,\n",
       "       2.62012518e+00, 2.09385959e+00, 4.46016866e+00, 1.69348225e+01,\n",
       "       4.85092541e+00, 1.30823137e+00, 1.11789733e+00, 2.85809413e+01,\n",
       "       1.30047962e+00, 2.15508284e+00, 1.27090512e+00, 2.68553655e+00,\n",
       "       2.51537843e+00, 1.08365352e+00, 1.46445019e+01, 3.01059416e+00,\n",
       "       5.44996598e+00, 1.15474718e+01, 1.92910069e+00, 4.88614116e+00,\n",
       "       2.37470273e+00, 1.14618321e+00, 1.03009766e+01, 1.10428355e+00,\n",
       "       1.89497633e+00, 1.91394524e+00, 1.39456122e+00, 1.38529449e+00,\n",
       "       1.68400501e+00, 1.28692977e+00, 1.09701691e+00, 7.90021203e+00,\n",
       "       1.43281361e+01, 1.43689164e+00, 1.08666389e+00, 5.92864125e+00,\n",
       "       1.56140530e+00, 3.98960525e+01, 2.71442313e+00, 1.24602226e+00,\n",
       "       1.05575504e+00, 7.37700162e+00, 1.83858912e+00, 1.29562732e+00,\n",
       "       1.44392737e+00, 1.91274906e+00, 4.81393309e+00, 4.18840198e+00,\n",
       "       1.49708828e+00, 8.11323582e+00, 1.25356945e+00, 1.45174791e+00,\n",
       "       9.85177216e+00, 1.51866965e+00, 4.86344452e+00, 4.43901272e+00,\n",
       "       1.72410743e+00, 2.19109059e+00, 1.81131115e+00, 1.03131999e+00,\n",
       "       1.48639070e+00, 8.94933679e+00, 1.05718826e+01, 1.98064551e+00,\n",
       "       1.67211346e+00, 2.08782405e+00, 1.30397613e+00, 2.12412470e+00,\n",
       "       2.13397641e+00, 2.56697490e+00, 1.18741232e+00, 1.32447037e+00,\n",
       "       3.25874337e+00, 2.64564815e+00, 1.12556990e+00, 1.09536987e+00,\n",
       "       2.48605219e+00, 2.93021859e+00, 1.56760643e+00, 2.53754512e+00,\n",
       "       2.06692262e+00, 1.27189792e+00, 1.11215723e+00, 1.23801843e+00,\n",
       "       1.47553053e+00, 1.13916389e+00, 1.10944999e+00, 4.86043885e+00,\n",
       "       1.21665220e+00, 8.62735543e+01, 1.00056924e+00, 2.16431475e+00,\n",
       "       4.98564856e+00, 4.25667036e+00, 1.23074718e+00, 2.42838709e+01,\n",
       "       1.20270015e+00, 1.20605623e+00, 1.17270084e+00, 1.06291512e+00,\n",
       "       1.22474867e+00, 2.20034837e+00, 1.37424197e+00, 1.46267728e+00,\n",
       "       2.37885182e+01, 1.33256461e+00, 2.83350060e+00, 3.38034718e+00,\n",
       "       1.83834591e+00, 1.36664495e+00, 4.04938574e+00, 1.31489132e+00,\n",
       "       2.10416367e+00, 3.48978398e+00, 1.91068762e+00, 1.01017163e+00,\n",
       "       3.74626636e+00, 4.91929002e+00, 1.54767675e+01, 3.65517082e+00,\n",
       "       1.46281587e+00, 1.66601935e+00, 1.35326171e+00, 2.12207272e+00,\n",
       "       1.22337964e+00, 1.61649312e+01, 2.64991606e+00, 1.40300893e+00,\n",
       "       2.19269741e+00, 1.02122716e+01, 5.60218820e+00, 3.45428904e+00,\n",
       "       1.41955353e+00, 1.05292586e+00, 1.02420066e+00, 1.54705774e+00,\n",
       "       2.66831668e+02, 1.59548141e+00, 1.40465561e+00, 1.51200742e+00,\n",
       "       1.23578337e+00, 1.95727862e+01, 7.34459283e+00, 1.40280023e+00,\n",
       "       1.51074369e+00, 1.01981364e+00, 1.63058294e+00, 2.55158797e+00,\n",
       "       1.38389318e+01, 1.37457607e+00, 1.07140928e+00, 6.81531821e+00,\n",
       "       5.47215626e+00, 1.40167942e+00, 1.48723796e+00, 2.66217021e+00,\n",
       "       8.24826211e+00, 1.07553187e+00, 5.75427093e+00, 1.30748056e+00,\n",
       "       1.00406520e+00, 8.75701928e+00, 4.67259388e+00, 8.64570633e+01,\n",
       "       1.16398041e+00, 1.57692958e+00, 3.14722776e+00, 1.42782072e+00,\n",
       "       3.32976160e+00, 1.09451336e+00, 1.34495461e+01, 1.87443769e+00,\n",
       "       2.64672262e+01, 3.23680231e+00, 1.16552143e+01, 4.05304474e+00,\n",
       "       1.76448288e+00, 3.46042982e+00, 1.49989194e+00, 1.07207510e+00,\n",
       "       1.14916753e+00, 1.19482369e+00, 2.49351492e+00, 1.12443366e+00,\n",
       "       1.78370129e+00, 6.91246878e+00, 2.37393550e+00, 2.00362303e+00,\n",
       "       1.10026499e+00, 1.59989561e+00, 1.06356770e+00, 2.22424767e+00,\n",
       "       1.61361295e+00, 5.88874599e+00, 2.11496820e+00, 1.91380132e+00,\n",
       "       1.63617554e+00, 1.15565723e+00, 9.71106952e+00, 1.24935057e+00,\n",
       "       3.22875177e+00, 1.82375091e+00, 3.82440995e+00, 2.48674377e+00,\n",
       "       2.22284070e+00, 2.14860156e+00, 1.23524309e+00, 1.02160244e+00,\n",
       "       1.42693426e+00, 2.41413283e+01, 1.89754676e+00, 1.31466996e+00,\n",
       "       2.29470076e+00, 1.29794625e+00, 1.14272446e+00, 1.16281393e+00,\n",
       "       2.70263846e+00, 1.35214743e+00, 2.15819702e+00, 1.09346224e+00,\n",
       "       1.13969021e+00, 1.49935345e+00, 3.52495135e+00, 1.13064996e+00,\n",
       "       1.45483756e+00, 1.23970109e+00, 2.86905430e+00, 1.20431528e+00,\n",
       "       2.61754771e+00, 2.84920036e+00, 3.56343863e+00, 3.65288030e+00,\n",
       "       5.97680385e+00, 1.87378874e+00, 1.66918442e+00, 9.70128839e+00,\n",
       "       4.58972016e+00, 1.38563995e+00, 2.13368336e+00, 1.66495489e+00,\n",
       "       2.09894983e+00, 1.35789584e+00, 1.07420946e+00, 1.19908750e+00,\n",
       "       2.52379156e+00, 8.34010416e+00, 1.58297272e+00, 2.28167568e+00,\n",
       "       2.76381920e+00, 8.44700490e+00, 1.42610155e+00, 3.09861953e+00,\n",
       "       2.40041771e+00, 1.50198159e+00, 8.46115620e+00, 1.17361862e+00,\n",
       "       2.92190718e+00, 1.18008749e+00, 1.77492340e+00, 2.07737484e+00,\n",
       "       5.92104733e+00, 3.44603031e+00, 4.64930879e+00, 2.25568733e+01,\n",
       "       2.19856410e+00, 5.57237690e+00, 1.62074527e+00, 2.13387931e+00])"
      ]
     },
     "execution_count": 188,
     "metadata": {},
     "output_type": "execute_result"
    }
   ],
   "source": [
    "ml=np.array(ml)\n",
    "ml"
   ]
  },
  {
   "cell_type": "code",
   "execution_count": 190,
   "metadata": {},
   "outputs": [
    {
     "data": {
      "text/plain": [
       "(array([992.,   3.,   1.,   0.,   0.,   2.,   1.,   0.,   0.,   1.]),\n",
       " array([1.00056924e+00, 1.55384535e+02, 3.09768500e+02, 4.64152465e+02,\n",
       "        6.18536431e+02, 7.72920396e+02, 9.27304361e+02, 1.08168833e+03,\n",
       "        1.23607229e+03, 1.39045626e+03, 1.54484022e+03]),\n",
       " <a list of 10 Patch objects>)"
      ]
     },
     "execution_count": 190,
     "metadata": {},
     "output_type": "execute_result"
    },
    {
     "data": {
      "image/png": "[encoded data removed]",
      "text/plain": [
       "<Figure size 432x288 with 1 Axes>"
      ]
     },
     "metadata": {
      "needs_background": "light"
     },
     "output_type": "display_data"
    }
   ],
   "source": [
    "plt.hist(ml)"
   ]
  },
  {
   "cell_type": "code",
   "execution_count": 193,
   "metadata": {},
   "outputs": [],
   "source": [
    "C=float(C)"
   ]
  },
  {
   "cell_type": "code",
   "execution_count": 217,
   "metadata": {},
   "outputs": [],
   "source": [
    "cl=[]\n",
    "for i in range(1,100): \n",
    "    ma = ((i**-2)*math.exp(-i/5))/C\n",
    "    cl.append(ma)\n"
   ]
  },
  {
   "cell_type": "code",
   "execution_count": 251,
   "metadata": {},
   "outputs": [
    {
     "ename": "RuntimeError",
     "evalue": "Optimal parameters not found: Number of calls to function has reached maxfev = 1000.",
     "output_type": "error",
     "traceback": [
      "\u001b[1;31m---------------------------------------------------------------------------\u001b[0m",
      "\u001b[1;31mRuntimeError\u001b[0m                              Traceback (most recent call last)",
      "\u001b[1;32m<ipython-input-251-31708b73c9f6>\u001b[0m in \u001b[0;36m<module>\u001b[1;34m\u001b[0m\n\u001b[0;32m      7\u001b[0m \u001b[0msigma\u001b[0m \u001b[1;33m=\u001b[0m \u001b[1;33m[\u001b[0m\u001b[1;36m1\u001b[0m \u001b[1;32mfor\u001b[0m \u001b[0mi\u001b[0m \u001b[1;32min\u001b[0m \u001b[0mrange\u001b[0m\u001b[1;33m(\u001b[0m\u001b[1;36m99\u001b[0m\u001b[1;33m)\u001b[0m\u001b[1;33m]\u001b[0m\u001b[1;33m\u001b[0m\u001b[1;33m\u001b[0m\u001b[0m\n\u001b[0;32m      8\u001b[0m \u001b[1;33m\u001b[0m\u001b[0m\n\u001b[1;32m----> 9\u001b[1;33m \u001b[0mlot\u001b[0m\u001b[1;33m,\u001b[0m \u001b[0mfit\u001b[0m \u001b[1;33m=\u001b[0m \u001b[0mopt\u001b[0m\u001b[1;33m.\u001b[0m\u001b[0mcurve_fit\u001b[0m\u001b[1;33m(\u001b[0m\u001b[0mdistribution\u001b[0m\u001b[1;33m,\u001b[0m\u001b[0my\u001b[0m\u001b[1;33m,\u001b[0m\u001b[0mcl\u001b[0m\u001b[1;33m,\u001b[0m\u001b[0mmaxfev\u001b[0m\u001b[1;33m=\u001b[0m\u001b[1;36m1000\u001b[0m\u001b[1;33m)\u001b[0m \u001b[1;31m# you can pass guess for the parameters/errors\u001b[0m\u001b[1;33m\u001b[0m\u001b[1;33m\u001b[0m\u001b[0m\n\u001b[0m\u001b[0;32m     10\u001b[0m \u001b[0malpha\u001b[0m\u001b[1;33m,\u001b[0m \u001b[0mbeta\u001b[0m\u001b[1;33m,\u001b[0m \u001b[0mx0\u001b[0m \u001b[1;33m=\u001b[0m \u001b[0mfit\u001b[0m\u001b[1;33m[\u001b[0m\u001b[1;36m0\u001b[0m\u001b[1;33m]\u001b[0m\u001b[1;33m\u001b[0m\u001b[1;33m\u001b[0m\u001b[0m\n",
      "\u001b[1;32m~\\anaconda3\\lib\\site-packages\\scipy\\optimize\\minpack.py\u001b[0m in \u001b[0;36mcurve_fit\u001b[1;34m(f, xdata, ydata, p0, sigma, absolute_sigma, check_finite, bounds, method, jac, **kwargs)\u001b[0m\n\u001b[0;32m    787\u001b[0m         \u001b[0mcost\u001b[0m \u001b[1;33m=\u001b[0m \u001b[0mnp\u001b[0m\u001b[1;33m.\u001b[0m\u001b[0msum\u001b[0m\u001b[1;33m(\u001b[0m\u001b[0minfodict\u001b[0m\u001b[1;33m[\u001b[0m\u001b[1;34m'fvec'\u001b[0m\u001b[1;33m]\u001b[0m \u001b[1;33m**\u001b[0m \u001b[1;36m2\u001b[0m\u001b[1;33m)\u001b[0m\u001b[1;33m\u001b[0m\u001b[1;33m\u001b[0m\u001b[0m\n\u001b[0;32m    788\u001b[0m         \u001b[1;32mif\u001b[0m \u001b[0mier\u001b[0m \u001b[1;32mnot\u001b[0m \u001b[1;32min\u001b[0m \u001b[1;33m[\u001b[0m\u001b[1;36m1\u001b[0m\u001b[1;33m,\u001b[0m \u001b[1;36m2\u001b[0m\u001b[1;33m,\u001b[0m \u001b[1;36m3\u001b[0m\u001b[1;33m,\u001b[0m \u001b[1;36m4\u001b[0m\u001b[1;33m]\u001b[0m\u001b[1;33m:\u001b[0m\u001b[1;33m\u001b[0m\u001b[1;33m\u001b[0m\u001b[0m\n\u001b[1;32m--> 789\u001b[1;33m             \u001b[1;32mraise\u001b[0m \u001b[0mRuntimeError\u001b[0m\u001b[1;33m(\u001b[0m\u001b[1;34m\"Optimal parameters not found: \"\u001b[0m \u001b[1;33m+\u001b[0m \u001b[0merrmsg\u001b[0m\u001b[1;33m)\u001b[0m\u001b[1;33m\u001b[0m\u001b[1;33m\u001b[0m\u001b[0m\n\u001b[0m\u001b[0;32m    790\u001b[0m     \u001b[1;32melse\u001b[0m\u001b[1;33m:\u001b[0m\u001b[1;33m\u001b[0m\u001b[1;33m\u001b[0m\u001b[0m\n\u001b[0;32m    791\u001b[0m         \u001b[1;31m# Rename maxfev (leastsq) to max_nfev (least_squares), if specified.\u001b[0m\u001b[1;33m\u001b[0m\u001b[1;33m\u001b[0m\u001b[1;33m\u001b[0m\u001b[0m\n",
      "\u001b[1;31mRuntimeError\u001b[0m: Optimal parameters not found: Number of calls to function has reached maxfev = 1000."
     ]
    }
   ],
   "source": [
    "import numpy as np\n",
    "import scipy.optimize as opt\n",
    "\n",
    "def distribution(x, alpha, beta, x0):\n",
    "    return (x + x0)**alpha * np.exp(-beta *x)\n",
    "x0 = [1,2,3]\n",
    "sigma = [1 for i in range(99)]\n",
    "\n",
    "lot, fit = opt.curve_fit(distribution,y,cl,maxfev=1000) # you can pass guess for the parameters/errors\n",
    "alpha, beta, x0 = fit[0]"
   ]
  },
  {
   "cell_type": "code",
   "execution_count": 247,
   "metadata": {},
   "outputs": [
    {
     "data": {
      "text/plain": [
       "99"
      ]
     },
     "execution_count": 247,
     "metadata": {},
     "output_type": "execute_result"
    }
   ],
   "source": [
    "len(sigma)"
   ]
  },
  {
   "cell_type": "code",
   "execution_count": 231,
   "metadata": {},
   "outputs": [
    {
     "data": {
      "text/plain": [
       "100"
      ]
     },
     "execution_count": 231,
     "metadata": {},
     "output_type": "execute_result"
    }
   ],
   "source": [
    "len(y)"
   ]
  },
  {
   "cell_type": "code",
   "execution_count": 232,
   "metadata": {},
   "outputs": [],
   "source": [
    "y = np.linspace(1,100,99)"
   ]
  },
  {
   "cell_type": "code",
   "execution_count": 263,
   "metadata": {},
   "outputs": [
    {
     "ename": "RuntimeError",
     "evalue": "Optimal parameters not found: Number of calls to function has reached maxfev = 1000.",
     "output_type": "error",
     "traceback": [
      "\u001b[1;31m---------------------------------------------------------------------------\u001b[0m",
      "\u001b[1;31mRuntimeError\u001b[0m                              Traceback (most recent call last)",
      "\u001b[1;32m<ipython-input-263-3f30f05cb429>\u001b[0m in \u001b[0;36m<module>\u001b[1;34m\u001b[0m\n\u001b[0;32m      4\u001b[0m     \u001b[1;32mreturn\u001b[0m \u001b[1;33m(\u001b[0m\u001b[0mx\u001b[0m \u001b[1;33m+\u001b[0m \u001b[0mx0\u001b[0m\u001b[1;33m)\u001b[0m\u001b[1;33m**\u001b[0m\u001b[0malpha\u001b[0m \u001b[1;33m*\u001b[0m \u001b[0mnp\u001b[0m\u001b[1;33m.\u001b[0m\u001b[0mexp\u001b[0m\u001b[1;33m(\u001b[0m\u001b[1;33m-\u001b[0m\u001b[0mbeta\u001b[0m \u001b[1;33m*\u001b[0m\u001b[0mx\u001b[0m\u001b[1;33m)\u001b[0m\u001b[1;33m\u001b[0m\u001b[1;33m\u001b[0m\u001b[0m\n\u001b[0;32m      5\u001b[0m \u001b[1;33m\u001b[0m\u001b[0m\n\u001b[1;32m----> 6\u001b[1;33m \u001b[0mpopt\u001b[0m \u001b[1;33m=\u001b[0m \u001b[0mopt\u001b[0m\u001b[1;33m.\u001b[0m\u001b[0mcurve_fit\u001b[0m\u001b[1;33m(\u001b[0m\u001b[0mfunc\u001b[0m\u001b[1;33m,\u001b[0m \u001b[0my\u001b[0m\u001b[1;33m,\u001b[0m \u001b[0mcl\u001b[0m\u001b[1;33m,\u001b[0m \u001b[0mmaxfev\u001b[0m\u001b[1;33m=\u001b[0m\u001b[1;36m1000\u001b[0m\u001b[1;33m)\u001b[0m\u001b[1;33m\u001b[0m\u001b[1;33m\u001b[0m\u001b[0m\n\u001b[0m\u001b[0;32m      7\u001b[0m \u001b[0mt\u001b[0m \u001b[1;33m=\u001b[0m \u001b[0mnp\u001b[0m\u001b[1;33m.\u001b[0m\u001b[0mlinspace\u001b[0m\u001b[1;33m(\u001b[0m\u001b[1;36m1\u001b[0m\u001b[1;33m,\u001b[0m \u001b[1;36m3600\u001b[0m \u001b[1;33m*\u001b[0m \u001b[1;36m24\u001b[0m \u001b[1;33m*\u001b[0m \u001b[1;36m28\u001b[0m\u001b[1;33m,\u001b[0m \u001b[1;36m13\u001b[0m\u001b[1;33m)\u001b[0m\u001b[1;33m\u001b[0m\u001b[1;33m\u001b[0m\u001b[0m\n\u001b[0;32m      8\u001b[0m \u001b[0mplt\u001b[0m\u001b[1;33m.\u001b[0m\u001b[0mplot\u001b[0m\u001b[1;33m(\u001b[0m\u001b[0mt\u001b[0m\u001b[1;33m,\u001b[0m \u001b[0mfunc\u001b[0m\u001b[1;33m(\u001b[0m\u001b[0mt\u001b[0m\u001b[1;33m,\u001b[0m \u001b[1;33m*\u001b[0m\u001b[0mpopt\u001b[0m\u001b[1;33m)\u001b[0m\u001b[1;33m,\u001b[0m \u001b[0mlabel\u001b[0m\u001b[1;33m=\u001b[0m\u001b[1;34m\"Fitted Curve\"\u001b[0m\u001b[1;33m)\u001b[0m\u001b[1;33m\u001b[0m\u001b[1;33m\u001b[0m\u001b[0m\n",
      "\u001b[1;32m~\\anaconda3\\lib\\site-packages\\scipy\\optimize\\minpack.py\u001b[0m in \u001b[0;36mcurve_fit\u001b[1;34m(f, xdata, ydata, p0, sigma, absolute_sigma, check_finite, bounds, method, jac, **kwargs)\u001b[0m\n\u001b[0;32m    787\u001b[0m         \u001b[0mcost\u001b[0m \u001b[1;33m=\u001b[0m \u001b[0mnp\u001b[0m\u001b[1;33m.\u001b[0m\u001b[0msum\u001b[0m\u001b[1;33m(\u001b[0m\u001b[0minfodict\u001b[0m\u001b[1;33m[\u001b[0m\u001b[1;34m'fvec'\u001b[0m\u001b[1;33m]\u001b[0m \u001b[1;33m**\u001b[0m \u001b[1;36m2\u001b[0m\u001b[1;33m)\u001b[0m\u001b[1;33m\u001b[0m\u001b[1;33m\u001b[0m\u001b[0m\n\u001b[0;32m    788\u001b[0m         \u001b[1;32mif\u001b[0m \u001b[0mier\u001b[0m \u001b[1;32mnot\u001b[0m \u001b[1;32min\u001b[0m \u001b[1;33m[\u001b[0m\u001b[1;36m1\u001b[0m\u001b[1;33m,\u001b[0m \u001b[1;36m2\u001b[0m\u001b[1;33m,\u001b[0m \u001b[1;36m3\u001b[0m\u001b[1;33m,\u001b[0m \u001b[1;36m4\u001b[0m\u001b[1;33m]\u001b[0m\u001b[1;33m:\u001b[0m\u001b[1;33m\u001b[0m\u001b[1;33m\u001b[0m\u001b[0m\n\u001b[1;32m--> 789\u001b[1;33m             \u001b[1;32mraise\u001b[0m \u001b[0mRuntimeError\u001b[0m\u001b[1;33m(\u001b[0m\u001b[1;34m\"Optimal parameters not found: \"\u001b[0m \u001b[1;33m+\u001b[0m \u001b[0merrmsg\u001b[0m\u001b[1;33m)\u001b[0m\u001b[1;33m\u001b[0m\u001b[1;33m\u001b[0m\u001b[0m\n\u001b[0m\u001b[0;32m    790\u001b[0m     \u001b[1;32melse\u001b[0m\u001b[1;33m:\u001b[0m\u001b[1;33m\u001b[0m\u001b[1;33m\u001b[0m\u001b[0m\n\u001b[0;32m    791\u001b[0m         \u001b[1;31m# Rename maxfev (leastsq) to max_nfev (least_squares), if specified.\u001b[0m\u001b[1;33m\u001b[0m\u001b[1;33m\u001b[0m\u001b[1;33m\u001b[0m\u001b[0m\n",
      "\u001b[1;31mRuntimeError\u001b[0m: Optimal parameters not found: Number of calls to function has reached maxfev = 1000."
     ]
    }
   ],
   "source": [
    "\n",
    "# curvefit\n",
    "\n",
    "def func(x, alpha, beta, x0):\n",
    "    return (x + x0)**alpha * np.exp(-beta *x)\n",
    "\n",
    "popt = opt.curve_fit(func, y, cl, maxfev=1000)\n",
    "t = np.linspace(1, 3600 * 24 * 28, 13)\n",
    "plt.plot(t, func(t, *popt), label=\"Fitted Curve\")\n",
    "plt.legend(loc='upper left')\n",
    "plt.show()"
   ]
  },
  {
   "cell_type": "code",
   "execution_count": 265,
   "metadata": {},
   "outputs": [
    {
     "ename": "NetworkXError",
     "evalue": "Invalid degree sequence: sum of degrees must be even, not odd",
     "output_type": "error",
     "traceback": [
      "\u001b[1;31m---------------------------------------------------------------------------\u001b[0m",
      "\u001b[1;31mNetworkXError\u001b[0m                             Traceback (most recent call last)",
      "\u001b[1;32m<ipython-input-265-7c83c0e18a93>\u001b[0m in \u001b[0;36m<module>\u001b[1;34m\u001b[0m\n\u001b[1;32m----> 1\u001b[1;33m \u001b[0mg\u001b[0m \u001b[1;33m=\u001b[0m \u001b[0mnx\u001b[0m\u001b[1;33m.\u001b[0m\u001b[0mconfiguration_model\u001b[0m\u001b[1;33m(\u001b[0m\u001b[0mcl\u001b[0m\u001b[1;33m)\u001b[0m\u001b[1;33m\u001b[0m\u001b[1;33m\u001b[0m\u001b[0m\n\u001b[0m",
      "\u001b[1;32m<decorator-gen-193>\u001b[0m in \u001b[0;36mconfiguration_model\u001b[1;34m(deg_sequence, create_using, seed)\u001b[0m\n",
      "\u001b[1;32m~\\anaconda3\\lib\\site-packages\\networkx\\utils\\decorators.py\u001b[0m in \u001b[0;36m_random_state\u001b[1;34m(func, *args, **kwargs)\u001b[0m\n\u001b[0;32m    467\u001b[0m         \u001b[0mnew_args\u001b[0m \u001b[1;33m=\u001b[0m \u001b[0mlist\u001b[0m\u001b[1;33m(\u001b[0m\u001b[0margs\u001b[0m\u001b[1;33m)\u001b[0m\u001b[1;33m\u001b[0m\u001b[1;33m\u001b[0m\u001b[0m\n\u001b[0;32m    468\u001b[0m         \u001b[0mnew_args\u001b[0m\u001b[1;33m[\u001b[0m\u001b[0mrandom_state_index\u001b[0m\u001b[1;33m]\u001b[0m \u001b[1;33m=\u001b[0m \u001b[0mrandom_state\u001b[0m\u001b[1;33m\u001b[0m\u001b[1;33m\u001b[0m\u001b[0m\n\u001b[1;32m--> 469\u001b[1;33m         \u001b[1;32mreturn\u001b[0m \u001b[0mfunc\u001b[0m\u001b[1;33m(\u001b[0m\u001b[1;33m*\u001b[0m\u001b[0mnew_args\u001b[0m\u001b[1;33m,\u001b[0m \u001b[1;33m**\u001b[0m\u001b[0mkwargs\u001b[0m\u001b[1;33m)\u001b[0m\u001b[1;33m\u001b[0m\u001b[1;33m\u001b[0m\u001b[0m\n\u001b[0m\u001b[0;32m    470\u001b[0m \u001b[1;33m\u001b[0m\u001b[0m\n\u001b[0;32m    471\u001b[0m     \u001b[1;32mreturn\u001b[0m \u001b[0m_random_state\u001b[0m\u001b[1;33m\u001b[0m\u001b[1;33m\u001b[0m\u001b[0m\n",
      "\u001b[1;32m~\\anaconda3\\lib\\site-packages\\networkx\\generators\\degree_seq.py\u001b[0m in \u001b[0;36mconfiguration_model\u001b[1;34m(deg_sequence, create_using, seed)\u001b[0m\n\u001b[0;32m    217\u001b[0m     \u001b[1;32mif\u001b[0m \u001b[0msum\u001b[0m\u001b[1;33m(\u001b[0m\u001b[0mdeg_sequence\u001b[0m\u001b[1;33m)\u001b[0m \u001b[1;33m%\u001b[0m \u001b[1;36m2\u001b[0m \u001b[1;33m!=\u001b[0m \u001b[1;36m0\u001b[0m\u001b[1;33m:\u001b[0m\u001b[1;33m\u001b[0m\u001b[1;33m\u001b[0m\u001b[0m\n\u001b[0;32m    218\u001b[0m         \u001b[0mmsg\u001b[0m \u001b[1;33m=\u001b[0m \u001b[1;34m\"Invalid degree sequence: sum of degrees must be even, not odd\"\u001b[0m\u001b[1;33m\u001b[0m\u001b[1;33m\u001b[0m\u001b[0m\n\u001b[1;32m--> 219\u001b[1;33m         \u001b[1;32mraise\u001b[0m \u001b[0mnx\u001b[0m\u001b[1;33m.\u001b[0m\u001b[0mNetworkXError\u001b[0m\u001b[1;33m(\u001b[0m\u001b[0mmsg\u001b[0m\u001b[1;33m)\u001b[0m\u001b[1;33m\u001b[0m\u001b[1;33m\u001b[0m\u001b[0m\n\u001b[0m\u001b[0;32m    220\u001b[0m \u001b[1;33m\u001b[0m\u001b[0m\n\u001b[0;32m    221\u001b[0m     \u001b[0mG\u001b[0m \u001b[1;33m=\u001b[0m \u001b[0mnx\u001b[0m\u001b[1;33m.\u001b[0m\u001b[0mempty_graph\u001b[0m\u001b[1;33m(\u001b[0m\u001b[1;36m0\u001b[0m\u001b[1;33m,\u001b[0m \u001b[0mcreate_using\u001b[0m\u001b[1;33m,\u001b[0m \u001b[0mdefault\u001b[0m\u001b[1;33m=\u001b[0m\u001b[0mnx\u001b[0m\u001b[1;33m.\u001b[0m\u001b[0mMultiGraph\u001b[0m\u001b[1;33m)\u001b[0m\u001b[1;33m\u001b[0m\u001b[1;33m\u001b[0m\u001b[0m\n",
      "\u001b[1;31mNetworkXError\u001b[0m: Invalid degree sequence: sum of degrees must be even, not odd"
     ]
    }
   ],
   "source": [
    "g = nx.configuration_model(cl)"
   ]
  },
  {
   "cell_type": "code",
   "execution_count": null,
   "metadata": {},
   "outputs": [],
   "source": []
  }
 ],
 "metadata": {
  "kernelspec": {
   "display_name": "Python 3",
   "language": "python",
   "name": "python3"
  },
  "language_info": {
   "codemirror_mode": {
    "name": "ipython",
    "version": 3
   },
   "file_extension": ".py",
   "mimetype": "text/x-python",
   "name": "python",
   "nbconvert_exporter": "python",
   "pygments_lexer": "ipython3",
   "version": "3.7.6"
  }
 },
 "nbformat": 4,
 "nbformat_minor": 4
}
