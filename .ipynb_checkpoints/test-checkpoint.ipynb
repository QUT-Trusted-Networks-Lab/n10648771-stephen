{
 "cells": [
  {
   "cell_type": "code",
   "execution_count": 1,
   "metadata": {},
   "outputs": [],
   "source": [
    "import pandas as pd\n",
    "import numpy as np\n",
    "import warnings\n",
    "warnings.filterwarnings(\"ignore\")\n",
    "import matplotlib.pyplot as plt"
   ]
  },
  {
   "cell_type": "code",
   "execution_count": 2,
   "metadata": {},
   "outputs": [],
   "source": [
    "df_case_js=pd.read_excel('datafile/casedata.xlsx')\n",
    "df_case=pd.read_csv('datafile/case_time.csv')\n",
    "df_test=pd.read_csv('datafile/testdata.csv')\n",
    "df_nsw=pd.read_csv('datafile/COVID_AU_state_cumulative.csv')"
   ]
  },
  {
   "cell_type": "code",
   "execution_count": 3,
   "metadata": {},
   "outputs": [],
   "source": [
    "df_case_js.drop(columns=['Venue','Address','Time','Alert','HealthinformationHTML'], inplace=True)"
   ]
  },
  {
   "cell_type": "code",
   "execution_count": 4,
   "metadata": {},
   "outputs": [],
   "source": [
    "df_case.fillna(method='ffill',inplace=True)\n",
    "df_case['postcode']=df_case.postcode.astype('int')\n",
    "df_case.drop(columns=['lga_name19','lga_code19','lhd_2010_code','lhd_2010_name'], inplace=True)\n",
    "df_case.rename(columns={'notification_date':'date'},inplace=True)\n",
    "df_test.drop(columns=['lga_name19','lga_code19','lhd_2010_code','lhd_2010_name'], inplace=True)\n",
    "df_test.rename(columns={'test_date':'date'},inplace=True)\n",
    "df_case['infected']=1\n",
    "dfx=df_case.loc[df_case['postcode']==2026]\n",
    "dfx['date']=pd.to_datetime(dfx['date'])\n",
    "dfx.drop(columns='postcode',inplace=True)\n",
    "z=dfx.groupby('date')['infected'].sum().reset_index() # infected\n",
    "x=df_test.loc[df_test['postcode']==2026]\n",
    "x['date']=pd.to_datetime(x['date'])\n",
    "rng = pd.date_range('2020-1-30', periods=100, freq='D')\n",
    "df = pd.DataFrame({ 'date': rng }) \n",
    "m = x.merge(df, left_on=['date'], right_on=['date'], how='right')\n",
    "d = z.merge(m, left_on=['date'], right_on=['date'], how='right') \n",
    "d=d.fillna(0)\n",
    "d.drop(columns='postcode',inplace=True)\n",
    "df_nsw=df_nsw.loc[df_nsw['state_abbrev']=='NSW']\n",
    "df_nsw.drop(columns=['state', 'state_abbrev'],inplace =True)\n",
    "df_nsw['date']=pd.to_datetime(df_nsw['date'])\n",
    "final = df_nsw.merge(d, left_on=['date'], right_on=['date'], how='right')\n",
    "final.set_index(final['date'],inplace=True)\n",
    "final.drop(columns='date',inplace=True)\n",
    "final=final.astype('int')"
   ]
  },
  {
   "cell_type": "code",
   "execution_count": 13,
   "metadata": {},
   "outputs": [
    {
     "name": "stdout",
     "output_type": "stream",
     "text": [
      "<class 'pandas.core.frame.DataFrame'>\n",
      "DatetimeIndex: 100 entries, 2020-01-30 to 2020-05-08\n",
      "Data columns (total 10 columns):\n",
      " #   Column      Non-Null Count  Dtype\n",
      "---  ------      --------------  -----\n",
      " 0   confirmed   100 non-null    int32\n",
      " 1   deaths      100 non-null    int32\n",
      " 2   tests       100 non-null    int32\n",
      " 3   positives   100 non-null    int32\n",
      " 4   recovered   100 non-null    int32\n",
      " 5   hosp        100 non-null    int32\n",
      " 6   icu         100 non-null    int32\n",
      " 7   vent        100 non-null    int32\n",
      " 8   infected    100 non-null    int32\n",
      " 9   test_count  100 non-null    int32\n",
      "dtypes: int32(10)\n",
      "memory usage: 4.7 KB\n"
     ]
    }
   ],
   "source": [
    "final.info()"
   ]
  },
  {
   "cell_type": "markdown",
   "metadata": {},
   "source": [
    "# UA: "
   ]
  },
  {
   "cell_type": "markdown",
   "metadata": {},
   "source": [
    "- Gọi: \n",
    "   + n: là dân số (population)\n",
    "   + c(t) là tổng số ca nhiễm theo t\n",
    "   + q là tỉ lệ người UA bị bệnh, T là số người tham gia quá trình detection (có thể coi là số người admit to clinic trong NSW dataset)\n",
    "   + T là thời gian phát hiện bệnh. Trong đây coi T là 10 ngày (incubation period) nhưng lấy trung bình là 7.5 ngày\n",
    "   + k là size of sample\n",
    "   + m is the number of people infected in the size k"
   ]
  },
  {
   "cell_type": "code",
   "execution_count": 8,
   "metadata": {},
   "outputs": [],
   "source": [
    "#defined subjects: \n",
    "N = 25e6 #population\n",
    "# q: fraction of underascertainment\n",
    "c_array=final['confirmed'] # culmulative cases\n",
    "T=8 #incubation period\n"
   ]
  },
  {
   "cell_type": "code",
   "execution_count": 7,
   "metadata": {},
   "outputs": [
    {
     "ename": "NameError",
     "evalue": "name 'li' is not defined",
     "output_type": "error",
     "traceback": [
      "\u001b[1;31m---------------------------------------------------------------------------\u001b[0m",
      "\u001b[1;31mNameError\u001b[0m                                 Traceback (most recent call last)",
      "\u001b[1;32m<ipython-input-7-3fab4c9c2cf3>\u001b[0m in \u001b[0;36m<module>\u001b[1;34m\u001b[0m\n\u001b[1;32m----> 1\u001b[1;33m \u001b[0mli\u001b[0m\u001b[1;33m\u001b[0m\u001b[1;33m\u001b[0m\u001b[0m\n\u001b[0m",
      "\u001b[1;31mNameError\u001b[0m: name 'li' is not defined"
     ]
    }
   ],
   "source": []
  }
 ],
 "metadata": {
  "kernelspec": {
   "display_name": "Python 3",
   "language": "python",
   "name": "python3"
  },
  "language_info": {
   "codemirror_mode": {
    "name": "ipython",
    "version": 3
   },
   "file_extension": ".py",
   "mimetype": "text/x-python",
   "name": "python",
   "nbconvert_exporter": "python",
   "pygments_lexer": "ipython3",
   "version": "3.7.6"
  }
 },
 "nbformat": 4,
 "nbformat_minor": 4
}
