{
 "cells": [
  {
   "cell_type": "markdown",
   "metadata": {},
   "source": [
    "Followed by the introduction of proven methods for identifying under-reporting issues in count-based models in last week review, this notebook aims to provides a customized model using statistical inferences: Beta-Poisson Model in which, both binomial parameters are randomized. The idea is inspired by Neubauer and Djuras which has yet been applied on the data of real life. In which: \n",
    "\n",
    "\n",
    "    + Y |L, P ∼ Binomial(L, P)\n",
    "    + L ∼ Poisson(λ)\n",
    "    + P ∼ Beta(γ, δ)\n",
    "    + Y ∼ Beta-Poisson(λ, γ, δ)\n",
    "    + E(Y ) = λπ = µ where π = γ/(γ + δ)\n",
    "    + var(Y ) = µφ with φ = 1 + [λ(1 − π)/(1 + γ + δ)] ≥ 1\n"
   ]
  },
  {
   "cell_type": "code",
   "execution_count": 1,
   "metadata": {},
   "outputs": [],
   "source": [
    "from __future__ import print_function\n",
    "import math\n",
    "import numpy as np\n",
    "import random\n",
    "import scipy as sp\n",
    "from scipy import special as spsp\n",
    "from scipy import sparse as sparse\n",
    "from scipy import stats as stats\n",
    "from scipy import optimize as opt\n",
    "from scipy import interpolate as interpolate\n",
    "import matplotlib.pyplot as plt\n",
    "import matplotlib.patches as patches\n",
    "import matplotlib.path as path\n",
    "import matplotlib.animation as animation\n",
    "from ipywidgets import interact, interactive, fixed, interact_manual\n",
    "import ipywidgets as widgets\n",
    "import mpmath\n",
    "import matplotlib as mpl\n",
    "import matplotlib.cm as cm\n",
    "import time\n",
    "cmap = cm.hot"
   ]
  },
  {
   "cell_type": "code",
   "execution_count": null,
   "metadata": {},
   "outputs": [],
   "source": [
    "class modified_poisson:\n",
    "    # µ is mean\n",
    "    # N is the total population \n",
    "    # Prob is the probability of reporting\n",
    "    # µ_true is the real mean\n",
    "    # y is our targeted variable\n",
    "    def __init__(self,µ, N, µ_true, Prob,y):\n",
    "        self.y = y\n",
    "        self.Prob  = Prob\n",
    "        self.N    = N\n",
    "        self.µ   = µ\n",
    "        self.µ_true=µ_true\n",
    "    \n",
    "    #Calculation for probability distribution function: f(y|µ_true, Prob): \n",
    "    def pmf(self, y, prob, µ_true):\n",
    "        \n",
    "        \n",
    "        \n",
    "        \n",
    "        \n",
    "        \n",
    "    def Prob(self, B,Z):\n",
    "        B=[]\n",
    "        Z=[]\n",
    "        for b,z in B,Z:\n",
    "            self.Prob=np.exp(b*z)/0\n",
    "       \n",
    "    \n",
    "        "
   ]
  }
 ],
 "metadata": {
  "kernelspec": {
   "display_name": "Python 3",
   "language": "python",
   "name": "python3"
  },
  "language_info": {
   "codemirror_mode": {
    "name": "ipython",
    "version": 3
   },
   "file_extension": ".py",
   "mimetype": "text/x-python",
   "name": "python",
   "nbconvert_exporter": "python",
   "pygments_lexer": "ipython3",
   "version": "3.7.6"
  }
 },
 "nbformat": 4,
 "nbformat_minor": 4
}
