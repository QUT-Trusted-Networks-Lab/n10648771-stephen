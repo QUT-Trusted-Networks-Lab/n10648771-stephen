{
 "cells": [
  {
   "cell_type": "markdown",
   "metadata": {},
   "source": [
    "<img scr=\"Downloads/Untitled.png\">"
   ]
  },
  {
   "cell_type": "code",
   "execution_count": 1,
   "metadata": {},
   "outputs": [
    {
     "name": "stderr",
     "output_type": "stream",
     "text": [
      "WARNING (theano.configdefaults): g++ not available, if using conda: `conda install m2w64-toolchain`\n",
      "C:\\Users\\Acer\\anaconda3\\lib\\site-packages\\theano\\configdefaults.py:560: UserWarning: DeprecationWarning: there is no c++ compiler.This is deprecated and with Theano 0.11 a c++ compiler will be mandatory\n",
      "  warnings.warn(\"DeprecationWarning: there is no c++ compiler.\"\n",
      "WARNING (theano.configdefaults): g++ not detected ! Theano will be unable to execute optimized C-implementations (for both CPU and GPU) and will default to Python implementations. Performance will be severely degraded. To remove this warning, set Theano flags cxx to an empty string.\n",
      "WARNING (theano.tensor.blas): Using NumPy C-API based implementation for BLAS functions.\n"
     ]
    }
   ],
   "source": [
    "from __future__ import print_function\n",
    "import math\n",
    "import numpy as np\n",
    "import random\n",
    "import scipy as sp\n",
    "from scipy import special as spsp\n",
    "from scipy import sparse as sparse\n",
    "from scipy import stats as stats\n",
    "from scipy import optimize as opt\n",
    "from scipy import interpolate as interpolate\n",
    "import matplotlib.pyplot as plt\n",
    "import matplotlib.patches as patches\n",
    "import matplotlib.path as path\n",
    "import matplotlib.animation as animation\n",
    "from ipywidgets import interact, interactive, fixed, interact_manual\n",
    "import ipywidgets as widgets\n",
    "import mpmath\n",
    "import matplotlib as mpl\n",
    "import matplotlib.cm as cm\n",
    "import time\n",
    "cmap = cm.hot\n",
    "from datatool import get_panel_data"
   ]
  },
  {
   "cell_type": "code",
   "execution_count": null,
   "metadata": {},
   "outputs": [],
   "source": [
    "class modified_poisson:\n",
    "    # µ is mean\n",
    "    # N is the total population \n",
    "    # Prob is the probability of reporting\n",
    "    # µ_true is the real mean\n",
    "    # y is our targeted variable\n",
    "    def __init__(self,µ, N, µ_true, Prob,y):\n",
    "        self.y = y\n",
    "        self.Prob  = Prob\n",
    "        self.N    = N\n",
    "        self.µ   = µ\n",
    "        self.µ_true=µ_true\n",
    "    \n",
    "    #Calculation for probability distribution function: f(y|µ_true, Prob): \n",
    "    def pmf(self, y, prob, µ_true):\n",
    "        return prob\n",
    "        \n",
    "        \n",
    "        \n",
    "        \n",
    "    #Function to calculate the probability of reporting (this can be called Binary Logit)\n",
    "    # B is the vector of coefficicents and Z is a vector of variables\n",
    "    def Prob(self, B,Z):\n",
    "        Prob=np.exp(B*Z)/(1+np.exp(B*Z))\n",
    "        return Prob\n",
    "    \n",
    "    \n",
    "       \n",
    "    \n",
    "        "
   ]
  }
 ],
 "metadata": {
  "kernelspec": {
   "display_name": "Python 3",
   "language": "python",
   "name": "python3"
  },
  "language_info": {
   "codemirror_mode": {
    "name": "ipython",
    "version": 3
   },
   "file_extension": ".py",
   "mimetype": "text/x-python",
   "name": "python",
   "nbconvert_exporter": "python",
   "pygments_lexer": "ipython3",
   "version": "3.7.6"
  }
 },
 "nbformat": 4,
 "nbformat_minor": 4
}
