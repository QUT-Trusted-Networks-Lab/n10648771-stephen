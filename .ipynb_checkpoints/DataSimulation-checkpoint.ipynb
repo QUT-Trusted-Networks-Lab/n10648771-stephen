{
 "cells": [
  {
   "cell_type": "code",
   "execution_count": 1,
   "metadata": {},
   "outputs": [
    {
     "name": "stderr",
     "output_type": "stream",
     "text": [
      "WARNING (theano.configdefaults): g++ not available, if using conda: `conda install m2w64-toolchain`\n",
      "C:\\Users\\Acer\\anaconda3\\lib\\site-packages\\theano\\configdefaults.py:560: UserWarning: DeprecationWarning: there is no c++ compiler.This is deprecated and with Theano 0.11 a c++ compiler will be mandatory\n",
      "  warnings.warn(\"DeprecationWarning: there is no c++ compiler.\"\n",
      "WARNING (theano.configdefaults): g++ not detected ! Theano will be unable to execute optimized C-implementations (for both CPU and GPU) and will default to Python implementations. Performance will be severely degraded. To remove this warning, set Theano flags cxx to an empty string.\n",
      "WARNING (theano.tensor.blas): Using NumPy C-API based implementation for BLAS functions.\n"
     ]
    }
   ],
   "source": [
    "#import-packages: Might be included in the requirements.txt after I complete with all tasks\n",
    "import pandas as pd\n",
    "import numpy as np \n",
    "from numpy import random\n",
    "import math\n",
    "from datetime import datetime\n",
    "import matplotlib.pyplot as plt \n",
    "import seaborn as sns \n",
    "%matplotlib inline\n",
    "import sys\n",
    "import re\n",
    "import patsy as pt\n",
    "import pymc3 as pm\n",
    "plt.style.use('seaborn-darkgrid')\n",
    "import random"
   ]
  },
  {
   "cell_type": "markdown",
   "metadata": {},
   "source": [
    "## Simulate time-series data "
   ]
  },
  {
   "cell_type": "code",
   "execution_count": 2,
   "metadata": {},
   "outputs": [],
   "source": [
    "import random\n",
    "def constrained_sum_sample_pos(n, total):\n",
    "    dividers = sorted(random.sample(range(1, total), n - 1))\n",
    "    return [a - b for a, b in zip(dividers + [total], [0] + dividers)]\n",
    "\n",
    "def constrained_sum_sample_nonneg(n, total):\n",
    "    \"\"\"Return a randomly chosen list of n nonnegative integers summing to total.\n",
    "    Each such list is equally likely to occur.\"\"\"\n",
    "\n",
    "    return [x - 1 for x in constrained_sum_sample_pos(n, total + n)]\n",
    "\n",
    "def simple_gen(x): #generate a random dataset with specified variables\n",
    "    random.seed(x)\n",
    "    #time-series\n",
    "    date = pd.date_range(start='1/1/2020', end='3/27/2020', freq='D')\n",
    "    df = pd.DataFrame(date, columns=['date'])\n",
    "    #target variables: reported cases\n",
    "    df['unreported']=np.random.randint(0,1000,size=len(date))\n",
    "    #variables: number of patients with pre-existed medical conditions\n",
    "    pre=[]\n",
    "    for case in df['unreported']:\n",
    "        a=np.random.randint(1,case)\n",
    "        \n",
    "        pre.append(a)\n",
    "    df['reported']=pre\n",
    "    #variables: number of patients recorded from different areas, there are 3 types of areas: \n",
    "    \n",
    "    h1=[] \n",
    "    h2=[] \n",
    "    h3=[] #h1 for highly infective area, h2 for areas with medium infectivity and h3 for low \n",
    "\n",
    "    for i in df['reported']: \n",
    "        a1, a2, a3 = constrained_sum_sample_nonneg(3,i)\n",
    "        h1.append(a1)\n",
    "        h2.append(a2)\n",
    "        h3.append(a3)\n",
    "    df['area1']=h1\n",
    "    df['area2']=h2\n",
    "    df['area3']=h3\n",
    "    #variables: temperatures of the day\n",
    "    \n",
    "    high=[]\n",
    "    low=[]\n",
    "    for i in range(len(df['date'])):\n",
    "        c=np.random.randint(10,30)\n",
    "        d=np.random.randint(10,30)\n",
    "        if c>d: \n",
    "            high.append(c)\n",
    "            low.append(d)\n",
    "        else: \n",
    "            high.append(d)\n",
    "            low.append(c)\n",
    "    df['HighTemp']=high\n",
    "    df['LowTemp']=low\n",
    "    #number of deaths: \n",
    "    df['death']=np.random.randint(0,50,size=len(date))\n",
    "    \n",
    "    return df"
   ]
  },
  {
   "cell_type": "markdown",
   "metadata": {},
   "source": [
    "## Simulate Panel Data \n",
    "Goal is to assist the probit regression "
   ]
  },
  {
   "cell_type": "code",
   "execution_count": 8,
   "metadata": {},
   "outputs": [],
   "source": [
    "def get_file():\n",
    "    df=pd.read_csv(r'D3.csv')\n",
    "    a=10.986409919681789\n",
    "    b=171.91508511054587\n",
    "    df['height']=df['height']*a+b       \n",
    "    return df\n",
    "\n",
    "def get_panel_data(): \n",
    "    df = get_file()\n",
    "    df['height']=df.height.round()\n",
    "    df['contacts_count']=df.contacts_count.round()\n",
    "    #Height is Z-score Normalized  => need to change => reverse Z-score and convert to int32\n",
    "    # contacts_count in assessment 1 have been imputed with MEAN => round it into int32\n",
    "    mapping = {'yes':1, 'no':0, 'blank':np.nan}\n",
    "    df['insurance']=df.insurance.map(mapping)\n",
    "    df['insurance'].fillna(df['insurance'].mode()[0], inplace=True)\n",
    "    secmap={'native':1,'immigrant':0, 'blank':np.nan}\n",
    "    df['immigrant']=df.immigrant.map(secmap)\n",
    "    df['immigrant'].fillna(df['immigrant'].mode()[0], inplace=True)\n",
    "    #Convert data type: \n",
    "    convert_dict = {'contacts_count':int, 'height': int,'worried': int, 'immigrant':bool,'insurance':bool,'covid19_positive':bool,'covid19_symptoms':bool,'covid19_contact':bool,'asthma':bool,'kidney_disease':bool,'liver_disease':bool,'compromised_immune':bool,'heart_disease':bool,'lung_disease':bool,'diabetes':bool,'hiv_positive':bool,'hypertension':bool,'other_chronic':bool,'nursing_home':bool,'health_worker':bool}\n",
    "    df = df.astype(convert_dict)\n",
    "    b=np.random.choice([0,1],size=len(df['height']))\n",
    "    df['reportrate']=b\n",
    "    df = pd.get_dummies(df)\n",
    "    \n",
    "    \n",
    "    \n",
    "\n",
    "    return df\n",
    "    "
   ]
  },
  {
   "cell_type": "code",
   "execution_count": 9,
   "metadata": {},
   "outputs": [],
   "source": [
    "a=get_panel_data()"
   ]
  },
  {
   "cell_type": "code",
   "execution_count": 10,
   "metadata": {},
   "outputs": [
    {
     "data": {
      "text/plain": [
       "Index(['height', 'weight', 'insurance', 'immigrant', 'contacts_count',\n",
       "       'house_count', 'public_transport_count', 'worried', 'covid19_positive',\n",
       "       'covid19_symptoms',\n",
       "       ...\n",
       "       'smoking_quit5', 'smoking_vape', 'smoking_yesheavy', 'smoking_yeslight',\n",
       "       'smoking_yesmedium', 'working_home', 'working_never', 'working_stopped',\n",
       "       'working_travel critical', 'working_travel non critical'],\n",
       "      dtype='object', length=168)"
      ]
     },
     "execution_count": 10,
     "metadata": {},
     "output_type": "execute_result"
    }
   ],
   "source": [
    "a.columns"
   ]
  },
  {
   "cell_type": "code",
   "execution_count": 13,
   "metadata": {},
   "outputs": [
    {
     "data": {
      "text/plain": [
       "1    2564\n",
       "0    2547\n",
       "Name: reportrate, dtype: int64"
      ]
     },
     "execution_count": 13,
     "metadata": {},
     "output_type": "execute_result"
    }
   ],
   "source": [
    "a['reportrate'].value_counts()"
   ]
  },
  {
   "cell_type": "code",
   "execution_count": null,
   "metadata": {},
   "outputs": [],
   "source": []
  },
  {
   "cell_type": "code",
   "execution_count": 6,
   "metadata": {},
   "outputs": [
    {
     "ename": "KeyError",
     "evalue": "'prate'",
     "output_type": "error",
     "traceback": [
      "\u001b[1;31m---------------------------------------------------------------------------\u001b[0m",
      "\u001b[1;31mKeyError\u001b[0m                                  Traceback (most recent call last)",
      "\u001b[1;32m~\\anaconda3\\lib\\site-packages\\pandas\\core\\indexes\\base.py\u001b[0m in \u001b[0;36mget_loc\u001b[1;34m(self, key, method, tolerance)\u001b[0m\n\u001b[0;32m   2894\u001b[0m             \u001b[1;32mtry\u001b[0m\u001b[1;33m:\u001b[0m\u001b[1;33m\u001b[0m\u001b[1;33m\u001b[0m\u001b[0m\n\u001b[1;32m-> 2895\u001b[1;33m                 \u001b[1;32mreturn\u001b[0m \u001b[0mself\u001b[0m\u001b[1;33m.\u001b[0m\u001b[0m_engine\u001b[0m\u001b[1;33m.\u001b[0m\u001b[0mget_loc\u001b[0m\u001b[1;33m(\u001b[0m\u001b[0mcasted_key\u001b[0m\u001b[1;33m)\u001b[0m\u001b[1;33m\u001b[0m\u001b[1;33m\u001b[0m\u001b[0m\n\u001b[0m\u001b[0;32m   2896\u001b[0m             \u001b[1;32mexcept\u001b[0m \u001b[0mKeyError\u001b[0m \u001b[1;32mas\u001b[0m \u001b[0merr\u001b[0m\u001b[1;33m:\u001b[0m\u001b[1;33m\u001b[0m\u001b[1;33m\u001b[0m\u001b[0m\n",
      "\u001b[1;32mpandas\\_libs\\index.pyx\u001b[0m in \u001b[0;36mpandas._libs.index.IndexEngine.get_loc\u001b[1;34m()\u001b[0m\n",
      "\u001b[1;32mpandas\\_libs\\index.pyx\u001b[0m in \u001b[0;36mpandas._libs.index.IndexEngine.get_loc\u001b[1;34m()\u001b[0m\n",
      "\u001b[1;32mpandas\\_libs\\hashtable_class_helper.pxi\u001b[0m in \u001b[0;36mpandas._libs.hashtable.PyObjectHashTable.get_item\u001b[1;34m()\u001b[0m\n",
      "\u001b[1;32mpandas\\_libs\\hashtable_class_helper.pxi\u001b[0m in \u001b[0;36mpandas._libs.hashtable.PyObjectHashTable.get_item\u001b[1;34m()\u001b[0m\n",
      "\u001b[1;31mKeyError\u001b[0m: 'prate'",
      "\nThe above exception was the direct cause of the following exception:\n",
      "\u001b[1;31mKeyError\u001b[0m                                  Traceback (most recent call last)",
      "\u001b[1;32m<ipython-input-6-1fc288d791d9>\u001b[0m in \u001b[0;36m<module>\u001b[1;34m\u001b[0m\n\u001b[1;32m----> 1\u001b[1;33m \u001b[0ma\u001b[0m\u001b[1;33m[\u001b[0m\u001b[1;34m'prate'\u001b[0m\u001b[1;33m]\u001b[0m\u001b[1;33m.\u001b[0m\u001b[0mvalue_counts\u001b[0m\u001b[1;33m(\u001b[0m\u001b[1;33m)\u001b[0m\u001b[1;33m\u001b[0m\u001b[1;33m\u001b[0m\u001b[0m\n\u001b[0m",
      "\u001b[1;32m~\\anaconda3\\lib\\site-packages\\pandas\\core\\frame.py\u001b[0m in \u001b[0;36m__getitem__\u001b[1;34m(self, key)\u001b[0m\n\u001b[0;32m   2900\u001b[0m             \u001b[1;32mif\u001b[0m \u001b[0mself\u001b[0m\u001b[1;33m.\u001b[0m\u001b[0mcolumns\u001b[0m\u001b[1;33m.\u001b[0m\u001b[0mnlevels\u001b[0m \u001b[1;33m>\u001b[0m \u001b[1;36m1\u001b[0m\u001b[1;33m:\u001b[0m\u001b[1;33m\u001b[0m\u001b[1;33m\u001b[0m\u001b[0m\n\u001b[0;32m   2901\u001b[0m                 \u001b[1;32mreturn\u001b[0m \u001b[0mself\u001b[0m\u001b[1;33m.\u001b[0m\u001b[0m_getitem_multilevel\u001b[0m\u001b[1;33m(\u001b[0m\u001b[0mkey\u001b[0m\u001b[1;33m)\u001b[0m\u001b[1;33m\u001b[0m\u001b[1;33m\u001b[0m\u001b[0m\n\u001b[1;32m-> 2902\u001b[1;33m             \u001b[0mindexer\u001b[0m \u001b[1;33m=\u001b[0m \u001b[0mself\u001b[0m\u001b[1;33m.\u001b[0m\u001b[0mcolumns\u001b[0m\u001b[1;33m.\u001b[0m\u001b[0mget_loc\u001b[0m\u001b[1;33m(\u001b[0m\u001b[0mkey\u001b[0m\u001b[1;33m)\u001b[0m\u001b[1;33m\u001b[0m\u001b[1;33m\u001b[0m\u001b[0m\n\u001b[0m\u001b[0;32m   2903\u001b[0m             \u001b[1;32mif\u001b[0m \u001b[0mis_integer\u001b[0m\u001b[1;33m(\u001b[0m\u001b[0mindexer\u001b[0m\u001b[1;33m)\u001b[0m\u001b[1;33m:\u001b[0m\u001b[1;33m\u001b[0m\u001b[1;33m\u001b[0m\u001b[0m\n\u001b[0;32m   2904\u001b[0m                 \u001b[0mindexer\u001b[0m \u001b[1;33m=\u001b[0m \u001b[1;33m[\u001b[0m\u001b[0mindexer\u001b[0m\u001b[1;33m]\u001b[0m\u001b[1;33m\u001b[0m\u001b[1;33m\u001b[0m\u001b[0m\n",
      "\u001b[1;32m~\\anaconda3\\lib\\site-packages\\pandas\\core\\indexes\\base.py\u001b[0m in \u001b[0;36mget_loc\u001b[1;34m(self, key, method, tolerance)\u001b[0m\n\u001b[0;32m   2895\u001b[0m                 \u001b[1;32mreturn\u001b[0m \u001b[0mself\u001b[0m\u001b[1;33m.\u001b[0m\u001b[0m_engine\u001b[0m\u001b[1;33m.\u001b[0m\u001b[0mget_loc\u001b[0m\u001b[1;33m(\u001b[0m\u001b[0mcasted_key\u001b[0m\u001b[1;33m)\u001b[0m\u001b[1;33m\u001b[0m\u001b[1;33m\u001b[0m\u001b[0m\n\u001b[0;32m   2896\u001b[0m             \u001b[1;32mexcept\u001b[0m \u001b[0mKeyError\u001b[0m \u001b[1;32mas\u001b[0m \u001b[0merr\u001b[0m\u001b[1;33m:\u001b[0m\u001b[1;33m\u001b[0m\u001b[1;33m\u001b[0m\u001b[0m\n\u001b[1;32m-> 2897\u001b[1;33m                 \u001b[1;32mraise\u001b[0m \u001b[0mKeyError\u001b[0m\u001b[1;33m(\u001b[0m\u001b[0mkey\u001b[0m\u001b[1;33m)\u001b[0m \u001b[1;32mfrom\u001b[0m \u001b[0merr\u001b[0m\u001b[1;33m\u001b[0m\u001b[1;33m\u001b[0m\u001b[0m\n\u001b[0m\u001b[0;32m   2898\u001b[0m \u001b[1;33m\u001b[0m\u001b[0m\n\u001b[0;32m   2899\u001b[0m         \u001b[1;32mif\u001b[0m \u001b[0mtolerance\u001b[0m \u001b[1;32mis\u001b[0m \u001b[1;32mnot\u001b[0m \u001b[1;32mNone\u001b[0m\u001b[1;33m:\u001b[0m\u001b[1;33m\u001b[0m\u001b[1;33m\u001b[0m\u001b[0m\n",
      "\u001b[1;31mKeyError\u001b[0m: 'prate'"
     ]
    }
   ],
   "source": []
  },
  {
   "cell_type": "code",
   "execution_count": null,
   "metadata": {},
   "outputs": [],
   "source": [
    "b"
   ]
  },
  {
   "cell_type": "code",
   "execution_count": null,
   "metadata": {},
   "outputs": [],
   "source": [
    "plt.plot(s)"
   ]
  },
  {
   "cell_type": "code",
   "execution_count": null,
   "metadata": {},
   "outputs": [],
   "source": []
  }
 ],
 "metadata": {
  "kernelspec": {
   "display_name": "Python 3",
   "language": "python",
   "name": "python3"
  },
  "language_info": {
   "codemirror_mode": {
    "name": "ipython",
    "version": 3
   },
   "file_extension": ".py",
   "mimetype": "text/x-python",
   "name": "python",
   "nbconvert_exporter": "python",
   "pygments_lexer": "ipython3",
   "version": "3.7.6"
  }
 },
 "nbformat": 4,
 "nbformat_minor": 4
}
