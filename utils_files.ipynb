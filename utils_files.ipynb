{
 "cells": [
  {
   "cell_type": "code",
   "execution_count": 1,
   "metadata": {},
   "outputs": [],
   "source": [
    "import os, errno, shutil\n",
    "from pathlib import Path\n",
    "\n",
    "\n",
    "def remove_file_dir(path, is_dir = False):\n",
    "    try:\n",
    "        if(is_dir):\n",
    "            shutil.rmtree(path=path)\n",
    "        else:\n",
    "            os.remove(path=path)\n",
    "    except OSError as e:  # this would be \"except OSError, e:\" before Python 2.6\n",
    "        if e.errno != errno.ENOENT:  # errno.ENOENT = no such file or directory\n",
    "            raise  # re-raise exception if a different error occurred\n",
    "\n",
    "def make_dir(path):\n",
    "    os.makedirs(os.path.dirname(path), exist_ok=True)\n",
    "\n",
    "def clear_dir(path):\n",
    "    remove_file_dir(path, is_dir=True)\n",
    "    make_dir(path)\n",
    "\n",
    "def read_file_into_array(file_name):\n",
    "    with open(file_name) as f:\n",
    "        content = f.readlines()\n",
    "    # you may also want to remove whitespace characters like `\\n` at the end of each line\n",
    "    content = [x.strip() for x in content]\n",
    "    return content\n",
    "\n",
    "\n",
    "def check_if_exists(path):\n",
    "    file_or_dir = Path(path)\n",
    "    if file_or_dir.exists():\n",
    "        return True\n",
    "    return False\n",
    "\n",
    "\n",
    "def add_row_to_csv(path, headers, values):\n",
    "    if not os.path.exists(path):\n",
    "        file = open(path, 'w+')\n",
    "        file.write(','.join(map(str, headers)) + '\\n')\n",
    "    else:\n",
    "        file = open(path, 'a')\n",
    "    file.write(','.join(map(str, values)) + '\\n')"
   ]
  },
  {
   "cell_type": "code",
   "execution_count": null,
   "metadata": {},
   "outputs": [],
   "source": []
  }
 ],
 "metadata": {
  "kernelspec": {
   "display_name": "Python 3",
   "language": "python",
   "name": "python3"
  },
  "language_info": {
   "codemirror_mode": {
    "name": "ipython",
    "version": 3
   },
   "file_extension": ".py",
   "mimetype": "text/x-python",
   "name": "python",
   "nbconvert_exporter": "python",
   "pygments_lexer": "ipython3",
   "version": "3.7.6"
  }
 },
 "nbformat": 4,
 "nbformat_minor": 4
}
